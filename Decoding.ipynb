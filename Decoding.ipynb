{
  "nbformat": 4,
  "nbformat_minor": 0,
  "metadata": {
    "colab": {
      "name": "Decoding.ipynb",
      "provenance": []
    },
    "kernelspec": {
      "name": "python3",
      "display_name": "Python 3"
    },
    "language_info": {
      "name": "python"
    }
  },
  "cells": [
    {
      "cell_type": "code",
      "metadata": {
        "id": "S0xHypHXdhpn"
      },
      "source": [
        "import librosa\n",
        "import numpy as np\n",
        "import matplotlib.pyplot as plt\n",
        "import soundfile as sf\n",
        "import IPython.display as ipd\n",
        "import pandas as pd\n",
        "from collections import deque"
      ],
      "execution_count": null,
      "outputs": []
    },
    {
      "cell_type": "code",
      "metadata": {
        "colab": {
          "base_uri": "https://localhost:8080/"
        },
        "id": "Zo34ij28dlMs",
        "outputId": "ab0fcb20-8b54-43dc-d8cd-f2c6fb565f72"
      },
      "source": [
        "from google.colab import drive\n",
        "drive.flush_and_unmount()\n",
        "drive.mount('/content/drive', force_remount=True)"
      ],
      "execution_count": null,
      "outputs": [
        {
          "output_type": "stream",
          "name": "stdout",
          "text": [
            "Drive not mounted, so nothing to flush and unmount.\n",
            "Mounted at /content/drive\n"
          ]
        }
      ]
    },
    {
      "cell_type": "code",
      "metadata": {
        "id": "mhFDxeQQqrfu"
      },
      "source": [
        "SAMPLING_RATE=16000\n",
        "DURATION=10\n",
        "N_FFT = 1024\n",
        "WIN_LENGTH = 1024\n",
        "HOP_LENGTH = 512"
      ],
      "execution_count": null,
      "outputs": []
    },
    {
      "cell_type": "code",
      "metadata": {
        "id": "8DzqokmJWgN4"
      },
      "source": [
        "X = np.load('/content/drive/MyDrive/val_set/processed_data/combined_spectrogram.npy')"
      ],
      "execution_count": null,
      "outputs": []
    },
    {
      "cell_type": "code",
      "metadata": {
        "colab": {
          "base_uri": "https://localhost:8080/"
        },
        "id": "OaP1Dg_MWr7d",
        "outputId": "36239ff1-e33d-4803-cd49-4de3a489df15"
      },
      "source": [
        "print(X.shape)\n"
      ],
      "execution_count": null,
      "outputs": [
        {
          "output_type": "stream",
          "name": "stdout",
          "text": [
            "(717, 513, 313)\n"
          ]
        }
      ]
    },
    {
      "cell_type": "code",
      "metadata": {
        "id": "vsk4K0G2qGps"
      },
      "source": [
        "def to_time(iteration, frame_size=WIN_LENGTH, rate=SAMPLING_RATE, hop_size=HOP_LENGTH, duration=DURATION):\n",
        "  total_iterations = int(np.ceil((DURATION*SAMPLING_RATE)/(hop_size)))\n",
        "  return (float(iteration)/float(total_iterations))*DURATION"
      ],
      "execution_count": null,
      "outputs": []
    },
    {
      "cell_type": "code",
      "metadata": {
        "id": "DoirTZsVyyXi"
      },
      "source": [
        "def dilate(X, span=2):\n",
        "  X_dilated = []\n",
        "  for i in range(len(X)):\n",
        "    count = {'silence':0, 'speech':0, 'music':0}\n",
        "    for j in range(max(0, i-span), min(len(X), i+span)):\n",
        "      count[X[j]] = count[X[j]] + 1\n",
        "    keymax = max(zip(count.values(), count.keys()))[1]\n",
        "    X_dilated.append(keymax)\n",
        "  return X_dilated"
      ],
      "execution_count": null,
      "outputs": []
    },
    {
      "cell_type": "code",
      "metadata": {
        "id": "9E0icT4TeK7w"
      },
      "source": [
        "def Decode(predicted, frame_size=WIN_LENGTH, sr=SAMPLING_RATE, min_event_duration=0.5):\n",
        "  ans = []\n",
        "  predicted = dilate(predicted)\n",
        "  prevclass = 'silence'\n",
        "  curclass = 'silence'\n",
        "  start = 0\n",
        "  end = 0\n",
        "\n",
        "  for i in range(len(predicted)):\n",
        "    curclass = predicted[i]\n",
        "    if(curclass != prevclass):\n",
        "        if(prevclass != 'silence'):\n",
        "          ans.append((start, to_time(i), prevclass))\n",
        "        # the prev class has ended\n",
        "        prevclass = curclass\n",
        "        # the start time of the current class is now\n",
        "        start = to_time(i)\n",
        "  if(curclass !='silence'):\n",
        "    ans.append((start, to_time(len(predicted)), curclass))\n",
        "  # Combining adjacent classes (Dilation)\n",
        "  compressed_ans = []\n",
        "  pc = ans[0]\n",
        "  for i in range(len(ans)-1):  \n",
        "    cc = ans[i]\n",
        "    nc = ans[i+1]\n",
        "\n",
        "    if(nc[2] != cc[2]):\n",
        "      compressed_ans.append(pc)\n",
        "      pc = nc\n",
        "    else:\n",
        "      if(nc[0] - pc[1] >= min_event_duration):\n",
        "        compressed_ans.append(pc)\n",
        "        pc=nc\n",
        "      else:\n",
        "        pc = (pc[0], nc[1], pc[2])\n",
        "  compressed_ans.append(pc)    \n",
        "  \n",
        "  final_ans = []\n",
        "  # Erosion\n",
        "  for i in range(len(compressed_ans)):\n",
        "    if(compressed_ans[i][1] - compressed_ans[i][0] > min_event_duration):\n",
        "      final_ans.append(compressed_ans[i])\n",
        "  return final_ans"
      ],
      "execution_count": null,
      "outputs": []
    },
    {
      "cell_type": "code",
      "metadata": {
        "id": "vMvsIPGz1XJ_"
      },
      "source": [
        "predictions=[]\n",
        "for i in range(132):\n",
        "  predictions.append('music')\n",
        "for i in range(100):\n",
        "  predictions.append('silence')\n",
        "for i in range(43):\n",
        "  predictions.append('speech')\n",
        "for i in range(38):\n",
        "  predictions.append('silence')\n",
        "\n",
        "A = predictions.copy()"
      ],
      "execution_count": null,
      "outputs": []
    },
    {
      "cell_type": "code",
      "metadata": {
        "id": "UmkXzpmvwc6t",
        "colab": {
          "base_uri": "https://localhost:8080/"
        },
        "outputId": "6a5020f4-e2a8-499b-eb2d-76f0869b44ff"
      },
      "source": [
        "ans = Decode(predictions)\n",
        "print(ans)"
      ],
      "execution_count": null,
      "outputs": [
        {
          "output_type": "stream",
          "name": "stdout",
          "text": [
            "[(0.0, 4.217252396166134, 'music'), (7.412140575079872, 8.817891373801917, 'speech')]\n"
          ]
        }
      ]
    }
  ]
}