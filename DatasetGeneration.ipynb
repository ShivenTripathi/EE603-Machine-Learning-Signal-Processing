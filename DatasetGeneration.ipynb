{
  "nbformat": 4,
  "nbformat_minor": 0,
  "metadata": {
    "colab": {
      "name": "DatasetGeneration.ipynb",
      "provenance": []
    },
    "kernelspec": {
      "name": "python3",
      "display_name": "Python 3"
    },
    "language_info": {
      "name": "python"
    }
  },
  "cells": [
    {
      "cell_type": "code",
      "metadata": {
        "id": "IBkp4RdcFeV9"
      },
      "source": [
        "import librosa\n",
        "import numpy as np\n",
        "import matplotlib.pyplot as plt\n",
        "import soundfile as sf\n",
        "import IPython.display as ipd\n",
        "import pandas as pd"
      ],
      "execution_count": null,
      "outputs": []
    },
    {
      "cell_type": "code",
      "metadata": {
        "colab": {
          "base_uri": "https://localhost:8080/"
        },
        "id": "mNoiHvOZFtQO",
        "outputId": "6a0ca7a9-89f6-4f3c-f621-6cd3f4cdd839"
      },
      "source": [
        "from google.colab import drive\n",
        "drive.mount('/content/drive', force_remount=True)"
      ],
      "execution_count": null,
      "outputs": [
        {
          "output_type": "stream",
          "name": "stdout",
          "text": [
            "Mounted at /content/drive\n"
          ]
        }
      ]
    },
    {
      "cell_type": "code",
      "metadata": {
        "id": "kL7FSsoVLZpq"
      },
      "source": [
        "  SAMPLING_RATE = 16000\n",
        "  DURATION = 10\n",
        "  DATA_PER_CLASS = 60*40*SAMPLING_RATE"
      ],
      "execution_count": null,
      "outputs": []
    },
    {
      "cell_type": "code",
      "metadata": {
        "id": "D5Qux6kHF5oW"
      },
      "source": [
        "A, _ = librosa.load('/content/drive/MyDrive/val_set/speech_and_music/speech_indian.wav', sr=SAMPLING_RATE)\n",
        "A = A[:DATA_PER_CLASS]"
      ],
      "execution_count": null,
      "outputs": []
    },
    {
      "cell_type": "code",
      "metadata": {
        "id": "UoILBio_NfF2",
        "colab": {
          "base_uri": "https://localhost:8080/"
        },
        "outputId": "426849bd-592c-4772-b37b-a95d848aeb5d"
      },
      "source": [
        "B, _ = librosa.load('/content/drive/MyDrive/val_set/speech_and_music/music_long.wav', sr=SAMPLING_RATE)\n",
        "B = B[:DATA_PER_CLASS]\n",
        "print(B.shape)"
      ],
      "execution_count": null,
      "outputs": [
        {
          "output_type": "stream",
          "name": "stdout",
          "text": [
            "(38400000,)\n"
          ]
        }
      ]
    },
    {
      "cell_type": "code",
      "metadata": {
        "id": "75mTs3TGRjP_"
      },
      "source": [
        "C = np.zeros((DATA_PER_CLASS))"
      ],
      "execution_count": null,
      "outputs": []
    },
    {
      "cell_type": "code",
      "metadata": {
        "id": "pMJfSuMgOXmy"
      },
      "source": [
        "noise = np.random.rand((DURATION*SAMPLING_RATE))\n",
        "noise = noise*2\n",
        "noise = noise - 1"
      ],
      "execution_count": null,
      "outputs": []
    },
    {
      "cell_type": "code",
      "metadata": {
        "colab": {
          "base_uri": "https://localhost:8080/"
        },
        "id": "11misHMbKwE9",
        "outputId": "9fec49b1-1762-48e4-96f5-26d3cef99b44"
      },
      "source": [
        "SPEECH_SIZE = A.shape[0]\n",
        "endpt = (DURATION*SAMPLING_RATE)*int(SPEECH_SIZE/(DURATION*SAMPLING_RATE))\n",
        "X_speech = A[:endpt]\n",
        "X_speech = np.resize(X_speech, (-1, DURATION*SAMPLING_RATE))\n",
        "y_speech = np.array(['speech']*len(X_speech))\n",
        "print(X_speech.shape)"
      ],
      "execution_count": null,
      "outputs": [
        {
          "output_type": "stream",
          "name": "stdout",
          "text": [
            "(239, 160000)\n"
          ]
        }
      ]
    },
    {
      "cell_type": "code",
      "metadata": {
        "colab": {
          "base_uri": "https://localhost:8080/"
        },
        "id": "Csa1pNw3G6OC",
        "outputId": "a8d51ded-cc97-496d-9d51-3224de641de8"
      },
      "source": [
        "MUSIC_SIZE = B.shape[0]\n",
        "endpt = (DURATION*SAMPLING_RATE)*int(MUSIC_SIZE/(DURATION*SAMPLING_RATE))\n",
        "X_music = B[:endpt]\n",
        "X_music = np.resize(X_music, (-1, DURATION*SAMPLING_RATE))\n",
        "y_music = np.array(['music']*len(X_music))\n",
        "print(X_music.shape)"
      ],
      "execution_count": null,
      "outputs": [
        {
          "output_type": "stream",
          "name": "stdout",
          "text": [
            "(239, 160000)\n"
          ]
        }
      ]
    },
    {
      "cell_type": "code",
      "metadata": {
        "colab": {
          "base_uri": "https://localhost:8080/"
        },
        "id": "UlwolHQdQWdJ",
        "outputId": "0cacbc52-4c0e-4ab6-e6a4-700edd430c2b"
      },
      "source": [
        "SILENCE_SIZE = C.shape[0]\n",
        "endpt = (DURATION*SAMPLING_RATE)*int(SILENCE_SIZE/(DURATION*SAMPLING_RATE))\n",
        "X_silence = C[:endpt]\n",
        "X_silence = np.resize(X_silence, (-1, DURATION*SAMPLING_RATE))\n",
        "y_silence = np.array(['silence']*len(X_silence))\n",
        "print(X_silence.shape)"
      ],
      "execution_count": null,
      "outputs": [
        {
          "output_type": "stream",
          "name": "stdout",
          "text": [
            "(239, 160000)\n"
          ]
        }
      ]
    },
    {
      "cell_type": "code",
      "metadata": {
        "id": "duwTwmtgVvSK"
      },
      "source": [
        "# Randomly add white noise\n",
        "X = np.concatenate([X_speech, X_music, X_silence])\n",
        "y = np.concatenate([y_speech, y_music, y_silence])\n",
        "\n",
        "for i in range(X.shape[0]):\n",
        "    # Adding 0 to 10 percent noise randomly to each sound\n",
        "    X[i] = X[i] + noise*(np.random.randint(10)/100)\n"
      ],
      "execution_count": null,
      "outputs": []
    },
    {
      "cell_type": "code",
      "metadata": {
        "id": "MKIv3tFHaO_T"
      },
      "source": [
        "from sklearn.utils import shuffle\n",
        "X, y = shuffle(X, y)"
      ],
      "execution_count": null,
      "outputs": []
    },
    {
      "cell_type": "code",
      "metadata": {
        "id": "LLbxxckLb228"
      },
      "source": [
        "np.save('/content/drive/MyDrive/val_set/processed_data/X', X)"
      ],
      "execution_count": null,
      "outputs": []
    },
    {
      "cell_type": "code",
      "metadata": {
        "id": "V_B8Ccpbc16M"
      },
      "source": [
        "np.save('/content/drive/MyDrive/val_set/processed_data/y', y)"
      ],
      "execution_count": null,
      "outputs": []
    },
    {
      "cell_type": "code",
      "metadata": {
        "id": "HhQofAWc4E9j"
      },
      "source": [
        "X = np.load('/content/drive/MyDrive/val_set/processed_data/X.npy')"
      ],
      "execution_count": null,
      "outputs": []
    },
    {
      "cell_type": "code",
      "metadata": {
        "id": "uNkf_9X24efH"
      },
      "source": [
        "def calc_spec(x):\n",
        "    n_fft = 1024\n",
        "    hop_length = 512\n",
        "    win_length = 1024\n",
        "    X = np.abs(librosa.stft(x, n_fft = n_fft, hop_length = hop_length, win_length = win_length, window='hann', dtype = np.complex256))\n",
        "    X = librosa.power_to_db(X**2,ref=np.max)\n",
        "    return X"
      ],
      "execution_count": null,
      "outputs": []
    },
    {
      "cell_type": "code",
      "metadata": {
        "id": "ikj1USoj5Ftc"
      },
      "source": [
        "from tqdm import tqdm"
      ],
      "execution_count": null,
      "outputs": []
    },
    {
      "cell_type": "code",
      "metadata": {
        "id": "G0266UMh4KZ6"
      },
      "source": [
        "def convert2spect(X):\n",
        "  X_spectrograms = []\n",
        "  for i in tqdm(X):\n",
        "    X_spectrograms.append(calc_spec(i))\n",
        "  return np.array(X_spectrograms)"
      ],
      "execution_count": null,
      "outputs": []
    },
    {
      "cell_type": "code",
      "metadata": {
        "colab": {
          "base_uri": "https://localhost:8080/"
        },
        "id": "R_P9PLI44UQr",
        "outputId": "d678e906-9415-446b-91e6-165b9f6eb92c"
      },
      "source": [
        "A = convert2spect(X)\n",
        "print(A.shape)"
      ],
      "execution_count": null,
      "outputs": [
        {
          "output_type": "stream",
          "name": "stderr",
          "text": [
            "100%|██████████| 717/717 [00:22<00:00, 32.43it/s]\n"
          ]
        },
        {
          "output_type": "stream",
          "name": "stdout",
          "text": [
            "(717, 513, 313)\n"
          ]
        }
      ]
    },
    {
      "cell_type": "code",
      "metadata": {
        "id": "oMVmhRKC4y6v"
      },
      "source": [
        "np.save('/content/drive/MyDrive/val_set/processed_data/combined_spectrogram.npy', A)"
      ],
      "execution_count": null,
      "outputs": []
    },
    {
      "cell_type": "code",
      "metadata": {
        "colab": {
          "base_uri": "https://localhost:8080/"
        },
        "id": "ILWcUILA5gV3",
        "outputId": "1f13be0d-3956-4e85-da2a-ca4f0813f180"
      },
      "source": [
        "print(X.shape)"
      ],
      "execution_count": null,
      "outputs": [
        {
          "output_type": "stream",
          "name": "stdout",
          "text": [
            "(717, 160000)\n"
          ]
        }
      ]
    },
    {
      "cell_type": "code",
      "metadata": {
        "id": "oy5vuZBJ7Csm"
      },
      "source": [
        ""
      ],
      "execution_count": null,
      "outputs": []
    }
  ]
}