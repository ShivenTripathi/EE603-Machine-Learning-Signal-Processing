{
  "nbformat": 4,
  "nbformat_minor": 0,
  "metadata": {
    "colab": {
      "name": "CNN.ipynb",
      "provenance": [],
      "collapsed_sections": []
    },
    "kernelspec": {
      "name": "python3",
      "display_name": "Python 3"
    },
    "language_info": {
      "name": "python"
    },
    "accelerator": "GPU"
  },
  "cells": [
    {
      "cell_type": "code",
      "metadata": {
        "id": "1-jwXWtAj0Pk"
      },
      "source": [
        "import librosa\n",
        "import numpy as np\n",
        "import matplotlib.pyplot as plt\n",
        "import soundfile as sf\n",
        "import IPython.display as ipd\n",
        "import pandas as pd\n",
        "from tqdm import tqdm\n",
        "from sklearn.model_selection import train_test_split"
      ],
      "execution_count": null,
      "outputs": []
    },
    {
      "cell_type": "code",
      "metadata": {
        "id": "cyeUUdL8kFcl"
      },
      "source": [
        "from google.colab import drive\n",
        "drive.flush_and_unmount()\n",
        "drive.mount('/content/drive', force_remount=True)"
      ],
      "execution_count": null,
      "outputs": []
    },
    {
      "cell_type": "code",
      "metadata": {
        "id": "0hlZhXLAnsHW"
      },
      "source": [
        "SAMPLING_RATE=16000\n",
        "DURATION=10\n",
        "N_FFT = 1024\n",
        "WIN_LENGTH = 1024\n",
        "HOP_LENGTH = 512"
      ],
      "execution_count": null,
      "outputs": []
    },
    {
      "cell_type": "code",
      "metadata": {
        "id": "dkXKRawwk0xv"
      },
      "source": [
        "X = np.load('/content/drive/MyDrive/val_set/processed_data/combined_spectrogram.npy')\n",
        "print(X.shape)\n",
        "y = np.load('/content/drive/MyDrive/val_set/processed_data/y.npy')\n",
        "print(y.shape)"
      ],
      "execution_count": null,
      "outputs": []
    },
    {
      "cell_type": "code",
      "metadata": {
        "id": "7QbbWmbsWhlL"
      },
      "source": [
        "def one_hot_enc(cl_name):\n",
        "  if(cl_name == 'music'):\n",
        "    return np.array([0,1,0])\n",
        "  elif(cl_name == 'speech'):\n",
        "    return np.array([1,0,0])\n",
        "  else:\n",
        "    return np.array([0,0,1])"
      ],
      "execution_count": null,
      "outputs": []
    },
    {
      "cell_type": "code",
      "metadata": {
        "id": "oq4tyJmEWe81"
      },
      "source": [
        "def string2ohv(y):\n",
        "  y_ohv = []\n",
        "  for i in y:\n",
        "    y_ohv.append(one_hot_enc(i))\n",
        "  return np.array(y_ohv)"
      ],
      "execution_count": null,
      "outputs": []
    },
    {
      "cell_type": "code",
      "metadata": {
        "colab": {
          "base_uri": "https://localhost:8080/"
        },
        "id": "Me1oY9xAqNfT",
        "outputId": "08fddf36-d0ed-4801-d592-686a6ee8ed5f"
      },
      "source": [
        "from sklearn.model_selection import train_test_split\n",
        "X_train, X_test, y_train, y_test = train_test_split(X, y, test_size=0.15)\n",
        "print(X_train.shape)\n",
        "print(X_test.shape)"
      ],
      "execution_count": null,
      "outputs": [
        {
          "output_type": "stream",
          "name": "stdout",
          "text": [
            "(609, 513, 313)\n",
            "(108, 513, 313)\n"
          ]
        }
      ]
    },
    {
      "cell_type": "code",
      "metadata": {
        "colab": {
          "base_uri": "https://localhost:8080/"
        },
        "id": "zh_rhESIxAW0",
        "outputId": "ac92d62b-1f2f-4e3e-bedd-70bbbe3a2a54"
      },
      "source": [
        "# Reshape the data \n",
        "X_train_reshaped = []\n",
        "for i in range(len(X_train)):\n",
        "  X_train_reshaped.append(np.transpose(X_train[i]))\n",
        "X_train_reshaped = np.array(X_train_reshaped)\n",
        "X_train_reshaped = X_train_reshaped.reshape((-1, 513))\n",
        "print(X_train_reshaped.shape)"
      ],
      "execution_count": null,
      "outputs": [
        {
          "output_type": "stream",
          "name": "stdout",
          "text": [
            "(190617, 513)\n"
          ]
        }
      ]
    },
    {
      "cell_type": "code",
      "metadata": {
        "id": "-y1glyUCW9ef"
      },
      "source": [
        "y_test = string2ohv(y_test)\n",
        "y_train = string2ohv(y_train)"
      ],
      "execution_count": null,
      "outputs": []
    },
    {
      "cell_type": "code",
      "metadata": {
        "id": "Osgmzgl5TtuF"
      },
      "source": [
        "import tensorflow as tf\n",
        "from tensorflow.keras import Sequential\n",
        "from tensorflow.keras.layers import Conv2D, MaxPool2D, Dense, Flatten, Dropout, TimeDistributed, LSTM\n"
      ],
      "execution_count": null,
      "outputs": []
    },
    {
      "cell_type": "code",
      "metadata": {
        "id": "vcmkBOKhToaK"
      },
      "source": [
        "def get_conv_model():\n",
        "  model = Sequential()\n",
        "  model.add(Conv2D(16, (3,3), activation='relu', strides=(1,1),\n",
        "                   padding='same', input_shape=input_shape))\n",
        "  model.add(Conv2D(32, (3,3), activation='relu', strides=(1,1),\n",
        "                   padding='same'))\n",
        "  model.add(Conv2D(64, (3,3), activation='relu', strides=(1,1),\n",
        "                   padding='same'))\n",
        "  model.add(Conv2D(128, (3,3), activation='relu', strides=(1,1),\n",
        "                   padding='same'))\n",
        "  model.add(MaxPool2D((2,2)))\n",
        "  model.add(Dropout(0.5))\n",
        "  model.add(Flatten())\n",
        "  model.add(Dense(128, activation='relu'))\n",
        "  model.add(Dense(32, activation='relu'))\n",
        "  model.add(Dense(3, activation='softmax'))\n",
        "  model.summary()\n",
        "  model.compile(loss='categorical_crossentropy', \n",
        "                optimizer='adam', metrics=['accuracy'])\n",
        "  return model"
      ],
      "execution_count": null,
      "outputs": []
    },
    {
      "cell_type": "code",
      "metadata": {
        "id": "-s7oeH-Bl9Uc"
      },
      "source": [
        "def get_features(X, feat='mfcc', n_mfcc=20, n_fft=1024, hop_length=512):\n",
        "  if(feat=='mfcc'):\n",
        "    X_mfcc = []\n",
        "    for sample in tqdm(X):\n",
        "      mfcc_sample = librosa.feature.mfcc(sample, n_mfcc=20, sr=SAMPLING_RATE, n_fft=n_fft, hop_length=hop_length)  \n",
        "      X_mfcc.append(mfcc_sample)\n",
        "    X_mfcc = np.array(X_mfcc)\n",
        "    return X_mfcc\n",
        "  \n",
        "  if(feat=='zcr'):\n",
        "    X_zcr = []\n",
        "    for sample in tqdm(X):\n",
        "      zcr_total = librosa.feature.zero_crossing_rate(sample, frame_length=n_fft, hop_length=hop_length)  \n",
        "      X_zcr.append(zcr_total)\n",
        "    X_zcr = np.array(X_zcr)\n",
        "    print(X_zcr.shape)\n",
        "    return X_zcr\n",
        "\n",
        "  if(feat=='rms'):\n",
        "    X_rms = []\n",
        "    for sample in tqdm(X):\n",
        "      rms_energy = librosa.feature.rms(sample, frame_length=n_fft, hop_length=hop_length)  \n",
        "      X_rms.append(rms_energy)\n",
        "    X_rms = np.array(X_rms)\n",
        "    print(X_rms.shape)\n",
        "    return X_rms"
      ],
      "execution_count": null,
      "outputs": []
    },
    {
      "cell_type": "code",
      "metadata": {
        "id": "PchXDbQ2aoRl"
      },
      "source": [
        "def get_rec_model():\n",
        "  # the shape of the data needs to be (n, time, features)\n",
        "  model = Sequential()\n",
        "  model.add(LSTM(128, return_sequences=True, input_shape=input_shape))\n",
        "  model.add(LSTM(128, return_sequences=True))\n",
        "  model.add(Dropout(0.5))\n",
        "  model.add(TimeDistributed(Dense(64, activation='relu')))\n",
        "  model.add(TimeDistributed(Dense(32, activation='relu')))\n",
        "  model.add(TimeDistributed(Dense(16, activation='relu')))\n",
        "  model.add(TimeDistributed(Dense(8, activation='relu')))\n",
        "  model.add(Flatten())\n",
        "  model.add(Dense(3, activation='softmax'))\n",
        "  model.summary()\n",
        "  model.compile(loss='categorical_crossentropy', \n",
        "                optimizer='adam', metrics=['accuracy'])\n",
        "  return model  "
      ],
      "execution_count": null,
      "outputs": []
    },
    {
      "cell_type": "code",
      "metadata": {
        "id": "DcAJHsg-RJ35"
      },
      "source": [
        "input_shape = (X_train.shape[1], X_train.shape[2], 1)\n",
        "model = get_conv_model()\n",
        "model.fit(X_train, y_train, epochs=10, batch_size=32, shuffle=True, validation_data=(X_test, y_test))"
      ],
      "execution_count": null,
      "outputs": []
    },
    {
      "cell_type": "code",
      "metadata": {
        "id": "F6QqSyMLvo1A"
      },
      "source": [
        "def transpose_data(X):\n",
        "  X_transpose = []\n",
        "  for s in X:\n",
        "    n = np.transpose(s)\n",
        "    X_transpose.append(n)\n",
        "  return np.array(X_transpose)"
      ],
      "execution_count": null,
      "outputs": []
    },
    {
      "cell_type": "code",
      "metadata": {
        "id": "rmbShCswv9F1"
      },
      "source": [
        "X_train = transpose_data(X_train)\n",
        "X_test = transpose_data(X_test)"
      ],
      "execution_count": null,
      "outputs": []
    },
    {
      "cell_type": "code",
      "metadata": {
        "colab": {
          "base_uri": "https://localhost:8080/"
        },
        "id": "k0wYOMXdY0JP",
        "outputId": "34afe0ec-53ad-4b73-f2cf-28b14968e3b0"
      },
      "source": [
        "input_shape = (X_train.shape[1], X_train.shape[2])\n",
        "model = get_rec_model()\n",
        "model.fit(X_train, y_train, epochs=10, batch_size=32, shuffle=True, validation_data=(X_test, y_test))"
      ],
      "execution_count": null,
      "outputs": [
        {
          "output_type": "stream",
          "name": "stdout",
          "text": [
            "Model: \"sequential_2\"\n",
            "_________________________________________________________________\n",
            " Layer (type)                Output Shape              Param #   \n",
            "=================================================================\n",
            " lstm (LSTM)                 (None, 4, 128)            76288     \n",
            "                                                                 \n",
            " lstm_1 (LSTM)               (None, 4, 128)            131584    \n",
            "                                                                 \n",
            " dropout (Dropout)           (None, 4, 128)            0         \n",
            "                                                                 \n",
            " time_distributed (TimeDistr  (None, 4, 64)            8256      \n",
            " ibuted)                                                         \n",
            "                                                                 \n",
            " time_distributed_1 (TimeDis  (None, 4, 32)            2080      \n",
            " tributed)                                                       \n",
            "                                                                 \n",
            " time_distributed_2 (TimeDis  (None, 4, 16)            528       \n",
            " tributed)                                                       \n",
            "                                                                 \n",
            " time_distributed_3 (TimeDis  (None, 4, 8)             136       \n",
            " tributed)                                                       \n",
            "                                                                 \n",
            " flatten (Flatten)           (None, 32)                0         \n",
            "                                                                 \n",
            " dense_4 (Dense)             (None, 3)                 99        \n",
            "                                                                 \n",
            "=================================================================\n",
            "Total params: 218,971\n",
            "Trainable params: 218,971\n",
            "Non-trainable params: 0\n",
            "_________________________________________________________________\n",
            "Epoch 1/10\n",
            "1434/1434 [==============================] - 23s 10ms/step - loss: 0.2267 - accuracy: 0.9218 - val_loss: 0.1733 - val_accuracy: 0.9467\n",
            "Epoch 2/10\n",
            "1434/1434 [==============================] - 13s 9ms/step - loss: 0.1546 - accuracy: 0.9512 - val_loss: 0.1409 - val_accuracy: 0.9567\n",
            "Epoch 3/10\n",
            "1434/1434 [==============================] - 14s 10ms/step - loss: 0.1418 - accuracy: 0.9562 - val_loss: 0.1542 - val_accuracy: 0.9522\n",
            "Epoch 4/10\n",
            "1434/1434 [==============================] - 14s 10ms/step - loss: 0.1304 - accuracy: 0.9603 - val_loss: 0.1386 - val_accuracy: 0.9560\n",
            "Epoch 5/10\n",
            "1434/1434 [==============================] - 14s 10ms/step - loss: 0.1223 - accuracy: 0.9631 - val_loss: 0.1283 - val_accuracy: 0.9606\n",
            "Epoch 6/10\n",
            "1434/1434 [==============================] - 14s 10ms/step - loss: 0.1203 - accuracy: 0.9631 - val_loss: 0.1396 - val_accuracy: 0.9586\n",
            "Epoch 7/10\n",
            "1434/1434 [==============================] - 14s 10ms/step - loss: 0.1130 - accuracy: 0.9652 - val_loss: 0.1282 - val_accuracy: 0.9616\n",
            "Epoch 8/10\n",
            "1434/1434 [==============================] - 13s 9ms/step - loss: 0.1082 - accuracy: 0.9667 - val_loss: 0.1245 - val_accuracy: 0.9612\n",
            "Epoch 9/10\n",
            "1434/1434 [==============================] - 13s 9ms/step - loss: 0.1058 - accuracy: 0.9672 - val_loss: 0.1322 - val_accuracy: 0.9589\n",
            "Epoch 10/10\n",
            "1434/1434 [==============================] - 13s 9ms/step - loss: 0.1012 - accuracy: 0.9693 - val_loss: 0.1284 - val_accuracy: 0.9629\n"
          ]
        },
        {
          "output_type": "execute_result",
          "data": {
            "text/plain": [
              "<keras.callbacks.History at 0x7fc2e095dfd0>"
            ]
          },
          "metadata": {},
          "execution_count": 34
        }
      ]
    },
    {
      "cell_type": "code",
      "metadata": {
        "id": "dJSEXl1928cg"
      },
      "source": [
        "# def consensusDecoder(y, spec):\n",
        "#     n_fft = 1024\n",
        "#     hop_length = 512\n",
        "#     win_length = 1024\n",
        "#     # X = np.abs(librosa.stft(x, n_fft = n_fft, hop_length = hop_length, win_length = win_length, window='hann', dtype = np.complex256))\n",
        "#     # X = librosa.power_to_db(X**2,ref=np.max)\n",
        "\n",
        "#     n_overlap = win_length//hop_length \n",
        "#     # every 3 frames of spec, give one label in y, 0.1-0.2, 0.15-0.25, 0.25-0.35, resolution is 0.1 seconds\n",
        "#     # for every 0.1 seconds instance we will take consensus of predictions involved\n",
        "\n"
      ],
      "execution_count": null,
      "outputs": []
    }
  ]
}