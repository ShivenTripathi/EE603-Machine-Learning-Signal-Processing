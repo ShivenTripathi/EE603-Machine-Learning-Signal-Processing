{
  "nbformat": 4,
  "nbformat_minor": 0,
  "metadata": {
    "colab": {
      "name": "DNN.ipynb",
      "provenance": []
    },
    "kernelspec": {
      "name": "python3",
      "display_name": "Python 3"
    },
    "language_info": {
      "name": "python"
    },
    "accelerator": "GPU"
  },
  "cells": [
    {
      "cell_type": "code",
      "metadata": {
        "id": "FAyUwDRlUjeQ"
      },
      "source": [
        "import librosa\n",
        "import numpy as np\n",
        "import matplotlib.pyplot as plt\n",
        "import soundfile as sf\n",
        "import IPython.display as ipd\n",
        "import pandas as pd\n",
        "from tqdm import tqdm\n",
        "from sklearn.model_selection import train_test_split"
      ],
      "execution_count": null,
      "outputs": []
    },
    {
      "cell_type": "code",
      "metadata": {
        "colab": {
          "base_uri": "https://localhost:8080/"
        },
        "id": "xsERXDfmUm0H",
        "outputId": "8ac12fe6-b880-4f64-dd37-9acf5cd2b7a2"
      },
      "source": [
        "from google.colab import drive\n",
        "drive.mount('/content/drive')"
      ],
      "execution_count": null,
      "outputs": [
        {
          "output_type": "stream",
          "name": "stdout",
          "text": [
            "Drive already mounted at /content/drive; to attempt to forcibly remount, call drive.mount(\"/content/drive\", force_remount=True).\n"
          ]
        }
      ]
    },
    {
      "cell_type": "code",
      "metadata": {
        "id": "nFBrN9gbVQwt"
      },
      "source": [
        "SAMPLING_RATE=16000\n",
        "DURATION=10\n",
        "N_FFT = 1024\n",
        "WIN_LENGTH = 1024\n",
        "HOP_LENGTH = 512"
      ],
      "execution_count": null,
      "outputs": []
    },
    {
      "cell_type": "code",
      "metadata": {
        "colab": {
          "base_uri": "https://localhost:8080/"
        },
        "id": "Tx3mgGzoVSKs",
        "outputId": "35d1ea55-4510-49ed-b608-8b188f06598c"
      },
      "source": [
        "X = np.load('/content/drive/MyDrive/EE603_Project/combined_spectrogram.npy')\n",
        "print(X.shape)\n",
        "y = np.load('/content/drive/MyDrive/EE603_Project/y.npy')\n",
        "print(y.shape)"
      ],
      "execution_count": null,
      "outputs": [
        {
          "output_type": "stream",
          "name": "stdout",
          "text": [
            "(717, 513, 313)\n",
            "(717,)\n"
          ]
        }
      ]
    },
    {
      "cell_type": "code",
      "metadata": {
        "id": "MF8nmiPRVVEe"
      },
      "source": [
        "def reshape(X, y):\n",
        "  X_r = []\n",
        "  y_r = []\n",
        "  l = 0\n",
        "  m = 0\n",
        "  for i in range(len(X)):\n",
        "    cur = X[i]\n",
        "    l = cur.shape[1]\n",
        "    m = cur.shape[0]\n",
        "    cur_trans = np.transpose(cur)\n",
        "    X_r.append(cur_trans)\n",
        "    y_r.append([y[i]]*l)\n",
        "  \n",
        "  X_r = np.array(X_r)\n",
        "  y_r = np.array(y_r)\n",
        "  # print(X_r.shape)\n",
        "  # print(y_r.shape)\n",
        "  X_r = np.reshape(X_r, (-1,m))\n",
        "  y_r = np.reshape(y_r, (-1,1))\n",
        "  # print(X_r.shape)\n",
        "  # print(y_r.shape)\n",
        "  return X_r, y_r"
      ],
      "execution_count": null,
      "outputs": []
    },
    {
      "cell_type": "code",
      "metadata": {
        "colab": {
          "base_uri": "https://localhost:8080/"
        },
        "id": "PLLUf3UMYB7A",
        "outputId": "0361ce88-8071-4616-bd66-823f8f503684"
      },
      "source": [
        "X, y = reshape(X, y)\n",
        "print(X.shape)\n",
        "print(y.shape)"
      ],
      "execution_count": null,
      "outputs": [
        {
          "output_type": "stream",
          "name": "stdout",
          "text": [
            "(224421, 513)\n",
            "(224421, 1)\n"
          ]
        }
      ]
    },
    {
      "cell_type": "code",
      "metadata": {
        "id": "DRzw22__VY7s"
      },
      "source": [
        "def one_hot_enc(cl_name):\n",
        "  if(cl_name == 'music'):\n",
        "    return np.array([0,1,0])\n",
        "  elif(cl_name == 'speech'):\n",
        "    return np.array([1,0,0])\n",
        "  else:\n",
        "    return np.array([0,0,1])"
      ],
      "execution_count": null,
      "outputs": []
    },
    {
      "cell_type": "code",
      "metadata": {
        "id": "8vBmYfMwVaaD"
      },
      "source": [
        "def string2ohv(y):\n",
        "  y_ohv = []\n",
        "  for i in y:\n",
        "    y_ohv.append(one_hot_enc(i))\n",
        "  return np.array(y_ohv)"
      ],
      "execution_count": null,
      "outputs": []
    },
    {
      "cell_type": "code",
      "metadata": {
        "colab": {
          "base_uri": "https://localhost:8080/"
        },
        "id": "i1VajxnNbAXY",
        "outputId": "095d5bf8-d488-473a-a5a6-8d508fb4f7c0"
      },
      "source": [
        "y = string2ohv(y)\n",
        "print(y.shape)"
      ],
      "execution_count": null,
      "outputs": [
        {
          "output_type": "stream",
          "name": "stdout",
          "text": [
            "(224421, 3)\n"
          ]
        }
      ]
    },
    {
      "cell_type": "code",
      "metadata": {
        "id": "Ig9ZH1jGbK2A"
      },
      "source": [
        "X_train, X_test, y_train, y_test = train_test_split(X, y, test_size=0.15)"
      ],
      "execution_count": null,
      "outputs": []
    },
    {
      "cell_type": "code",
      "metadata": {
        "id": "1DQtQxwjV4Yv"
      },
      "source": [
        "import tensorflow as tf\n",
        "from tensorflow.keras import Sequential\n",
        "from tensorflow.keras.layers import Dense, Flatten, Dropout, TimeDistributed, LSTM"
      ],
      "execution_count": null,
      "outputs": []
    },
    {
      "cell_type": "code",
      "metadata": {
        "id": "sMDAzxtHVpvo"
      },
      "source": [
        "def get_DNN_model():\n",
        "  model = Sequential()\n",
        "  model.add(Flatten())\n",
        "  model.add(Dense(512, activation='relu'))\n",
        "  model.add(Dropout(0.25))\n",
        "  model.add(Dense(256, activation='relu'))\n",
        "  model.add(Dropout(0.5))\n",
        "  model.add(Dense(64, activation='relu'))\n",
        "  model.add(Dropout(0.25))\n",
        "  model.add(Dense(16, activation='relu'))\n",
        "  model.add(Dense(3, activation='softmax'))\n",
        "  # model.summary()\n",
        "  model.compile(loss='categorical_crossentropy', \n",
        "                optimizer='adam', metrics=['accuracy'])\n",
        "  return model"
      ],
      "execution_count": null,
      "outputs": []
    },
    {
      "cell_type": "code",
      "metadata": {
        "id": "vy_ehV3NXYpC",
        "colab": {
          "base_uri": "https://localhost:8080/"
        },
        "outputId": "e157aebd-cca8-4230-b191-f14ae1de4ff1"
      },
      "source": [
        "# input_shape = (X_train.shape[1], 1)\n",
        "model = get_DNN_model()\n",
        "model.fit(X_train, y_train, epochs=5, shuffle=True)"
      ],
      "execution_count": null,
      "outputs": [
        {
          "output_type": "stream",
          "name": "stdout",
          "text": [
            "Epoch 1/5\n",
            "5962/5962 [==============================] - 29s 5ms/step - loss: 0.6535 - accuracy: 0.6309\n",
            "Epoch 2/5\n",
            "5962/5962 [==============================] - 29s 5ms/step - loss: 0.4551 - accuracy: 0.7325\n",
            "Epoch 3/5\n",
            "5962/5962 [==============================] - 28s 5ms/step - loss: 0.3746 - accuracy: 0.8079\n",
            "Epoch 4/5\n",
            "5962/5962 [==============================] - 28s 5ms/step - loss: 0.3453 - accuracy: 0.8202\n",
            "Epoch 5/5\n",
            "5962/5962 [==============================] - 28s 5ms/step - loss: 0.3415 - accuracy: 0.8213\n"
          ]
        },
        {
          "output_type": "execute_result",
          "data": {
            "text/plain": [
              "<keras.callbacks.History at 0x7fc3af1d5810>"
            ]
          },
          "metadata": {},
          "execution_count": 24
        }
      ]
    },
    {
      "cell_type": "code",
      "metadata": {
        "id": "3vHHMNrGcWY-",
        "colab": {
          "base_uri": "https://localhost:8080/"
        },
        "outputId": "0b0702ab-7b2c-47a8-f847-aa2351498ad3"
      },
      "source": [
        "model.save('/content/drive/MyDrive/models/DNN2')"
      ],
      "execution_count": null,
      "outputs": [
        {
          "output_type": "stream",
          "name": "stdout",
          "text": [
            "INFO:tensorflow:Assets written to: /content/drive/MyDrive/models/DNN2/assets\n"
          ]
        }
      ]
    },
    {
      "cell_type": "code",
      "metadata": {
        "id": "duDv2WlqsJFO"
      },
      "source": [
        "from tensorflow import keras"
      ],
      "execution_count": null,
      "outputs": []
    },
    {
      "cell_type": "code",
      "metadata": {
        "id": "3-pMRVhKrCDZ"
      },
      "source": [
        "model = keras.models.load_model('/content/drive/MyDrive/models/DNN2')"
      ],
      "execution_count": null,
      "outputs": []
    },
    {
      "cell_type": "markdown",
      "metadata": {
        "id": "gHQWSosv0tSv"
      },
      "source": [
        ""
      ]
    },
    {
      "cell_type": "code",
      "metadata": {
        "id": "PJynBzASsP1F"
      },
      "source": [
        "predictions = model.predict(X_test)"
      ],
      "execution_count": null,
      "outputs": []
    },
    {
      "cell_type": "code",
      "metadata": {
        "colab": {
          "base_uri": "https://localhost:8080/"
        },
        "id": "Lv5HT2frs3Fj",
        "outputId": "4d931184-e7ba-402c-e0ca-a5c36b72387d"
      },
      "source": [
        "print(predictions.shape)\n",
        "print(y_test.shape)"
      ],
      "execution_count": null,
      "outputs": [
        {
          "output_type": "stream",
          "name": "stdout",
          "text": [
            "(33664, 3)\n",
            "(33664, 3)\n"
          ]
        }
      ]
    },
    {
      "cell_type": "code",
      "metadata": {
        "colab": {
          "base_uri": "https://localhost:8080/"
        },
        "id": "sgMoI4TO0XhI",
        "outputId": "768e18b7-059a-439c-9dfe-45da049469ee"
      },
      "source": [
        "model.evaluate(X_test, y_test)"
      ],
      "execution_count": null,
      "outputs": [
        {
          "output_type": "stream",
          "name": "stdout",
          "text": [
            "1052/1052 [==============================] - 3s 3ms/step - loss: 0.3030 - accuracy: 0.8655\n"
          ]
        },
        {
          "output_type": "execute_result",
          "data": {
            "text/plain": [
              "[0.30296972393989563, 0.8654943108558655]"
            ]
          },
          "metadata": {},
          "execution_count": 36
        }
      ]
    },
    {
      "cell_type": "code",
      "metadata": {
        "id": "7kbDbEOWs88z"
      },
      "source": [
        "for i in range(len(predictions)):\n",
        "  for j in range(len(predictions[i])):\n",
        "    if(predictions[i][j] > 0.5):\n",
        "      predictions[i][j] = 1\n",
        "    else:\n",
        "      predictions[i][j] = 0"
      ],
      "execution_count": null,
      "outputs": []
    },
    {
      "cell_type": "code",
      "metadata": {
        "id": "2Gl_OpORz9Bg"
      },
      "source": [
        ""
      ],
      "execution_count": null,
      "outputs": []
    }
  ]
}