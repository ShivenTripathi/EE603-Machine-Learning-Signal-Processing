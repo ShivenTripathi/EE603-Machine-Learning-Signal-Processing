{
  "nbformat": 4,
  "nbformat_minor": 0,
  "metadata": {
    "colab": {
      "name": "TemplateMatching_final.ipynb",
      "provenance": [],
      "collapsed_sections": [
        "EscUYjyPS0tQ",
        "j6UxhjuLRcNd",
        "trvH8gabReaM",
        "hckKwDzMRf7l",
        "0qzfAySawOyT"
      ]
    },
    "kernelspec": {
      "name": "python3",
      "display_name": "Python 3"
    },
    "language_info": {
      "name": "python"
    }
  },
  "cells": [
    {
      "cell_type": "code",
      "metadata": {
        "colab": {
          "base_uri": "https://localhost:8080/"
        },
        "id": "wHmOCoJsfgOu",
        "outputId": "c093ae6b-445b-487e-e35b-a7c871b0b723"
      },
      "source": [
        "from google.colab import drive\n",
        "drive.mount('/content/drive')"
      ],
      "execution_count": 4,
      "outputs": [
        {
          "output_type": "stream",
          "name": "stdout",
          "text": [
            "Mounted at /content/drive\n"
          ]
        }
      ]
    },
    {
      "cell_type": "code",
      "metadata": {
        "id": "zvO_AdL0fUsB"
      },
      "source": [
        "import numpy as np\n",
        "import matplotlib.pyplot as plt\n",
        "import librosa\n",
        "import soundfile as sf\n",
        "import librosa.display\n",
        "from glob import glob\n",
        "import os\n",
        "from tqdm import tqdm"
      ],
      "execution_count": 1,
      "outputs": []
    },
    {
      "cell_type": "code",
      "metadata": {
        "id": "dDMp4UtTfZjL"
      },
      "source": [
        "def splitData(X, t, testFraction=0.2, randomize = False):\n",
        "    \"\"\"\n",
        "    Split the data randomly into training and test sets\n",
        "    Use numpy functions only\n",
        "    Inputs:\n",
        "        X: (np array of len Nsamples) input feature vectors\n",
        "        t: (np array of len Nsamples) targets; one hot vectors\n",
        "        testFraction: (float) Nsamples_test = testFraction * Nsamples\n",
        "    Outputs:\n",
        "        X_train: training set\n",
        "        X_test: test set\n",
        "        t_train: training labels\n",
        "        t_test: test labels\n",
        "    \"\"\"\n",
        "    if randomize is False:\n",
        "      tot_samples = np.random.RandomState(seed=42).permutation(len(X))\n",
        "    else:\n",
        "      tot_samples = np.random.permutation(len(X))\n",
        "\n",
        "    X_train = []\n",
        "    X_test = []\n",
        "    t_train = []\n",
        "    t_test = []\n",
        "    \n",
        "    test_samples = max(1,int(len(X)*testFraction))\n",
        "    # print(tot_samples[:test_samples])\n",
        "    # print(tot_samples[test_samples:])\n",
        "\n",
        "    for i in range(test_samples):\n",
        "      X_test.append(X[tot_samples[i]])\n",
        "      t_test.append(t[tot_samples[i]])\n",
        "\n",
        "    for i in range(test_samples,len(X)):\n",
        "      X_train.append(X[tot_samples[i]])\n",
        "      t_train.append(t[tot_samples[i]])\n",
        "    \n",
        "    return np.asarray(X_train), np.asarray(t_train), np.asarray(X_test), np.asarray(t_test)\n",
        "\n",
        "def calc_spec(x):\n",
        "    n_fft = 1024\n",
        "    hop_length = 512\n",
        "    win_length = 1024\n",
        "    X = np.abs(librosa.stft(x, n_fft = n_fft, hop_length = hop_length, win_length = win_length, window='hann'))\n",
        "    X = librosa.power_to_db(X**2,ref=np.max)\n",
        "    return X\n",
        "\n",
        "def audio2spec(x, norm=True, mfcc=True):\n",
        "    \n",
        "    '''\n",
        "    Compute Mel-frequency cepstral coefficients (MFCCs)\n",
        "    Inputs:\n",
        "        x: np array of shape (Nsamples,)\n",
        "    Output:\n",
        "        X: (np array) spectrogram sequence\n",
        "    '''\n",
        "    X=[]\n",
        "    for sample in x:\n",
        "      if mfcc is False:\n",
        "        X.append(calc_spec(sample))\n",
        "      else:\n",
        "        X.append(librosa.feature.mfcc(S=calc_spec(sample), n_mfcc=20))  \n",
        "    if norm is True:\n",
        "      X = (X-np.mean(X))/np.std(X)\n",
        "    return np.asarray(X)"
      ],
      "execution_count": 2,
      "outputs": []
    },
    {
      "cell_type": "code",
      "metadata": {
        "colab": {
          "base_uri": "https://localhost:8080/"
        },
        "id": "52f13dW7fa9-",
        "outputId": "15268827-3649-434e-947c-8b12b993c483"
      },
      "source": [
        "# PARAMETER FOR STFT\n",
        "SAMPLING_RATE=16000\n",
        "DURATION=10\n",
        "N_FFT = 1024\n",
        "WIN_LENGTH = 1024\n",
        "HOP_LENGTH = 512\n",
        "\n",
        "# LOADING THE TRAINING SPECTROGRAMS\n",
        "X = np.load('/content/drive/MyDrive/Sem 5/EE603/project/val_set/Final_Dataset/training_spectrogram.npy')\n",
        "print(X.shape)\n",
        "y = np.load('/content/drive/MyDrive/Sem 5/EE603/project/val_set/Final_Dataset/training_labels.npy')\n",
        "print(y.shape)\n",
        "# from sklearn.utils import shuffle\n",
        "# X, y = shuffle(X, y)\n",
        "\n",
        "# EXTRACTING THE MFCC FEATURES FROM THE SPECTROGRAM\n",
        "def get_mfcc(X):\n",
        "  X_new = []\n",
        "  for i in range(len(X)):\n",
        "    mel_spectrogram = librosa.feature.melspectrogram(S=X[i], n_fft=N_FFT, hop_length=HOP_LENGTH)\n",
        "    mfcc = librosa.feature.mfcc(S=mel_spectrogram, sr=16000,n_mfcc=20)\n",
        "    mean = np.average(mfcc)\n",
        "    std = np.std(mfcc)\n",
        "    if(std == 0):\n",
        "      std = std + 1e-25\n",
        "    mfcc = (mfcc - mean)/std\n",
        "    X_new.append(mfcc)\n",
        "  return np.array(X_new)\n",
        "X = get_mfcc(X)"
      ],
      "execution_count": 3,
      "outputs": [
        {
          "output_type": "stream",
          "name": "stdout",
          "text": [
            "(717, 513, 313)\n",
            "(717,)\n"
          ]
        }
      ]
    },
    {
      "cell_type": "code",
      "metadata": {
        "id": "v5QOyawffswZ"
      },
      "source": [
        "# FUNCTIONS TO CONVERT STRING TO ONE-HOT-VECTORS\n",
        "def one_hot_enc(cl_name):\n",
        "  if(cl_name == 'music'):\n",
        "    return 2\n",
        "  elif(cl_name == 'speech'):\n",
        "    return 1\n",
        "  else:\n",
        "    return 0\n",
        "\n",
        "def string2ohv(y):\n",
        "  y_ohv = []\n",
        "  for i in y:\n",
        "    y_ohv.append(one_hot_enc(i))\n",
        "  return np.array(y_ohv)"
      ],
      "execution_count": 4,
      "outputs": []
    },
    {
      "cell_type": "code",
      "metadata": {
        "colab": {
          "base_uri": "https://localhost:8080/"
        },
        "id": "TxL48t-TffaJ",
        "outputId": "23f72858-9125-49d7-ae6f-6829388db32e"
      },
      "source": [
        "X_train, y_train, X_test, y_test = splitData(X=X, t=y, testFraction=0.2, randomize=True)\n",
        "print(X_train.shape)\n",
        "print(X_test.shape)"
      ],
      "execution_count": 5,
      "outputs": [
        {
          "output_type": "stream",
          "name": "stdout",
          "text": [
            "(574, 20, 313)\n",
            "(143, 20, 313)\n"
          ]
        }
      ]
    },
    {
      "cell_type": "code",
      "metadata": {
        "colab": {
          "base_uri": "https://localhost:8080/"
        },
        "id": "4hUdeh-mfzfX",
        "outputId": "485c3065-2622-4096-a2cf-c8848b640153"
      },
      "source": [
        "# RESHAPING THE DATA\n",
        "def reshape(X, y):\n",
        "  # Reshape the data to make each entry in the spectrogram a training sample\n",
        "  X_new = []\n",
        "  y_new = []\n",
        "  for i in range(len(X)):\n",
        "    X_new.append(np.transpose(X[i]))\n",
        "    # print(X[i].shape[1])\n",
        "    y_new.append([y[i]]*X[i].shape[1])\n",
        "    # print(np.shape(y_new))\n",
        "  X_new = np.array(X_new)\n",
        "  y_new = np.array(y_new)\n",
        "  X_new = X_new.reshape((-1, X[0].shape[0]))\n",
        "  y_new = y_new.reshape((-1, 1))\n",
        "  print(X_new.shape)\n",
        "  print(y_new.shape)\n",
        "  return X_new, y_new\n",
        "X_train, y_train = reshape(X_train, y_train)\n",
        "X_test, y_test = reshape(X_test, y_test)\n",
        "y_test = string2ohv(y_test)\n",
        "y_train = string2ohv(y_train)\n",
        "print(y_train.shape)\n",
        "print(y_test.shape)"
      ],
      "execution_count": 6,
      "outputs": [
        {
          "output_type": "stream",
          "name": "stdout",
          "text": [
            "(179662, 20)\n",
            "(179662, 1)\n",
            "(44759, 20)\n",
            "(44759, 1)\n",
            "(179662,)\n",
            "(44759,)\n"
          ]
        }
      ]
    },
    {
      "cell_type": "code",
      "metadata": {
        "colab": {
          "base_uri": "https://localhost:8080/"
        },
        "id": "mlq1S3gGf1B3",
        "outputId": "0bf5efb7-3726-40ff-ae3c-e1b7bb80612a"
      },
      "source": [
        "# PREPARING THE BAG OF FRAMES TO ESTABLISH TEMPORAL DEPENDENCE\n",
        "def make_bags(X_prev):\n",
        "  X_new = []\n",
        "  X_new.append(X_prev[:7])\n",
        "  X_new.append(X_prev[:7])\n",
        "  X_new.append(X_prev[:7])\n",
        "\n",
        "  for i in tqdm(range(len(X_prev)-6)):\n",
        "    A = X_prev[i:i+7]\n",
        "    X_new.append(A)\n",
        "\n",
        "  X_new.append(X_prev[-7:])\n",
        "  X_new.append(X_prev[-7:])\n",
        "  X_new.append(X_prev[-7:])\n",
        "  \n",
        "  X_new = np.array(X_new)\n",
        "  return X_new\n",
        "X_test_reshaped = make_bags(X_test)\n",
        "print(X_test_reshaped.shape)\n",
        "X_train_reshaped = make_bags(X_train)\n",
        "print(X_train_reshaped.shape)"
      ],
      "execution_count": 7,
      "outputs": [
        {
          "output_type": "stream",
          "name": "stderr",
          "text": [
            "100%|██████████| 44753/44753 [00:00<00:00, 1080493.70it/s]\n"
          ]
        },
        {
          "output_type": "stream",
          "name": "stdout",
          "text": [
            "(44759, 7, 20)\n"
          ]
        },
        {
          "output_type": "stream",
          "name": "stderr",
          "text": [
            "100%|██████████| 179656/179656 [00:00<00:00, 1224844.82it/s]\n"
          ]
        },
        {
          "output_type": "stream",
          "name": "stdout",
          "text": [
            "(179662, 7, 20)\n"
          ]
        }
      ]
    },
    {
      "cell_type": "code",
      "metadata": {
        "colab": {
          "base_uri": "https://localhost:8080/"
        },
        "id": "SjfHTI00f2o2",
        "outputId": "75f86893-ec5e-476a-ac6d-99cd90818ff2"
      },
      "source": [
        "X_train = np.reshape(X_train_reshaped, (np.shape(X_train_reshaped)[0],-1))\n",
        "X_test = np.reshape(X_test_reshaped, (np.shape(X_test_reshaped)[0],-1))\n",
        "\n",
        "print(np.shape(X_train), np.shape(X_test))"
      ],
      "execution_count": 8,
      "outputs": [
        {
          "output_type": "stream",
          "name": "stdout",
          "text": [
            "(179662, 140) (44759, 140)\n"
          ]
        }
      ]
    },
    {
      "cell_type": "code",
      "metadata": {
        "id": "6gW-DBo_gL7J"
      },
      "source": [
        "# for i, label in tqdm(enumerate(y_train)):\n",
        "#   if label[1] == 1:\n",
        "#     y_train[i] = 2\n",
        "#   elif label[0] == 1:\n",
        "#     y_train[i] = 1\n",
        "#   else:\n",
        "#     y_train[i] = 0\n",
        "\n",
        "# for i, label in tqdm(enumerate(y_test)):\n",
        "#   if label[1] == 1:\n",
        "#     y_test[i] = 2\n",
        "#   elif label[0] == 1:\n",
        "#     y_test[i] = 1\n",
        "#   else:\n",
        "#     y_test[i] = 0"
      ],
      "execution_count": 9,
      "outputs": []
    },
    {
      "cell_type": "code",
      "metadata": {
        "colab": {
          "base_uri": "https://localhost:8080/"
        },
        "id": "ZRcM1vyFI-5J",
        "outputId": "ad7ce3b3-1d8c-4605-8a0f-ca15daa3fcc2"
      },
      "source": [
        "# we'll use first 100 data items of every label, each as the templates\n",
        "N = 100\n",
        "\n",
        "templates = np.zeros((3, N, X_train[0].shape[0]))\n",
        "counts = [0,0,0]\n",
        "\n",
        "for i in tqdm(range(len(y_train))):\n",
        "  if counts == [N, N, N]:\n",
        "    break\n",
        "  if counts[y_train[i]] < 100:\n",
        "    templates[y_train[i], counts[y_train[i]]] = X_train[i]\n",
        "    counts[y_train[i]] += 1\n",
        "\n",
        "print(np.shape(templates))"
      ],
      "execution_count": 10,
      "outputs": [
        {
          "output_type": "stream",
          "name": "stderr",
          "text": [
            "  2%|▏         | 2917/179662 [00:00<00:00, 496461.00it/s]"
          ]
        },
        {
          "output_type": "stream",
          "name": "stdout",
          "text": [
            "(3, 100, 140)\n"
          ]
        },
        {
          "output_type": "stream",
          "name": "stderr",
          "text": [
            "\n"
          ]
        }
      ]
    },
    {
      "cell_type": "code",
      "metadata": {
        "colab": {
          "base_uri": "https://localhost:8080/"
        },
        "id": "SSdg8_c-KvgS",
        "outputId": "81fb4a52-cd52-49a1-9ad0-bc2629aa4b2f"
      },
      "source": [
        "y_train_pred = np.zeros(len(X_train[:10**4]))\n",
        "y_test_pred = np.zeros(len(X_test[:10**4]))\n",
        "\n",
        "for i in tqdm(range(len(X_test[:10**4]))):\n",
        "  scores = [0,0,0]\n",
        "  for j in range(3):\n",
        "    for k in range(N):\n",
        "      scores[j] += np.linalg.norm(X_test[i]-templates[j][k])\n",
        "  y_test_pred[i] = np.argmin(scores)\n",
        "\n",
        "\n",
        "for i in tqdm(range(len(X_train[:10**4]))):\n",
        "  scores = [0,0,0]\n",
        "  for j in range(3):\n",
        "    for k in range(N):\n",
        "      scores[j] += np.linalg.norm(X_train[i]-templates[j][k])\n",
        "  y_train_pred[i] = np.argmin(scores)"
      ],
      "execution_count": 12,
      "outputs": [
        {
          "output_type": "stream",
          "name": "stderr",
          "text": [
            "100%|██████████| 10000/10000 [00:32<00:00, 311.33it/s]\n",
            "100%|██████████| 10000/10000 [00:31<00:00, 314.76it/s]\n"
          ]
        }
      ]
    },
    {
      "cell_type": "code",
      "metadata": {
        "colab": {
          "base_uri": "https://localhost:8080/"
        },
        "id": "LjvujFNFMyon",
        "outputId": "a61d206c-d82a-450d-b338-c792c9a066aa"
      },
      "source": [
        "train_accuracy = np.mean(y_train_pred[:10**4].ravel() == np.asarray(y_train[:10**4]).ravel()) * 100\n",
        "print('Train accuracy:', train_accuracy)\n",
        "test_accuracy = np.mean(y_test_pred[:10**4].ravel() == np.asarray(y_test[:10**4]).ravel()) * 100\n",
        "print('Test accuracy:', test_accuracy)"
      ],
      "execution_count": 13,
      "outputs": [
        {
          "output_type": "stream",
          "name": "stdout",
          "text": [
            "Train accuracy: 64.21\n",
            "Test accuracy: 70.36\n"
          ]
        }
      ]
    },
    {
      "cell_type": "code",
      "metadata": {
        "colab": {
          "base_uri": "https://localhost:8080/"
        },
        "id": "XhsHkdZQh6cV",
        "outputId": "15c240b1-6aa0-4c71-f809-5a0cd8763059"
      },
      "source": [
        "import sklearn\n",
        "print(sklearn.metrics.f1_score(y_test_pred[:10**4], y_test[:10**4], average='macro'))"
      ],
      "execution_count": 19,
      "outputs": [
        {
          "output_type": "stream",
          "name": "stdout",
          "text": [
            "0.6552829036543976\n"
          ]
        }
      ]
    },
    {
      "cell_type": "code",
      "metadata": {
        "colab": {
          "base_uri": "https://localhost:8080/"
        },
        "id": "oLpYyro6Nhkk",
        "outputId": "2056b683-e232-4bd7-908b-81143d849e7d"
      },
      "source": [
        "from collections import Counter\n",
        "print(Counter(y_train_pred[:10**4]), Counter(y_train[:10**4]))\n",
        "print(Counter(y_test_pred[:10**4]), Counter(y_test[:10**4]))"
      ],
      "execution_count": 17,
      "outputs": [
        {
          "output_type": "stream",
          "name": "stdout",
          "text": [
            "Counter({0.0: 4706, 2.0: 4184, 1.0: 1110}) Counter({2: 3756, 1: 3740, 0: 2504})\n",
            "Counter({0.0: 5782, 2.0: 3162, 1.0: 1056}) Counter({0: 4069, 1: 3443, 2: 2488})\n"
          ]
        }
      ]
    }
  ]
}