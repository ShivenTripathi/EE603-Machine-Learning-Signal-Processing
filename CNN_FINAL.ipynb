{
  "nbformat": 4,
  "nbformat_minor": 0,
  "metadata": {
    "colab": {
      "name": "CNN_FINAL.ipynb",
      "provenance": [],
      "collapsed_sections": []
    },
    "kernelspec": {
      "name": "python3",
      "display_name": "Python 3"
    },
    "language_info": {
      "name": "python"
    },
    "accelerator": "GPU"
  },
  "cells": [
    {
      "cell_type": "markdown",
      "metadata": {
        "id": "4RRH4Pnfyz0R"
      },
      "source": [
        "Convolutional Neural Network"
      ]
    },
    {
      "cell_type": "code",
      "metadata": {
        "id": "1-jwXWtAj0Pk"
      },
      "source": [
        "# IMPORTING THE LIBRARIES\n",
        "import librosa\n",
        "import librosa.display\n",
        "import numpy as np\n",
        "import matplotlib.pyplot as plt\n",
        "import soundfile as sf\n",
        "import IPython.display as ipd\n",
        "import pandas as pd\n",
        "from tqdm import tqdm\n",
        "from sklearn.model_selection import train_test_split\n",
        "from tqdm import tqdm\n",
        "import os\n",
        "!pip install pyyaml h5py  # Required to save models in HDF5 format"
      ],
      "execution_count": null,
      "outputs": []
    },
    {
      "cell_type": "code",
      "metadata": {
        "colab": {
          "base_uri": "https://localhost:8080/"
        },
        "id": "14ryR-iXg9xm",
        "outputId": "75c04ee3-7426-414f-b0f9-ee510ce1c287"
      },
      "source": [
        "# MOUNTING GOOGLE DRIVE TO LOAD AND STORE THE DATA\n",
        "from google.colab import drive\n",
        "drive.mount('/content/drive')"
      ],
      "execution_count": null,
      "outputs": [
        {
          "output_type": "stream",
          "name": "stdout",
          "text": [
            "Mounted at /content/drive\n"
          ]
        }
      ]
    },
    {
      "cell_type": "code",
      "metadata": {
        "id": "0hlZhXLAnsHW"
      },
      "source": [
        "# PARAMETER FOR STFT\n",
        "SAMPLING_RATE=16000\n",
        "DURATION=10\n",
        "N_FFT = 1024\n",
        "WIN_LENGTH = 1024\n",
        "HOP_LENGTH = 512"
      ],
      "execution_count": null,
      "outputs": []
    },
    {
      "cell_type": "code",
      "metadata": {
        "id": "dkXKRawwk0xv",
        "colab": {
          "base_uri": "https://localhost:8080/"
        },
        "outputId": "2581f4c8-505d-4d49-cdb4-7d4340c66bac"
      },
      "source": [
        "# LOADING THE TRAINING SPECTROGRAMS\n",
        "X = np.load('/content/drive/MyDrive/val_set/Final_Dataset/training_spectrogram.npy')\n",
        "print(X.shape)\n",
        "y = np.load('/content/drive/MyDrive/val_set/Final_Dataset/training_labels.npy')\n",
        "print(y.shape)\n",
        "from sklearn.utils import shuffle\n",
        "X, y = shuffle(X, y)"
      ],
      "execution_count": null,
      "outputs": [
        {
          "output_type": "stream",
          "name": "stdout",
          "text": [
            "(717, 513, 313)\n",
            "(717,)\n"
          ]
        }
      ]
    },
    {
      "cell_type": "code",
      "metadata": {
        "id": "DfpZHWsThMZf"
      },
      "source": [
        "# EXTRACTING THE MFCC FEATURES FROM THE SPECTROGRAM\n",
        "def get_mfcc(X):\n",
        "  X_new = []\n",
        "  for i in range(len(X)):\n",
        "    mel_spectrogram = librosa.feature.melspectrogram(S=X[i], n_fft=N_FFT, hop_length=HOP_LENGTH)\n",
        "    mfcc = librosa.feature.mfcc(S=mel_spectrogram, sr=16000,n_mfcc=20)\n",
        "    mean = np.average(mfcc)\n",
        "    std = np.std(mfcc)\n",
        "    if(std == 0):\n",
        "      std = std + 1e-25\n",
        "    mfcc = (mfcc - mean)/std\n",
        "    X_new.append(mfcc)\n",
        "  return np.array(X_new)\n",
        "X = get_mfcc(X)"
      ],
      "execution_count": null,
      "outputs": []
    },
    {
      "cell_type": "code",
      "metadata": {
        "id": "7QbbWmbsWhlL"
      },
      "source": [
        "# FUNCTIONS TO CONVERT STRING TO ONE-HOT-VECTORS\n",
        "def one_hot_enc(cl_name):\n",
        "  if(cl_name == 'music'):\n",
        "    return np.array([0,1,0])\n",
        "  elif(cl_name == 'speech'):\n",
        "    return np.array([1,0,0])\n",
        "  else:\n",
        "    return np.array([0,0,1])\n",
        "\n",
        "def string2ohv(y):\n",
        "  y_ohv = []\n",
        "  for i in y:\n",
        "    y_ohv.append(one_hot_enc(i))\n",
        "  return np.array(y_ohv)"
      ],
      "execution_count": null,
      "outputs": []
    },
    {
      "cell_type": "code",
      "metadata": {
        "colab": {
          "base_uri": "https://localhost:8080/"
        },
        "id": "Me1oY9xAqNfT",
        "outputId": "fe6c6b2f-5640-4076-f75c-9e6fc0faa22e"
      },
      "source": [
        "# SPLITTING DATA BETWEEN TRAINING AND TESTING. \n",
        "# The test split is used for validation during the training purpose and the final test is performed on the recieved data.\n",
        "from sklearn.model_selection import train_test_split\n",
        "X_train, X_test, y_train, y_test = train_test_split(X, y, test_size=0.20, shuffle=True)\n",
        "print(X_train.shape)\n",
        "print(X_test.shape)"
      ],
      "execution_count": null,
      "outputs": [
        {
          "output_type": "stream",
          "name": "stdout",
          "text": [
            "(573, 20, 313)\n",
            "(144, 20, 313)\n"
          ]
        }
      ]
    },
    {
      "cell_type": "code",
      "metadata": {
        "id": "zh_rhESIxAW0",
        "colab": {
          "base_uri": "https://localhost:8080/"
        },
        "outputId": "f629a418-25ab-4712-b18b-232f4ee6d7cc"
      },
      "source": [
        "# RESHAPING THE DATA\n",
        "def reshape(X, y):\n",
        "  # Reshape the data to make each entry in the spectrogram a training sample\n",
        "  X_new = []\n",
        "  y_new = []\n",
        "  for i in range(len(X)):\n",
        "    X_new.append(np.transpose(X[i]))\n",
        "    # print(X[i].shape[1])\n",
        "    y_new.append([y[i]]*X[i].shape[1])\n",
        "    # print(np.shape(y_new))\n",
        "  X_new = np.array(X_new)\n",
        "  y_new = np.array(y_new)\n",
        "  X_new = X_new.reshape((-1, X[0].shape[0]))\n",
        "  y_new = y_new.reshape((-1, 1))\n",
        "  print(X_new.shape)\n",
        "  print(y_new.shape)\n",
        "  return X_new, y_new\n",
        "X_train, y_train = reshape(X_train, y_train)\n",
        "X_test, y_test = reshape(X_test, y_test)\n",
        "y_test = string2ohv(y_test)\n",
        "y_train = string2ohv(y_train)\n",
        "print(y_train.shape)\n",
        "print(y_test.shape)"
      ],
      "execution_count": null,
      "outputs": [
        {
          "output_type": "stream",
          "name": "stdout",
          "text": [
            "(179349, 20)\n",
            "(179349, 1)\n",
            "(45072, 20)\n",
            "(45072, 1)\n",
            "(179349, 3)\n",
            "(45072, 3)\n"
          ]
        }
      ]
    },
    {
      "cell_type": "code",
      "metadata": {
        "id": "LPSnCBmMy1OW",
        "colab": {
          "base_uri": "https://localhost:8080/"
        },
        "outputId": "1ed7a2d5-550b-4c41-ca74-c537376ee705"
      },
      "source": [
        "# PREPARING THE BAG OF FRAMES TO ESTABLISH TEMPORAL DEPENDENCE\n",
        "def make_bags(X_prev):\n",
        "  X_new = []\n",
        "  X_new.append(X_prev[:7])\n",
        "  X_new.append(X_prev[:7])\n",
        "  X_new.append(X_prev[:7])\n",
        "\n",
        "  for i in tqdm(range(len(X_prev)-6)):\n",
        "    A = X_prev[i:i+7]\n",
        "    X_new.append(A)\n",
        "\n",
        "  X_new.append(X_prev[-7:])\n",
        "  X_new.append(X_prev[-7:])\n",
        "  X_new.append(X_prev[-7:])\n",
        "  \n",
        "  X_new = np.array(X_new)\n",
        "  return X_new\n",
        "X_test_reshaped = make_bags(X_test)\n",
        "print(X_test_reshaped.shape)\n",
        "X_train_reshaped = make_bags(X_train)\n",
        "print(X_train_reshaped.shape)"
      ],
      "execution_count": null,
      "outputs": [
        {
          "output_type": "stream",
          "name": "stderr",
          "text": [
            "100%|██████████| 45066/45066 [00:00<00:00, 1202451.11it/s]\n"
          ]
        },
        {
          "output_type": "stream",
          "name": "stdout",
          "text": [
            "(45072, 7, 20)\n"
          ]
        },
        {
          "output_type": "stream",
          "name": "stderr",
          "text": [
            "100%|██████████| 179343/179343 [00:00<00:00, 1380312.17it/s]\n"
          ]
        },
        {
          "output_type": "stream",
          "name": "stdout",
          "text": [
            "(179349, 7, 20)\n"
          ]
        }
      ]
    },
    {
      "cell_type": "code",
      "metadata": {
        "id": "Osgmzgl5TtuF"
      },
      "source": [
        "# BUILDING THE MODEL \n",
        "import tensorflow as tf\n",
        "from tensorflow.keras import Sequential\n",
        "from tensorflow.keras.layers import Conv2D, MaxPool2D, Dense, Flatten, Dropout, TimeDistributed, LSTM\n",
        "def get_conv_model():\n",
        "  model = Sequential()\n",
        "  model.add(Conv2D(16, (3,3), activation='relu', strides=(1,1),\n",
        "                   padding='same', input_shape=(7, 20, 1)))\n",
        "  model.add(Conv2D(32, (3,3), activation='relu', strides=(1,1),\n",
        "                   padding='same'))\n",
        "  model.add(Conv2D(64, (3,3), activation='relu', strides=(1,1),\n",
        "                   padding='same'))\n",
        "  model.add(Conv2D(128, (3,3), activation='relu', strides=(1,1),\n",
        "                   padding='same'))\n",
        "  model.add(MaxPool2D((2,2)))\n",
        "  model.add(Dropout(0.5))\n",
        "  model.add(Flatten())\n",
        "  model.add(Dense(128, activation='relu'))\n",
        "  model.add(Dense(32, activation='relu'))\n",
        "  model.add(Dense(3, activation='softmax'))\n",
        "  model.summary()\n",
        "  model.compile(loss='categorical_crossentropy', \n",
        "                optimizer='adam', metrics=['accuracy'])\n",
        "  return model"
      ],
      "execution_count": null,
      "outputs": []
    },
    {
      "cell_type": "code",
      "metadata": {
        "id": "JiPirECkN1m_",
        "colab": {
          "base_uri": "https://localhost:8080/"
        },
        "outputId": "31ffb52f-505f-446d-ce76-0ec7b3a55845"
      },
      "source": [
        "# CHECKPOINTS FOR SAVING THE MODEL WEIGHTS AT EACH EPOCH\n",
        "checkpoint_path = \"/content/drive/MyDrive/val_set/models/CNN_FINAL_Normalized_MFCC.ckpt\"\n",
        "checkpoint_dir = os.path.dirname(checkpoint_path)\n",
        "cp_callback = tf.keras.callbacks.ModelCheckpoint(filepath=checkpoint_path,\n",
        "                                                 save_weights_only=True,\n",
        "                                                 verbose=1)\n",
        "os.listdir(checkpoint_dir)"
      ],
      "execution_count": null,
      "outputs": [
        {
          "output_type": "execute_result",
          "data": {
            "text/plain": [
              "['CNN_FINAL',\n",
              " 'CNN_FINAL.ckpt.index',\n",
              " 'CNN_FINAL.ckpt.data-00000-of-00001',\n",
              " 'CNN_FINAL_Normalized.ckpt.index',\n",
              " 'CNN_FINAL_Normalized.ckpt.data-00000-of-00001',\n",
              " 'CNN_FINAL_MFCC',\n",
              " 'CNN_FINAL_Normalized_MFCC.ckpt.index',\n",
              " 'CNN_FINAL_Normalized_MFCC.ckpt.data-00000-of-00001',\n",
              " 'checkpoint',\n",
              " 'CNN_FINAL_MFCC_NORMALIZED']"
            ]
          },
          "metadata": {},
          "execution_count": 14
        }
      ]
    },
    {
      "cell_type": "code",
      "metadata": {
        "id": "0E3V03R_xVl6",
        "colab": {
          "base_uri": "https://localhost:8080/"
        },
        "outputId": "3ab95d8c-9a78-439c-cc26-1f9029766124"
      },
      "source": [
        "# TRAINING AND SAVING THE MODEL\n",
        "input_shape = (X_train_reshaped.shape[1], X_test_reshaped.shape[2], 1)\n",
        "model = get_conv_model()\n",
        "history = model.fit(X_train_reshaped, y_train, epochs=15, batch_size=64, shuffle=True, validation_data=(X_test_reshaped, y_test), callbacks=[cp_callback])\n",
        "model.save('/content/drive/MyDrive/val_set/models/CNN_FINAL_MFCC_CORRECT')"
      ],
      "execution_count": null,
      "outputs": [
        {
          "output_type": "stream",
          "name": "stdout",
          "text": [
            "Model: \"sequential_2\"\n",
            "_________________________________________________________________\n",
            " Layer (type)                Output Shape              Param #   \n",
            "=================================================================\n",
            " conv2d_8 (Conv2D)           (None, 7, 20, 16)         160       \n",
            "                                                                 \n",
            " conv2d_9 (Conv2D)           (None, 7, 20, 32)         4640      \n",
            "                                                                 \n",
            " conv2d_10 (Conv2D)          (None, 7, 20, 64)         18496     \n",
            "                                                                 \n",
            " conv2d_11 (Conv2D)          (None, 7, 20, 128)        73856     \n",
            "                                                                 \n",
            " max_pooling2d_2 (MaxPooling  (None, 3, 10, 128)       0         \n",
            " 2D)                                                             \n",
            "                                                                 \n",
            " dropout_2 (Dropout)         (None, 3, 10, 128)        0         \n",
            "                                                                 \n",
            " flatten_2 (Flatten)         (None, 3840)              0         \n",
            "                                                                 \n",
            " dense_6 (Dense)             (None, 128)               491648    \n",
            "                                                                 \n",
            " dense_7 (Dense)             (None, 32)                4128      \n",
            "                                                                 \n",
            " dense_8 (Dense)             (None, 3)                 99        \n",
            "                                                                 \n",
            "=================================================================\n",
            "Total params: 593,027\n",
            "Trainable params: 593,027\n",
            "Non-trainable params: 0\n",
            "_________________________________________________________________\n",
            "Epoch 1/15\n",
            "2803/2803 [==============================] - ETA: 0s - loss: 0.0640 - accuracy: 0.9773\n",
            "Epoch 00001: saving model to /content/drive/MyDrive/val_set/models/CNN_FINAL_Normalized_MFCC.ckpt\n",
            "2803/2803 [==============================] - 37s 13ms/step - loss: 0.0640 - accuracy: 0.9773 - val_loss: 0.0376 - val_accuracy: 0.9885\n",
            "Epoch 2/15\n",
            "2803/2803 [==============================] - ETA: 0s - loss: 0.0238 - accuracy: 0.9920\n",
            "Epoch 00002: saving model to /content/drive/MyDrive/val_set/models/CNN_FINAL_Normalized_MFCC.ckpt\n",
            "2803/2803 [==============================] - 37s 13ms/step - loss: 0.0238 - accuracy: 0.9920 - val_loss: 0.0313 - val_accuracy: 0.9913\n",
            "Epoch 3/15\n",
            "2803/2803 [==============================] - ETA: 0s - loss: 0.0158 - accuracy: 0.9947\n",
            "Epoch 00003: saving model to /content/drive/MyDrive/val_set/models/CNN_FINAL_Normalized_MFCC.ckpt\n",
            "2803/2803 [==============================] - 35s 12ms/step - loss: 0.0158 - accuracy: 0.9947 - val_loss: 0.0235 - val_accuracy: 0.9937\n",
            "Epoch 4/15\n",
            "2803/2803 [==============================] - ETA: 0s - loss: 0.0124 - accuracy: 0.9960\n",
            "Epoch 00004: saving model to /content/drive/MyDrive/val_set/models/CNN_FINAL_Normalized_MFCC.ckpt\n",
            "2803/2803 [==============================] - 37s 13ms/step - loss: 0.0124 - accuracy: 0.9960 - val_loss: 0.0259 - val_accuracy: 0.9937\n",
            "Epoch 5/15\n",
            "2801/2803 [============================>.] - ETA: 0s - loss: 0.0098 - accuracy: 0.9968\n",
            "Epoch 00005: saving model to /content/drive/MyDrive/val_set/models/CNN_FINAL_Normalized_MFCC.ckpt\n",
            "2803/2803 [==============================] - 36s 13ms/step - loss: 0.0098 - accuracy: 0.9968 - val_loss: 0.0311 - val_accuracy: 0.9929\n",
            "Epoch 6/15\n",
            "2802/2803 [============================>.] - ETA: 0s - loss: 0.0076 - accuracy: 0.9975\n",
            "Epoch 00006: saving model to /content/drive/MyDrive/val_set/models/CNN_FINAL_Normalized_MFCC.ckpt\n",
            "2803/2803 [==============================] - 36s 13ms/step - loss: 0.0076 - accuracy: 0.9975 - val_loss: 0.0781 - val_accuracy: 0.9810\n",
            "Epoch 7/15\n",
            "2802/2803 [============================>.] - ETA: 0s - loss: 0.0072 - accuracy: 0.9977\n",
            "Epoch 00007: saving model to /content/drive/MyDrive/val_set/models/CNN_FINAL_Normalized_MFCC.ckpt\n",
            "2803/2803 [==============================] - 35s 12ms/step - loss: 0.0072 - accuracy: 0.9977 - val_loss: 0.0428 - val_accuracy: 0.9916\n",
            "Epoch 8/15\n",
            "2799/2803 [============================>.] - ETA: 0s - loss: 0.0056 - accuracy: 0.9981\n",
            "Epoch 00008: saving model to /content/drive/MyDrive/val_set/models/CNN_FINAL_Normalized_MFCC.ckpt\n",
            "2803/2803 [==============================] - 35s 13ms/step - loss: 0.0056 - accuracy: 0.9981 - val_loss: 0.0270 - val_accuracy: 0.9948\n",
            "Epoch 9/15\n",
            "2802/2803 [============================>.] - ETA: 0s - loss: 0.0057 - accuracy: 0.9982\n",
            "Epoch 00009: saving model to /content/drive/MyDrive/val_set/models/CNN_FINAL_Normalized_MFCC.ckpt\n",
            "2803/2803 [==============================] - 37s 13ms/step - loss: 0.0057 - accuracy: 0.9982 - val_loss: 0.0374 - val_accuracy: 0.9952\n",
            "Epoch 10/15\n",
            "2799/2803 [============================>.] - ETA: 0s - loss: 0.0050 - accuracy: 0.9986\n",
            "Epoch 00010: saving model to /content/drive/MyDrive/val_set/models/CNN_FINAL_Normalized_MFCC.ckpt\n",
            "2803/2803 [==============================] - 37s 13ms/step - loss: 0.0050 - accuracy: 0.9986 - val_loss: 0.0360 - val_accuracy: 0.9942\n",
            "Epoch 11/15\n",
            "2802/2803 [============================>.] - ETA: 0s - loss: 0.0045 - accuracy: 0.9986\n",
            "Epoch 00011: saving model to /content/drive/MyDrive/val_set/models/CNN_FINAL_Normalized_MFCC.ckpt\n",
            "2803/2803 [==============================] - 37s 13ms/step - loss: 0.0045 - accuracy: 0.9986 - val_loss: 0.0371 - val_accuracy: 0.9945\n",
            "Epoch 12/15\n",
            "2799/2803 [============================>.] - ETA: 0s - loss: 0.0046 - accuracy: 0.9986\n",
            "Epoch 00012: saving model to /content/drive/MyDrive/val_set/models/CNN_FINAL_Normalized_MFCC.ckpt\n",
            "2803/2803 [==============================] - 36s 13ms/step - loss: 0.0046 - accuracy: 0.9986 - val_loss: 0.0401 - val_accuracy: 0.9948\n",
            "Epoch 13/15\n",
            "2800/2803 [============================>.] - ETA: 0s - loss: 0.0038 - accuracy: 0.9987\n",
            "Epoch 00013: saving model to /content/drive/MyDrive/val_set/models/CNN_FINAL_Normalized_MFCC.ckpt\n",
            "2803/2803 [==============================] - 37s 13ms/step - loss: 0.0038 - accuracy: 0.9987 - val_loss: 0.0315 - val_accuracy: 0.9954\n",
            "Epoch 14/15\n",
            "2803/2803 [==============================] - ETA: 0s - loss: 0.0039 - accuracy: 0.9989\n",
            "Epoch 00014: saving model to /content/drive/MyDrive/val_set/models/CNN_FINAL_Normalized_MFCC.ckpt\n",
            "2803/2803 [==============================] - 38s 13ms/step - loss: 0.0039 - accuracy: 0.9989 - val_loss: 0.0426 - val_accuracy: 0.9944\n",
            "Epoch 15/15\n",
            "2801/2803 [============================>.] - ETA: 0s - loss: 0.0034 - accuracy: 0.9990\n",
            "Epoch 00015: saving model to /content/drive/MyDrive/val_set/models/CNN_FINAL_Normalized_MFCC.ckpt\n",
            "2803/2803 [==============================] - 36s 13ms/step - loss: 0.0034 - accuracy: 0.9990 - val_loss: 0.0294 - val_accuracy: 0.9945\n",
            "INFO:tensorflow:Assets written to: /content/drive/MyDrive/val_set/models/CNN_FINAL_MFCC_CORRECT/assets\n"
          ]
        }
      ]
    },
    {
      "cell_type": "code",
      "metadata": {
        "colab": {
          "base_uri": "https://localhost:8080/",
          "height": 295
        },
        "id": "B7XlPKdKF_sz",
        "outputId": "4b13e2a2-065f-4781-822b-e56773bb72d3"
      },
      "source": [
        "plt.title('Traning and Validation Loss for CNN')\n",
        "plt.xlabel('Epochs')\n",
        "plt.ylabel('Cross Entropy Loss')\n",
        "plt.plot(np.arange(15),history.history.get('loss', []), label='train')\n",
        "plt.plot(np.arange(15),history.history.get('val_loss', []), label='val')\n",
        "plt.legend()\n",
        "plt.show()"
      ],
      "execution_count": null,
      "outputs": [
        {
          "output_type": "display_data",
          "data": {
            "image/png": "[encoded data removed]",
            "text/plain": [
              "<Figure size 432x288 with 1 Axes>"
            ]
          },
          "metadata": {
            "needs_background": "light"
          }
        }
      ]
    },
    {
      "cell_type": "code",
      "metadata": {
        "colab": {
          "base_uri": "https://localhost:8080/",
          "height": 34
        },
        "id": "84upOB-YJI9d",
        "outputId": "a76ef6c6-b682-4d61-c4d5-aab071c49805"
      },
      "source": [
        "plt.savefig('loss_curve_CNN.pdf')"
      ],
      "execution_count": null,
      "outputs": [
        {
          "output_type": "display_data",
          "data": {
            "text/plain": [
              "<Figure size 432x288 with 0 Axes>"
            ]
          },
          "metadata": {}
        }
      ]
    },
    {
      "cell_type": "code",
      "metadata": {
        "id": "B8XPeYwbP2bV"
      },
      "source": [
        "# LOADING THE PREVIOUS TRAINED MODEL\n",
        "\n",
        "latest = tf.train.latest_checkpoint(checkpoint_dir)\n",
        "# Create a new model instance\n",
        "model = get_conv_model()\n",
        "\n",
        "# Load the previously saved weights\n",
        "model.load_weights(latest)\n"
      ],
      "execution_count": null,
      "outputs": []
    },
    {
      "cell_type": "code",
      "metadata": {
        "id": "R--kyAq7QQC0",
        "colab": {
          "base_uri": "https://localhost:8080/"
        },
        "outputId": "1b6e1027-b348-44c6-d235-811c31c67ed2"
      },
      "source": [
        "test_spectrograms = os.listdir('/content/drive/MyDrive/val_set/mock_spectrograms')\n",
        "print(test_spectrograms)\n",
        "X_test_mock = []\n",
        "for i in range(len(test_spectrograms)):\n",
        "  temp = np.load('/content/drive/MyDrive/val_set/mock_spectrograms/'+test_spectrograms[i])\n",
        "  X_test_mock.append(temp)\n",
        "X_test_mock = np.array(X_test_mock)\n",
        "print(X_test_mock.shape)\n",
        "X_mock_mfcc = get_mfcc(X_test_mock)\n",
        "print(X_mock_mfcc.shape)"
      ],
      "execution_count": null,
      "outputs": [
        {
          "output_type": "stream",
          "name": "stdout",
          "text": [
            "['test_sample-9.npy', 'test_sample-3.npy', 'test_sample-1.npy', 'test_sample-2.npy', 'test_sample-5.npy', 'test_sample-8.npy', 'test_sample-0.npy', 'test_sample-6.npy', 'test_sample-4.npy', 'test_sample-7.npy']\n",
            "(10, 513, 313)\n",
            "(10, 20, 313)\n"
          ]
        }
      ]
    },
    {
      "cell_type": "code",
      "metadata": {
        "id": "OKOrJ-28n77Z"
      },
      "source": [
        "# RESHAPING THE TEST DATA\n",
        "def reshape_test(X):\n",
        "  # Reshape the data \n",
        "  X_new = []\n",
        "  for i in range(len(X)):\n",
        "    X_new.append(np.transpose(X[i]))\n",
        "    # print(X[i].shape[1])\n",
        "    # print(np.shape(y_new))\n",
        "  X_new = np.array(X_new)\n",
        "  X_new = X_new.reshape((-1, X[0].shape[0]))\n",
        "  print(X_new.shape)\n",
        "  return X_new"
      ],
      "execution_count": null,
      "outputs": []
    },
    {
      "cell_type": "code",
      "metadata": {
        "id": "OqK4Lk2qDHCF"
      },
      "source": [
        "def calc_spec(x):\n",
        "    n_fft = 1024\n",
        "    hop_length = 512\n",
        "    win_length = 1024\n",
        "    X = np.abs(librosa.stft(x, n_fft = n_fft, hop_length = hop_length, win_length = win_length, window='hann', dtype = np.complex256))\n",
        "    X = librosa.power_to_db(X**2,ref=np.max)\n",
        "    return X"
      ],
      "execution_count": null,
      "outputs": []
    },
    {
      "cell_type": "code",
      "metadata": {
        "id": "ZXEo43SPCl9b"
      },
      "source": [
        "demo = np.load('/content/demo.npy')\n",
        "mel_spectrogram = librosa.feature.melspectrogram(S=demo, n_fft=N_FFT, hop_length=HOP_LENGTH)\n",
        "mfcc = librosa.feature.mfcc(S=mel_spectrogram, sr=16000,n_mfcc=20)\n",
        "mean = np.average(mfcc)\n",
        "std = np.std(mfcc)\n",
        "if(std == 0):\n",
        "  std = std + 1e-25\n",
        "mfcc = (mfcc - mean)/std"
      ],
      "execution_count": null,
      "outputs": []
    },
    {
      "cell_type": "code",
      "metadata": {
        "id": "YevDb92_nw1K",
        "colab": {
          "base_uri": "https://localhost:8080/"
        },
        "outputId": "831a0ffc-e5aa-42ce-d8fe-0d6127e08e2e"
      },
      "source": [
        "X_mock_mfcc_reshaped = np.transpose(mfcc)\n",
        "print(X_mock_mfcc_reshaped.shape)\n",
        "mock2 = make_bags(X_mock_mfcc_reshaped)\n",
        "print(mock2.shape)"
      ],
      "execution_count": null,
      "outputs": [
        {
          "output_type": "stream",
          "name": "stdout",
          "text": [
            "(313, 20)\n"
          ]
        },
        {
          "output_type": "stream",
          "name": "stderr",
          "text": [
            "100%|██████████| 307/307 [00:00<00:00, 513417.59it/s]"
          ]
        },
        {
          "output_type": "stream",
          "name": "stdout",
          "text": [
            "(313, 7, 20)\n"
          ]
        },
        {
          "output_type": "stream",
          "name": "stderr",
          "text": [
            "\n"
          ]
        }
      ]
    },
    {
      "cell_type": "code",
      "metadata": {
        "id": "A1iWJgtvps-e"
      },
      "source": [
        "# MAKING PREDICTIONS\n",
        "predictions = model.predict(mock2)\n",
        "print(predictions)\n",
        "new_predictions = []\n",
        "for i in range(len(predictions)):\n",
        "    if(predictions[i][0]>0.5):\n",
        "      new_predictions.append('speech')\n",
        "    elif(predictions[i][1]>0.5):\n",
        "      new_predictions.append('music')\n",
        "    else:\n",
        "      new_predictions.append('silence')\n",
        "print(new_predictions)"
      ],
      "execution_count": null,
      "outputs": []
    },
    {
      "cell_type": "code",
      "metadata": {
        "id": "kuMae9xYps8W"
      },
      "source": [
        "print(predictions)"
      ],
      "execution_count": null,
      "outputs": []
    },
    {
      "cell_type": "code",
      "metadata": {
        "id": "zDzAYe7WTfHb"
      },
      "source": [
        "new_predictions = []\n",
        "for i in range(len(predictions)):\n",
        "    if(predictions[i][0]>0.5):\n",
        "      new_predictions.append('speech')\n",
        "    elif(predictions[i][1]>0.5):\n",
        "      new_predictions.append('music')\n",
        "    else:\n",
        "      new_predictions.append('silence')"
      ],
      "execution_count": null,
      "outputs": []
    },
    {
      "cell_type": "code",
      "metadata": {
        "colab": {
          "base_uri": "https://localhost:8080/"
        },
        "id": "zMBDlay4ULa3",
        "outputId": "3c6b0b54-1004-4452-c4bd-b0fe883be78d"
      },
      "source": [
        "print(new_predictions)"
      ],
      "execution_count": null,
      "outputs": [
        {
          "output_type": "stream",
          "name": "stdout",
          "text": [
            "['silence', 'silence', 'silence', 'silence', 'silence', 'silence', 'silence', 'speech', 'silence', 'silence', 'speech', 'speech', 'speech', 'speech', 'speech', 'speech', 'speech', 'speech', 'speech', 'speech', 'speech', 'speech', 'speech', 'speech', 'music', 'music', 'music', 'music', 'music', 'music', 'music', 'speech', 'speech', 'speech', 'speech', 'speech', 'speech', 'speech', 'music', 'music', 'music', 'speech', 'music', 'music', 'music', 'music', 'speech', 'music', 'silence', 'silence', 'silence', 'silence', 'silence', 'silence', 'silence', 'music', 'music', 'silence', 'silence', 'silence', 'silence', 'silence', 'silence', 'silence', 'silence', 'speech', 'speech', 'speech', 'speech', 'speech', 'speech', 'silence', 'silence', 'silence', 'silence', 'speech', 'speech', 'speech', 'music', 'music', 'music', 'music', 'silence', 'silence', 'silence', 'speech', 'silence', 'silence', 'speech', 'speech', 'speech', 'speech', 'speech', 'speech', 'speech', 'speech', 'speech', 'speech', 'speech', 'speech', 'speech', 'speech', 'speech', 'speech', 'speech', 'speech', 'speech', 'speech', 'speech', 'speech', 'speech', 'speech', 'speech', 'speech', 'speech', 'speech', 'speech', 'speech', 'speech', 'speech', 'speech', 'speech', 'speech', 'speech', 'speech', 'speech', 'speech', 'speech', 'speech', 'speech', 'speech', 'speech', 'speech', 'speech', 'speech', 'speech', 'speech', 'speech', 'silence', 'silence', 'silence', 'silence', 'silence', 'music', 'silence', 'music', 'music', 'silence', 'silence', 'music', 'music', 'silence', 'silence', 'silence', 'silence', 'silence', 'silence', 'silence', 'speech', 'speech', 'speech', 'speech', 'speech', 'silence', 'speech', 'speech', 'speech', 'speech', 'speech', 'speech', 'speech', 'speech', 'speech', 'speech', 'speech', 'speech', 'speech', 'speech', 'speech', 'speech', 'speech', 'speech', 'speech', 'speech', 'speech', 'speech', 'speech', 'speech', 'speech', 'speech', 'speech', 'speech', 'speech', 'speech', 'speech', 'speech', 'speech', 'speech', 'speech', 'speech', 'speech', 'speech', 'speech', 'speech', 'speech', 'speech', 'speech', 'speech', 'speech', 'speech', 'speech', 'speech', 'speech', 'speech', 'speech', 'speech', 'speech', 'speech', 'speech', 'speech', 'speech', 'speech', 'speech', 'speech', 'speech', 'speech', 'speech', 'speech', 'speech', 'speech', 'speech', 'speech', 'speech', 'speech', 'speech', 'speech', 'speech', 'speech', 'speech', 'speech', 'speech', 'speech', 'speech', 'speech', 'silence', 'silence', 'silence', 'silence', 'silence', 'silence', 'silence', 'silence', 'silence', 'silence', 'silence', 'silence', 'silence', 'silence', 'silence', 'music', 'music', 'music', 'music', 'music', 'music', 'music', 'music', 'music', 'music', 'silence', 'silence', 'silence', 'silence', 'silence', 'silence', 'music', 'silence', 'silence', 'silence', 'silence', 'silence', 'silence', 'silence', 'silence', 'silence', 'silence', 'silence', 'silence', 'silence', 'silence', 'silence', 'silence', 'silence', 'silence', 'silence', 'silence', 'silence', 'silence', 'silence', 'silence', 'silence', 'silence', 'silence', 'silence', 'music', 'music', 'music', 'music', 'silence', 'silence', 'silence', 'silence', 'silence']\n"
          ]
        }
      ]
    },
    {
      "cell_type": "code",
      "metadata": {
        "id": "4s4Mf4Q5yVQF"
      },
      "source": [
        "# CONVERTING FRAME INDEX TO TIME\n",
        "def to_time(iteration, frame_size=WIN_LENGTH, rate=SAMPLING_RATE, hop_size=HOP_LENGTH, duration=DURATION):\n",
        "  total_iterations = int(np.ceil((DURATION*SAMPLING_RATE)/(hop_size)))\n",
        "  return (float(iteration)/float(total_iterations))*DURATION"
      ],
      "execution_count": null,
      "outputs": []
    },
    {
      "cell_type": "code",
      "metadata": {
        "id": "Kk-sxA09yeuJ"
      },
      "source": [
        "# PERFORMING DILATION\n",
        "def dilate(X, span=2):\n",
        "  X_dilated = []\n",
        "  for i in range(len(X)):\n",
        "    count = {'silence':0, 'speech':0, 'music':0}\n",
        "    for j in range(max(0, i-span), min(len(X), i+span)):\n",
        "      count[X[j]] = count[X[j]] + 1\n",
        "    keymax = max(zip(count.values(), count.keys()))[1]\n",
        "    X_dilated.append(keymax)\n",
        "  return X_dilated"
      ],
      "execution_count": null,
      "outputs": []
    },
    {
      "cell_type": "code",
      "metadata": {
        "id": "tZvO_u49yiF0"
      },
      "source": [
        "# PERFORMING DECODING\n",
        "def Decode(predicted, frame_size=WIN_LENGTH, sr=SAMPLING_RATE, min_event_duration=0.4):\n",
        "  ans = []\n",
        "  predicted = dilate(predicted)\n",
        "  prevclass = 'silence'\n",
        "  curclass = 'silence'\n",
        "  start = 0\n",
        "  end = 0\n",
        "\n",
        "  for i in range(len(predicted)):\n",
        "    curclass = predicted[i]\n",
        "    if(curclass != prevclass):\n",
        "        if(prevclass != 'silence'):\n",
        "          ans.append((start, to_time(i), prevclass))\n",
        "        # the prev class has ended\n",
        "        prevclass = curclass\n",
        "        # the start time of the current class is now\n",
        "        start = to_time(i)\n",
        "  if(curclass !='silence'):\n",
        "    ans.append((start, to_time(len(predicted)), curclass))\n",
        "  # Combining adjacent classes (Dilation)\n",
        "  compressed_ans = []\n",
        "  pc = ans[0]\n",
        "  for i in range(len(ans)-1):  \n",
        "    cc = ans[i]\n",
        "    nc = ans[i+1]\n",
        "\n",
        "    if(nc[2] != cc[2]):\n",
        "      compressed_ans.append(pc)\n",
        "      pc = nc\n",
        "    else:\n",
        "      if(nc[0] - pc[1] >= min_event_duration):\n",
        "        compressed_ans.append(pc)\n",
        "        pc=nc\n",
        "      else:\n",
        "        pc = (pc[0], nc[1], pc[2])\n",
        "  compressed_ans.append(pc)    \n",
        "  \n",
        "  final_ans = []\n",
        "  # Erosion\n",
        "  for i in range(len(compressed_ans)):\n",
        "    if(compressed_ans[i][1] - compressed_ans[i][0] > min_event_duration):\n",
        "      final_ans.append(compressed_ans[i])\n",
        "  return final_ans"
      ],
      "execution_count": null,
      "outputs": []
    },
    {
      "cell_type": "code",
      "metadata": {
        "id": "m5Z6lt1LykkN",
        "colab": {
          "base_uri": "https://localhost:8080/"
        },
        "outputId": "958bb973-f653-4f72-dc5f-52b18fbff540"
      },
      "source": [
        "# PRINTING RESULTS\n",
        "ans = Decode(new_predictions)\n",
        "print(ans)"
      ],
      "execution_count": null,
      "outputs": [
        {
          "output_type": "stream",
          "name": "stdout",
          "text": [
            "[(0.2875399361022364, 0.7987220447284344, 'speech'), (2.07667731629393, 2.523961661341853, 'speech'), (2.779552715654952, 4.440894568690096, 'speech'), (5.047923322683706, 7.8274760383386575, 'speech')]\n"
          ]
        }
      ]
    },
    {
      "cell_type": "code",
      "metadata": {
        "id": "TC_RoDWByuVl"
      },
      "source": [
        ""
      ],
      "execution_count": null,
      "outputs": []
    }
  ]
}