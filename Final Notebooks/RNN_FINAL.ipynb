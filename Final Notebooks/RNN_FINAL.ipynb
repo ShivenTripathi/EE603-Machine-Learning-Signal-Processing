{
  "nbformat": 4,
  "nbformat_minor": 0,
  "metadata": {
    "colab": {
      "name": "RNN_FINAL.ipynb",
      "provenance": [],
      "collapsed_sections": []
    },
    "kernelspec": {
      "name": "python3",
      "display_name": "Python 3"
    },
    "language_info": {
      "name": "python"
    },
    "accelerator": "GPU"
  },
  "cells": [
    {
      "cell_type": "markdown",
      "metadata": {
        "id": "4RRH4Pnfyz0R"
      },
      "source": [
        "Recurrent Neural Network"
      ]
    },
    {
      "cell_type": "code",
      "metadata": {
        "id": "1-jwXWtAj0Pk",
        "colab": {
          "base_uri": "https://localhost:8080/"
        },
        "outputId": "ee80feb1-3c31-4e8c-ab2d-0c2d3c083e1f"
      },
      "source": [
        "# IMPORTING THE LIBRARIES\n",
        "import librosa\n",
        "import librosa.display\n",
        "import numpy as np\n",
        "import matplotlib.pyplot as plt\n",
        "import soundfile as sf\n",
        "import IPython.display as ipd\n",
        "import pandas as pd\n",
        "from tqdm import tqdm\n",
        "from sklearn.model_selection import train_test_split\n",
        "from tqdm import tqdm\n",
        "import os\n",
        "!pip install pyyaml h5py  # Required to save models in HDF5 format"
      ],
      "execution_count": 1,
      "outputs": [
        {
          "output_type": "stream",
          "name": "stdout",
          "text": [
            "Requirement already satisfied: pyyaml in /usr/local/lib/python3.7/dist-packages (3.13)\n",
            "Requirement already satisfied: h5py in /usr/local/lib/python3.7/dist-packages (3.1.0)\n",
            "Requirement already satisfied: cached-property in /usr/local/lib/python3.7/dist-packages (from h5py) (1.5.2)\n",
            "Requirement already satisfied: numpy>=1.14.5 in /usr/local/lib/python3.7/dist-packages (from h5py) (1.19.5)\n"
          ]
        }
      ]
    },
    {
      "cell_type": "code",
      "metadata": {
        "colab": {
          "base_uri": "https://localhost:8080/"
        },
        "id": "14ryR-iXg9xm",
        "outputId": "87bd3e85-68a8-48ee-d2aa-4b8a9001026f"
      },
      "source": [
        "# MOUNTING GOOGLE DRIVE TO LOAD AND STORE THE DATA\n",
        "from google.colab import drive\n",
        "drive.mount('/content/drive')"
      ],
      "execution_count": 2,
      "outputs": [
        {
          "output_type": "stream",
          "name": "stdout",
          "text": [
            "Mounted at /content/drive\n"
          ]
        }
      ]
    },
    {
      "cell_type": "code",
      "metadata": {
        "id": "0hlZhXLAnsHW"
      },
      "source": [
        "# PARAMETER FOR STFT\n",
        "SAMPLING_RATE=16000\n",
        "DURATION=10\n",
        "N_FFT = 1024\n",
        "WIN_LENGTH = 1024\n",
        "HOP_LENGTH = 512"
      ],
      "execution_count": 3,
      "outputs": []
    },
    {
      "cell_type": "code",
      "metadata": {
        "id": "dkXKRawwk0xv",
        "colab": {
          "base_uri": "https://localhost:8080/"
        },
        "outputId": "e34c3b95-4a8f-4057-d63a-e70a1fc9306d"
      },
      "source": [
        "# LOADING THE TRAINING SPECTROGRAMS\n",
        "X = np.load('/content/drive/MyDrive/val_set/Final_Dataset/training_spectrogram.npy')\n",
        "print(X.shape)\n",
        "y = np.load('/content/drive/MyDrive/val_set/Final_Dataset/training_labels.npy')\n",
        "print(y.shape)\n",
        "from sklearn.utils import shuffle\n",
        "X, y = shuffle(X, y)"
      ],
      "execution_count": 4,
      "outputs": [
        {
          "output_type": "stream",
          "name": "stdout",
          "text": [
            "(717, 513, 313)\n",
            "(717,)\n"
          ]
        }
      ]
    },
    {
      "cell_type": "code",
      "metadata": {
        "id": "DfpZHWsThMZf"
      },
      "source": [
        "# EXTRACTING THE MFCC FEATURES FROM THE SPECTROGRAM\n",
        "def get_mfcc(X):\n",
        "  X_new = []\n",
        "  for i in range(len(X)):\n",
        "    mel_spectrogram = librosa.feature.melspectrogram(S=X[i], n_fft=N_FFT, hop_length=HOP_LENGTH)\n",
        "    mfcc = librosa.feature.mfcc(S=mel_spectrogram, sr=16000,n_mfcc=20)\n",
        "    mean = np.average(mfcc)\n",
        "    std = np.std(mfcc)\n",
        "    if(std == 0):\n",
        "      std = std + 1e-25\n",
        "    mfcc = (mfcc - mean)/std\n",
        "    X_new.append(mfcc)\n",
        "  return np.array(X_new)\n",
        "X = get_mfcc(X)"
      ],
      "execution_count": 5,
      "outputs": []
    },
    {
      "cell_type": "code",
      "metadata": {
        "id": "7QbbWmbsWhlL"
      },
      "source": [
        "# FUNCTIONS TO CONVERT STRING TO ONE-HOT-VECTORS\n",
        "def one_hot_enc(cl_name):\n",
        "  if(cl_name == 'music'):\n",
        "    return np.array([0,1,0])\n",
        "  elif(cl_name == 'speech'):\n",
        "    return np.array([1,0,0])\n",
        "  else:\n",
        "    return np.array([0,0,1])\n",
        "\n",
        "def string2ohv(y):\n",
        "  y_ohv = []\n",
        "  for i in y:\n",
        "    y_ohv.append(one_hot_enc(i))\n",
        "  return np.array(y_ohv)"
      ],
      "execution_count": 6,
      "outputs": []
    },
    {
      "cell_type": "code",
      "metadata": {
        "colab": {
          "base_uri": "https://localhost:8080/"
        },
        "id": "Me1oY9xAqNfT",
        "outputId": "8902c417-1a21-4e61-a458-3d11ac907e90"
      },
      "source": [
        "# SPLITTING DATA BETWEEN TRAINING AND TESTING. \n",
        "# The test split is used for validation during the training purpose and the final test is performed on the recieved data.\n",
        "from sklearn.model_selection import train_test_split\n",
        "X_train, X_test, y_train, y_test = train_test_split(X, y, test_size=0.20, shuffle=True)\n",
        "print(X_train.shape)\n",
        "print(X_test.shape)"
      ],
      "execution_count": 7,
      "outputs": [
        {
          "output_type": "stream",
          "name": "stdout",
          "text": [
            "(573, 20, 313)\n",
            "(144, 20, 313)\n"
          ]
        }
      ]
    },
    {
      "cell_type": "code",
      "metadata": {
        "id": "zh_rhESIxAW0",
        "colab": {
          "base_uri": "https://localhost:8080/"
        },
        "outputId": "91f87d83-0109-4d44-ee2b-52f2dd4ceb83"
      },
      "source": [
        "# RESHAPING THE DATA\n",
        "def reshape(X, y):\n",
        "  # Reshape the data to make each entry in the spectrogram a training sample\n",
        "  X_new = []\n",
        "  y_new = []\n",
        "  for i in range(len(X)):\n",
        "    X_new.append(np.transpose(X[i]))\n",
        "    # print(X[i].shape[1])\n",
        "    y_new.append([y[i]]*X[i].shape[1])\n",
        "    # print(np.shape(y_new))\n",
        "  X_new = np.array(X_new)\n",
        "  y_new = np.array(y_new)\n",
        "  X_new = X_new.reshape((-1, X[0].shape[0]))\n",
        "  y_new = y_new.reshape((-1, 1))\n",
        "  print(X_new.shape)\n",
        "  print(y_new.shape)\n",
        "  return X_new, y_new\n",
        "X_train, y_train = reshape(X_train, y_train)\n",
        "X_test, y_test = reshape(X_test, y_test)\n",
        "y_test = string2ohv(y_test)\n",
        "y_train = string2ohv(y_train)\n",
        "print(y_train.shape)\n",
        "print(y_test.shape)"
      ],
      "execution_count": 8,
      "outputs": [
        {
          "output_type": "stream",
          "name": "stdout",
          "text": [
            "(179349, 20)\n",
            "(179349, 1)\n",
            "(45072, 20)\n",
            "(45072, 1)\n",
            "(179349, 3)\n",
            "(45072, 3)\n"
          ]
        }
      ]
    },
    {
      "cell_type": "code",
      "metadata": {
        "id": "LPSnCBmMy1OW",
        "colab": {
          "base_uri": "https://localhost:8080/"
        },
        "outputId": "e7b5f52d-2797-412f-da94-926a0e09908f"
      },
      "source": [
        "# PREPARING THE BAG OF FRAMES TO ESTABLISH TEMPORAL DEPENDENCE\n",
        "def make_bags(X_prev):\n",
        "  X_new = []\n",
        "  X_new.append(X_prev[:7])\n",
        "  X_new.append(X_prev[:7])\n",
        "  X_new.append(X_prev[:7])\n",
        "\n",
        "  for i in tqdm(range(len(X_prev)-6)):\n",
        "    A = X_prev[i:i+7]\n",
        "    X_new.append(A)\n",
        "\n",
        "  X_new.append(X_prev[-7:])\n",
        "  X_new.append(X_prev[-7:])\n",
        "  X_new.append(X_prev[-7:])\n",
        "  \n",
        "  X_new = np.array(X_new)\n",
        "  return X_new\n",
        "X_test_reshaped = make_bags(X_test)\n",
        "print(X_test_reshaped.shape)\n",
        "X_train_reshaped = make_bags(X_train)\n",
        "print(X_train_reshaped.shape)"
      ],
      "execution_count": 9,
      "outputs": [
        {
          "output_type": "stream",
          "name": "stderr",
          "text": [
            "100%|██████████| 45066/45066 [00:00<00:00, 1100722.69it/s]\n"
          ]
        },
        {
          "output_type": "stream",
          "name": "stdout",
          "text": [
            "(45072, 7, 20)\n"
          ]
        },
        {
          "output_type": "stream",
          "name": "stderr",
          "text": [
            "100%|██████████| 179343/179343 [00:00<00:00, 1299849.60it/s]\n"
          ]
        },
        {
          "output_type": "stream",
          "name": "stdout",
          "text": [
            "(179349, 7, 20)\n"
          ]
        }
      ]
    },
    {
      "cell_type": "code",
      "metadata": {
        "id": "Osgmzgl5TtuF"
      },
      "source": [
        "# BUILDING THE MODEL \n",
        "import tensorflow as tf\n",
        "from tensorflow.keras import Sequential\n",
        "from tensorflow.keras.layers import Conv2D, MaxPool2D, Dense, Flatten, Dropout, TimeDistributed, LSTM\n",
        "def get_rec_model():\n",
        "  # the shape of the data needs to be (n, time, features)\n",
        "  model = Sequential()\n",
        "  model.add(LSTM(128, return_sequences=True, input_shape=input_shape))\n",
        "  model.add(LSTM(128, return_sequences=True))\n",
        "  model.add(Dropout(0.5))\n",
        "  model.add(TimeDistributed(Dense(64, activation='relu')))\n",
        "  model.add(TimeDistributed(Dense(32, activation='relu')))\n",
        "  model.add(TimeDistributed(Dense(16, activation='relu')))\n",
        "  model.add(TimeDistributed(Dense(8, activation='relu')))\n",
        "  model.add(Flatten())\n",
        "  model.add(Dense(3, activation='softmax'))\n",
        "  model.summary()\n",
        "  model.compile(loss='categorical_crossentropy', \n",
        "                optimizer='adam', metrics=['accuracy'])\n",
        "  return model"
      ],
      "execution_count": 10,
      "outputs": []
    },
    {
      "cell_type": "code",
      "metadata": {
        "id": "JiPirECkN1m_",
        "colab": {
          "base_uri": "https://localhost:8080/"
        },
        "outputId": "e667d5b2-4a27-44c0-b33c-4bbbf3b55f23"
      },
      "source": [
        "# CHECKPOINTS FOR SAVING THE MODEL WEIGHTS AT EACH EPOCH\n",
        "checkpoint_path = \"/content/drive/MyDrive/val_set/models/RNN_FINAL_Normalized_MFCC.ckpt\"\n",
        "checkpoint_dir = os.path.dirname(checkpoint_path)\n",
        "cp_callback = tf.keras.callbacks.ModelCheckpoint(filepath=checkpoint_path,\n",
        "                                                 save_weights_only=True,\n",
        "                                                 verbose=1)\n",
        "os.listdir(checkpoint_dir)"
      ],
      "execution_count": 12,
      "outputs": [
        {
          "output_type": "execute_result",
          "data": {
            "text/plain": [
              "['CNN_FINAL',\n",
              " 'CNN_FINAL.ckpt.index',\n",
              " 'CNN_FINAL.ckpt.data-00000-of-00001',\n",
              " 'CNN_FINAL_Normalized.ckpt.index',\n",
              " 'CNN_FINAL_Normalized.ckpt.data-00000-of-00001',\n",
              " 'CNN_FINAL_MFCC',\n",
              " 'CNN_FINAL_MFCC_NORMALIZED',\n",
              " 'CNN_FINAL_MFCC_CORRECT',\n",
              " 'CNN_FINAL_Normalized_MFCC.ckpt.index',\n",
              " 'checkpoint',\n",
              " 'CNN_FINAL_Normalized_MFCC.ckpt.data-00000-of-00001']"
            ]
          },
          "metadata": {},
          "execution_count": 12
        }
      ]
    },
    {
      "cell_type": "code",
      "metadata": {
        "id": "0E3V03R_xVl6",
        "colab": {
          "base_uri": "https://localhost:8080/"
        },
        "outputId": "d1ac2f61-10b6-4b74-ab1b-eb5dbdf1e142"
      },
      "source": [
        "# TRAINING AND SAVING THE MODEL\n",
        "input_shape = (X_train_reshaped.shape[1], X_train_reshaped.shape[2])\n",
        "model = get_rec_model()\n",
        "history = model.fit(X_train_reshaped, y_train, epochs=15, batch_size=64, shuffle=True, validation_data=(X_test_reshaped, y_test), callbacks=[cp_callback])\n",
        "model.save('/content/drive/MyDrive/val_set/models/RNN_FINAL_MFCC_CORRECT')"
      ],
      "execution_count": 16,
      "outputs": [
        {
          "output_type": "stream",
          "name": "stdout",
          "text": [
            "Model: \"sequential_1\"\n",
            "_________________________________________________________________\n",
            " Layer (type)                Output Shape              Param #   \n",
            "=================================================================\n",
            " lstm_1 (LSTM)               (None, 7, 128)            76288     \n",
            "                                                                 \n",
            " lstm_2 (LSTM)               (None, 7, 128)            131584    \n",
            "                                                                 \n",
            " dropout (Dropout)           (None, 7, 128)            0         \n",
            "                                                                 \n",
            " time_distributed (TimeDistr  (None, 7, 64)            8256      \n",
            " ibuted)                                                         \n",
            "                                                                 \n",
            " time_distributed_1 (TimeDis  (None, 7, 32)            2080      \n",
            " tributed)                                                       \n",
            "                                                                 \n",
            " time_distributed_2 (TimeDis  (None, 7, 16)            528       \n",
            " tributed)                                                       \n",
            "                                                                 \n",
            " time_distributed_3 (TimeDis  (None, 7, 8)             136       \n",
            " tributed)                                                       \n",
            "                                                                 \n",
            " flatten (Flatten)           (None, 56)                0         \n",
            "                                                                 \n",
            " dense_4 (Dense)             (None, 3)                 171       \n",
            "                                                                 \n",
            "=================================================================\n",
            "Total params: 219,043\n",
            "Trainable params: 219,043\n",
            "Non-trainable params: 0\n",
            "_________________________________________________________________\n",
            "Epoch 1/15\n",
            "2800/2803 [============================>.] - ETA: 0s - loss: 0.1684 - accuracy: 0.9321\n",
            "Epoch 00001: saving model to /content/drive/MyDrive/val_set/models/RNN_FINAL_Normalized_MFCC.ckpt\n",
            "2803/2803 [==============================] - 44s 12ms/step - loss: 0.1683 - accuracy: 0.9321 - val_loss: 0.0487 - val_accuracy: 0.9838\n",
            "Epoch 2/15\n",
            "2801/2803 [============================>.] - ETA: 0s - loss: 0.0520 - accuracy: 0.9825\n",
            "Epoch 00002: saving model to /content/drive/MyDrive/val_set/models/RNN_FINAL_Normalized_MFCC.ckpt\n",
            "2803/2803 [==============================] - 33s 12ms/step - loss: 0.0520 - accuracy: 0.9825 - val_loss: 0.0508 - val_accuracy: 0.9829\n",
            "Epoch 3/15\n",
            "2801/2803 [============================>.] - ETA: 0s - loss: 0.0361 - accuracy: 0.9879\n",
            "Epoch 00003: saving model to /content/drive/MyDrive/val_set/models/RNN_FINAL_Normalized_MFCC.ckpt\n",
            "2803/2803 [==============================] - 35s 13ms/step - loss: 0.0361 - accuracy: 0.9879 - val_loss: 0.0203 - val_accuracy: 0.9937\n",
            "Epoch 4/15\n",
            "2799/2803 [============================>.] - ETA: 0s - loss: 0.0263 - accuracy: 0.9912\n",
            "Epoch 00004: saving model to /content/drive/MyDrive/val_set/models/RNN_FINAL_Normalized_MFCC.ckpt\n",
            "2803/2803 [==============================] - 33s 12ms/step - loss: 0.0263 - accuracy: 0.9912 - val_loss: 0.0224 - val_accuracy: 0.9935\n",
            "Epoch 5/15\n",
            "2802/2803 [============================>.] - ETA: 0s - loss: 0.0208 - accuracy: 0.9929\n",
            "Epoch 00005: saving model to /content/drive/MyDrive/val_set/models/RNN_FINAL_Normalized_MFCC.ckpt\n",
            "2803/2803 [==============================] - 36s 13ms/step - loss: 0.0208 - accuracy: 0.9929 - val_loss: 0.0122 - val_accuracy: 0.9963\n",
            "Epoch 6/15\n",
            "2800/2803 [============================>.] - ETA: 0s - loss: 0.0211 - accuracy: 0.9932\n",
            "Epoch 00006: saving model to /content/drive/MyDrive/val_set/models/RNN_FINAL_Normalized_MFCC.ckpt\n",
            "2803/2803 [==============================] - 33s 12ms/step - loss: 0.0211 - accuracy: 0.9932 - val_loss: 0.0112 - val_accuracy: 0.9963\n",
            "Epoch 7/15\n",
            "2803/2803 [==============================] - ETA: 0s - loss: 0.0139 - accuracy: 0.9953\n",
            "Epoch 00007: saving model to /content/drive/MyDrive/val_set/models/RNN_FINAL_Normalized_MFCC.ckpt\n",
            "2803/2803 [==============================] - 33s 12ms/step - loss: 0.0139 - accuracy: 0.9953 - val_loss: 0.0164 - val_accuracy: 0.9950\n",
            "Epoch 8/15\n",
            "2801/2803 [============================>.] - ETA: 0s - loss: 0.0121 - accuracy: 0.9960\n",
            "Epoch 00008: saving model to /content/drive/MyDrive/val_set/models/RNN_FINAL_Normalized_MFCC.ckpt\n",
            "2803/2803 [==============================] - 33s 12ms/step - loss: 0.0121 - accuracy: 0.9960 - val_loss: 0.0175 - val_accuracy: 0.9944\n",
            "Epoch 9/15\n",
            "2802/2803 [============================>.] - ETA: 0s - loss: 0.0106 - accuracy: 0.9964\n",
            "Epoch 00009: saving model to /content/drive/MyDrive/val_set/models/RNN_FINAL_Normalized_MFCC.ckpt\n",
            "2803/2803 [==============================] - 35s 13ms/step - loss: 0.0106 - accuracy: 0.9964 - val_loss: 0.0096 - val_accuracy: 0.9968\n",
            "Epoch 10/15\n",
            "2799/2803 [============================>.] - ETA: 0s - loss: 0.0087 - accuracy: 0.9970\n",
            "Epoch 00010: saving model to /content/drive/MyDrive/val_set/models/RNN_FINAL_Normalized_MFCC.ckpt\n",
            "2803/2803 [==============================] - 35s 13ms/step - loss: 0.0087 - accuracy: 0.9970 - val_loss: 0.0158 - val_accuracy: 0.9950\n",
            "Epoch 11/15\n",
            "2803/2803 [==============================] - ETA: 0s - loss: 0.0076 - accuracy: 0.9974\n",
            "Epoch 00011: saving model to /content/drive/MyDrive/val_set/models/RNN_FINAL_Normalized_MFCC.ckpt\n",
            "2803/2803 [==============================] - 33s 12ms/step - loss: 0.0076 - accuracy: 0.9974 - val_loss: 0.0204 - val_accuracy: 0.9936\n",
            "Epoch 12/15\n",
            "2800/2803 [============================>.] - ETA: 0s - loss: 0.0067 - accuracy: 0.9978\n",
            "Epoch 00012: saving model to /content/drive/MyDrive/val_set/models/RNN_FINAL_Normalized_MFCC.ckpt\n",
            "2803/2803 [==============================] - 33s 12ms/step - loss: 0.0067 - accuracy: 0.9978 - val_loss: 0.0127 - val_accuracy: 0.9957\n",
            "Epoch 13/15\n",
            "2801/2803 [============================>.] - ETA: 0s - loss: 0.0087 - accuracy: 0.9973\n",
            "Epoch 00013: saving model to /content/drive/MyDrive/val_set/models/RNN_FINAL_Normalized_MFCC.ckpt\n",
            "2803/2803 [==============================] - 35s 13ms/step - loss: 0.0087 - accuracy: 0.9973 - val_loss: 0.0116 - val_accuracy: 0.9958\n",
            "Epoch 14/15\n",
            "2803/2803 [==============================] - ETA: 0s - loss: 0.0058 - accuracy: 0.9980\n",
            "Epoch 00014: saving model to /content/drive/MyDrive/val_set/models/RNN_FINAL_Normalized_MFCC.ckpt\n",
            "2803/2803 [==============================] - 33s 12ms/step - loss: 0.0058 - accuracy: 0.9980 - val_loss: 0.0114 - val_accuracy: 0.9966\n",
            "Epoch 15/15\n",
            "2803/2803 [==============================] - ETA: 0s - loss: 0.0045 - accuracy: 0.9984\n",
            "Epoch 00015: saving model to /content/drive/MyDrive/val_set/models/RNN_FINAL_Normalized_MFCC.ckpt\n",
            "2803/2803 [==============================] - 33s 12ms/step - loss: 0.0045 - accuracy: 0.9984 - val_loss: 0.0219 - val_accuracy: 0.9929\n"
          ]
        },
        {
          "output_type": "stream",
          "name": "stderr",
          "text": [
            "WARNING:absl:Found untraced functions such as lstm_cell_1_layer_call_fn, lstm_cell_1_layer_call_and_return_conditional_losses, lstm_cell_2_layer_call_fn, lstm_cell_2_layer_call_and_return_conditional_losses, lstm_cell_1_layer_call_fn while saving (showing 5 of 10). These functions will not be directly callable after loading.\n"
          ]
        },
        {
          "output_type": "stream",
          "name": "stdout",
          "text": [
            "INFO:tensorflow:Assets written to: /content/drive/MyDrive/val_set/models/RNN_FINAL_MFCC_CORRECT/assets\n"
          ]
        },
        {
          "output_type": "stream",
          "name": "stderr",
          "text": [
            "INFO:tensorflow:Assets written to: /content/drive/MyDrive/val_set/models/RNN_FINAL_MFCC_CORRECT/assets\n",
            "WARNING:absl:<keras.layers.recurrent.LSTMCell object at 0x7f74f0570b50> has the same name 'LSTMCell' as a built-in Keras object. Consider renaming <class 'keras.layers.recurrent.LSTMCell'> to avoid naming conflicts when loading with `tf.keras.models.load_model`. If renaming is not possible, pass the object in the `custom_objects` parameter of the load function.\n",
            "WARNING:absl:<keras.layers.recurrent.LSTMCell object at 0x7f74f0521110> has the same name 'LSTMCell' as a built-in Keras object. Consider renaming <class 'keras.layers.recurrent.LSTMCell'> to avoid naming conflicts when loading with `tf.keras.models.load_model`. If renaming is not possible, pass the object in the `custom_objects` parameter of the load function.\n"
          ]
        }
      ]
    },
    {
      "cell_type": "code",
      "metadata": {
        "colab": {
          "base_uri": "https://localhost:8080/",
          "height": 295
        },
        "id": "B7XlPKdKF_sz",
        "outputId": "812c18d7-4a7b-4d8a-8f60-54ea3241ee47"
      },
      "source": [
        "plt.title('Traning and Validation Loss for RNN')\n",
        "plt.xlabel('Epochs')\n",
        "plt.ylabel('Cross Entropy Loss')\n",
        "plt.plot(np.arange(15),history.history.get('loss', []), label='train')\n",
        "plt.plot(np.arange(15),history.history.get('val_loss', []), label='val')\n",
        "plt.legend()\n",
        "plt.show()"
      ],
      "execution_count": 17,
      "outputs": [
        {
          "output_type": "display_data",
          "data": {
            "image/png": "[encoded data removed]",
            "text/plain": [
              "<Figure size 432x288 with 1 Axes>"
            ]
          },
          "metadata": {
            "needs_background": "light"
          }
        }
      ]
    },
    {
      "cell_type": "code",
      "metadata": {
        "id": "B8XPeYwbP2bV"
      },
      "source": [
        "# LOADING THE PREVIOUS TRAINED MODEL\n",
        "\n",
        "latest = tf.train.latest_checkpoint(checkpoint_dir)\n",
        "# Create a new model instance\n",
        "model = get_conv_model()\n",
        "\n",
        "# Load the previously saved weights\n",
        "model.load_weights(latest)\n"
      ],
      "execution_count": null,
      "outputs": []
    },
    {
      "cell_type": "code",
      "metadata": {
        "id": "R--kyAq7QQC0",
        "colab": {
          "base_uri": "https://localhost:8080/"
        },
        "outputId": "1b6e1027-b348-44c6-d235-811c31c67ed2"
      },
      "source": [
        "test_spectrograms = os.listdir('/content/drive/MyDrive/val_set/mock_spectrograms')\n",
        "print(test_spectrograms)\n",
        "X_test_mock = []\n",
        "for i in range(len(test_spectrograms)):\n",
        "  temp = np.load('/content/drive/MyDrive/val_set/mock_spectrograms/'+test_spectrograms[i])\n",
        "  X_test_mock.append(temp)\n",
        "X_test_mock = np.array(X_test_mock)\n",
        "print(X_test_mock.shape)\n",
        "X_mock_mfcc = get_mfcc(X_test_mock)\n",
        "print(X_mock_mfcc.shape)"
      ],
      "execution_count": null,
      "outputs": [
        {
          "output_type": "stream",
          "name": "stdout",
          "text": [
            "['test_sample-9.npy', 'test_sample-3.npy', 'test_sample-1.npy', 'test_sample-2.npy', 'test_sample-5.npy', 'test_sample-8.npy', 'test_sample-0.npy', 'test_sample-6.npy', 'test_sample-4.npy', 'test_sample-7.npy']\n",
            "(10, 513, 313)\n",
            "(10, 20, 313)\n"
          ]
        }
      ]
    },
    {
      "cell_type": "code",
      "metadata": {
        "id": "OKOrJ-28n77Z"
      },
      "source": [
        "# RESHAPING THE TEST DATA\n",
        "def reshape_test(X):\n",
        "  # Reshape the data \n",
        "  X_new = []\n",
        "  for i in range(len(X)):\n",
        "    X_new.append(np.transpose(X[i]))\n",
        "    # print(X[i].shape[1])\n",
        "    # print(np.shape(y_new))\n",
        "  X_new = np.array(X_new)\n",
        "  X_new = X_new.reshape((-1, X[0].shape[0]))\n",
        "  print(X_new.shape)\n",
        "  return X_new"
      ],
      "execution_count": null,
      "outputs": []
    },
    {
      "cell_type": "code",
      "metadata": {
        "id": "OqK4Lk2qDHCF"
      },
      "source": [
        "def calc_spec(x):\n",
        "    n_fft = 1024\n",
        "    hop_length = 512\n",
        "    win_length = 1024\n",
        "    X = np.abs(librosa.stft(x, n_fft = n_fft, hop_length = hop_length, win_length = win_length, window='hann', dtype = np.complex256))\n",
        "    X = librosa.power_to_db(X**2,ref=np.max)\n",
        "    return X"
      ],
      "execution_count": null,
      "outputs": []
    },
    {
      "cell_type": "code",
      "metadata": {
        "id": "ZXEo43SPCl9b"
      },
      "source": [
        "demo = np.load('/content/demo2.npy')\n",
        "mel_spectrogram = librosa.feature.melspectrogram(S=demo, n_fft=N_FFT, hop_length=HOP_LENGTH)\n",
        "mfcc = librosa.feature.mfcc(S=mel_spectrogram, sr=16000,n_mfcc=20)\n",
        "mean = np.average(mfcc)\n",
        "std = np.std(mfcc)\n",
        "if(std == 0):\n",
        "  std = std + 1e-25\n",
        "mfcc = (mfcc - mean)/std"
      ],
      "execution_count": 25,
      "outputs": []
    },
    {
      "cell_type": "code",
      "metadata": {
        "id": "YevDb92_nw1K",
        "colab": {
          "base_uri": "https://localhost:8080/"
        },
        "outputId": "5362fd05-84fb-4133-8cc3-19fbc4b66ee1"
      },
      "source": [
        "X_mock_mfcc_reshaped = np.transpose(mfcc)\n",
        "print(X_mock_mfcc_reshaped.shape)\n",
        "mock2 = make_bags(X_mock_mfcc_reshaped)\n",
        "print(mock2.shape)"
      ],
      "execution_count": 26,
      "outputs": [
        {
          "output_type": "stream",
          "name": "stdout",
          "text": [
            "(313, 20)\n"
          ]
        },
        {
          "output_type": "stream",
          "name": "stderr",
          "text": [
            "100%|██████████| 307/307 [00:00<00:00, 506550.48it/s]"
          ]
        },
        {
          "output_type": "stream",
          "name": "stdout",
          "text": [
            "(313, 7, 20)\n"
          ]
        },
        {
          "output_type": "stream",
          "name": "stderr",
          "text": [
            "\n"
          ]
        }
      ]
    },
    {
      "cell_type": "code",
      "metadata": {
        "id": "A1iWJgtvps-e",
        "colab": {
          "base_uri": "https://localhost:8080/"
        },
        "outputId": "afebb5ba-28ef-48eb-8408-bce394272920"
      },
      "source": [
        "# MAKING PREDICTIONS\n",
        "predictions = model.predict(mock2)\n",
        "print(predictions)\n",
        "new_predictions = []\n",
        "for i in range(len(predictions)):\n",
        "    if(predictions[i][0]>0.5):\n",
        "      new_predictions.append('speech')\n",
        "    elif(predictions[i][1]>0.5):\n",
        "      new_predictions.append('music')\n",
        "    else:\n",
        "      new_predictions.append('silence')\n",
        "print(new_predictions)"
      ],
      "execution_count": 27,
      "outputs": [
        {
          "output_type": "stream",
          "name": "stdout",
          "text": [
            "[[3.88437696e-02 9.60800409e-01 3.55834141e-04]\n",
            " [3.88437696e-02 9.60800409e-01 3.55834141e-04]\n",
            " [3.88437696e-02 9.60800409e-01 3.55834141e-04]\n",
            " [3.88437696e-02 9.60800409e-01 3.55834141e-04]\n",
            " [9.84838419e-03 9.89877045e-01 2.74539489e-04]\n",
            " [1.24122687e-02 9.87408161e-01 1.79593029e-04]\n",
            " [1.63460504e-02 9.83519137e-01 1.34801099e-04]\n",
            " [7.08789685e-06 9.99992847e-01 1.38196455e-07]\n",
            " [2.46308723e-10 1.00000000e+00 1.51533002e-13]\n",
            " [4.21397611e-10 1.00000000e+00 6.36015221e-14]\n",
            " [5.16777836e-11 1.00000000e+00 2.36753819e-15]\n",
            " [5.22030119e-12 1.00000000e+00 1.70230925e-16]\n",
            " [3.11385778e-11 1.00000000e+00 4.78704641e-16]\n",
            " [3.86299241e-08 1.00000000e+00 4.17052157e-12]\n",
            " [5.25181036e-08 1.00000000e+00 3.52649888e-11]\n",
            " [1.06802887e-08 1.00000000e+00 3.90773941e-11]\n",
            " [2.50511984e-08 1.00000000e+00 6.65962355e-11]\n",
            " [1.48317882e-08 1.00000000e+00 7.83699286e-11]\n",
            " [3.32775960e-11 1.00000000e+00 1.29356947e-13]\n",
            " [3.52567650e-12 1.00000000e+00 1.45355380e-16]\n",
            " [1.39176553e-13 1.00000000e+00 2.69427382e-19]\n",
            " [2.81196253e-14 1.00000000e+00 1.94863832e-20]\n",
            " [1.67481351e-14 1.00000000e+00 4.89269174e-21]\n",
            " [1.30196486e-14 1.00000000e+00 1.00497214e-21]\n",
            " [1.83213972e-14 1.00000000e+00 3.81392033e-22]\n",
            " [3.92530314e-14 1.00000000e+00 2.28904221e-21]\n",
            " [1.57642440e-13 1.00000000e+00 4.81994653e-20]\n",
            " [7.17471194e-10 1.00000000e+00 6.63825684e-14]\n",
            " [4.09626644e-08 1.00000000e+00 4.15542115e-11]\n",
            " [2.15419202e-08 1.00000000e+00 2.60201374e-11]\n",
            " [1.40467415e-08 1.00000000e+00 3.23631955e-11]\n",
            " [5.05086251e-10 1.00000000e+00 1.87922768e-12]\n",
            " [1.67714957e-11 1.00000000e+00 6.70344924e-15]\n",
            " [2.53128803e-11 1.00000000e+00 4.69356150e-16]\n",
            " [1.55147878e-12 1.00000000e+00 7.17242519e-18]\n",
            " [7.87495850e-12 1.00000000e+00 1.36588854e-16]\n",
            " [2.12921170e-09 1.00000000e+00 4.10265192e-13]\n",
            " [3.61488418e-07 9.99999642e-01 1.43996731e-10]\n",
            " [9.84871294e-05 9.99901175e-01 4.01251526e-07]\n",
            " [3.05186177e-06 9.99996901e-01 1.51433817e-08]\n",
            " [2.34251431e-07 9.99999762e-01 3.73735976e-09]\n",
            " [2.81416028e-08 1.00000000e+00 1.94036259e-10]\n",
            " [3.86501525e-10 1.00000000e+00 2.70615995e-12]\n",
            " [2.34901009e-12 1.00000000e+00 3.98296359e-16]\n",
            " [6.04676221e-14 1.00000000e+00 4.42114441e-19]\n",
            " [9.27124148e-15 1.00000000e+00 6.41153250e-20]\n",
            " [1.83746518e-15 1.00000000e+00 5.22762799e-22]\n",
            " [2.53331275e-14 1.00000000e+00 3.40174917e-21]\n",
            " [1.22224330e-14 1.00000000e+00 8.58523407e-22]\n",
            " [1.13611394e-14 1.00000000e+00 9.15041088e-22]\n",
            " [6.36379309e-14 1.00000000e+00 1.27809930e-20]\n",
            " [9.46924627e-14 1.00000000e+00 2.02111404e-20]\n",
            " [2.51354195e-13 1.00000000e+00 2.90811966e-19]\n",
            " [6.66859092e-13 1.00000000e+00 1.00288660e-18]\n",
            " [6.78361284e-13 1.00000000e+00 6.45694663e-18]\n",
            " [1.22207203e-12 1.00000000e+00 6.83059942e-17]\n",
            " [4.19395768e-12 1.00000000e+00 2.38988652e-16]\n",
            " [4.89250914e-12 1.00000000e+00 9.22111102e-17]\n",
            " [5.84154426e-12 1.00000000e+00 2.88867418e-17]\n",
            " [1.66775041e-13 1.00000000e+00 3.59798648e-19]\n",
            " [4.34438421e-14 1.00000000e+00 4.17524843e-20]\n",
            " [8.63191796e-10 1.00000000e+00 7.58583186e-17]\n",
            " [3.49050861e-05 9.99965072e-01 4.34395936e-10]\n",
            " [9.94817354e-04 9.99003470e-01 1.80074403e-06]\n",
            " [8.25543523e-01 1.70025200e-01 4.43123374e-03]\n",
            " [6.45307302e-01 3.54085267e-01 6.07391179e-04]\n",
            " [4.04537767e-01 5.95036387e-01 4.25831386e-04]\n",
            " [3.04796726e-01 6.94813788e-01 3.89492663e-04]\n",
            " [2.83500314e-01 7.15945482e-01 5.54145314e-04]\n",
            " [1.27671540e-01 8.72219145e-01 1.09232729e-04]\n",
            " [3.79893482e-02 9.61996436e-01 1.42495192e-05]\n",
            " [6.63230047e-02 9.33656514e-01 2.05294564e-05]\n",
            " [3.30705754e-02 9.66911077e-01 1.82851873e-05]\n",
            " [3.22449580e-02 9.67748106e-01 6.93171023e-06]\n",
            " [4.32359688e-02 9.56758499e-01 5.48431990e-06]\n",
            " [1.98829547e-01 8.00970137e-01 2.00324546e-04]\n",
            " [5.99352896e-01 3.98599267e-01 2.04789056e-03]\n",
            " [8.05070400e-01 1.93987161e-01 9.42461193e-04]\n",
            " [7.67837167e-01 2.31724277e-01 4.38519783e-04]\n",
            " [7.04620481e-01 2.95178354e-01 2.01135816e-04]\n",
            " [6.19791269e-01 3.79885137e-01 3.23537621e-04]\n",
            " [4.90867078e-01 5.08517385e-01 6.15549390e-04]\n",
            " [8.51443529e-01 1.47868738e-01 6.87792315e-04]\n",
            " [7.62380660e-01 2.33074367e-01 4.54495847e-03]\n",
            " [9.44608301e-02 9.02262330e-01 3.27687105e-03]\n",
            " [5.09924702e-02 9.48121130e-01 8.86316062e-04]\n",
            " [3.64896059e-01 6.34775937e-01 3.28026304e-04]\n",
            " [7.18966961e-01 2.80566812e-01 4.66280122e-04]\n",
            " [4.41641033e-01 5.57004929e-01 1.35409948e-03]\n",
            " [4.56668377e-01 5.42653799e-01 6.77819306e-04]\n",
            " [6.64974332e-01 3.32196057e-01 2.82957358e-03]\n",
            " [8.14410031e-01 1.69691965e-01 1.58979651e-02]\n",
            " [8.90448689e-01 1.00348786e-01 9.20250360e-03]\n",
            " [8.91963661e-01 9.57549214e-02 1.22813247e-02]\n",
            " [8.88286412e-01 5.59358746e-02 5.57777993e-02]\n",
            " [6.28417015e-01 8.38492066e-02 2.87733734e-01]\n",
            " [2.76058525e-01 4.42561030e-01 2.81380415e-01]\n",
            " [3.97393070e-02 9.39897239e-01 2.03635674e-02]\n",
            " [5.22063393e-03 9.92656112e-01 2.12329905e-03]\n",
            " [3.30532715e-02 9.52228010e-01 1.47187682e-02]\n",
            " [2.24930211e-03 9.97739315e-01 1.13767037e-05]\n",
            " [7.06770970e-03 9.92901981e-01 3.03448778e-05]\n",
            " [4.89512533e-01 4.80501980e-01 2.99854614e-02]\n",
            " [2.18279436e-01 2.49642786e-02 7.56756246e-01]\n",
            " [1.72962621e-01 2.51004323e-02 8.01936924e-01]\n",
            " [9.80913639e-02 6.77101873e-03 8.95137668e-01]\n",
            " [1.17269121e-01 1.06925247e-02 8.72038364e-01]\n",
            " [1.60280615e-01 2.46343911e-02 8.15084934e-01]\n",
            " [5.24421096e-01 1.92043588e-01 2.83535302e-01]\n",
            " [4.14894730e-01 5.74039698e-01 1.10656293e-02]\n",
            " [3.20370317e-01 6.52560771e-01 2.70689540e-02]\n",
            " [3.62325281e-01 6.27954066e-01 9.72067472e-03]\n",
            " [5.88320732e-01 4.07595813e-01 4.08353889e-03]\n",
            " [8.88787091e-01 3.38614285e-02 7.73514733e-02]\n",
            " [9.56251800e-01 1.90466400e-02 2.47015897e-02]\n",
            " [9.85460699e-01 1.33701889e-02 1.16907049e-03]\n",
            " [9.94389117e-01 4.00619768e-03 1.60463911e-03]\n",
            " [9.97888267e-01 1.19487289e-03 9.16773628e-04]\n",
            " [9.95726347e-01 1.38786226e-03 2.88584502e-03]\n",
            " [9.65975463e-01 3.35378125e-02 4.86714300e-04]\n",
            " [5.76128244e-01 4.23646092e-01 2.25701981e-04]\n",
            " [2.10215990e-02 9.78972971e-01 5.40761039e-06]\n",
            " [1.25298845e-02 9.87466753e-01 3.39917051e-06]\n",
            " [3.07443775e-02 9.69244778e-01 1.08633667e-05]\n",
            " [6.84047565e-02 9.31573093e-01 2.20966012e-05]\n",
            " [9.13649797e-02 9.08601880e-01 3.31673073e-05]\n",
            " [1.21986449e-01 8.77930939e-01 8.25989628e-05]\n",
            " [3.69898915e-01 6.29713893e-01 3.87197128e-04]\n",
            " [6.95988178e-01 3.03603172e-01 4.08647873e-04]\n",
            " [8.17014039e-01 1.76277682e-01 6.70835283e-03]\n",
            " [7.32992291e-01 2.53593981e-01 1.34136723e-02]\n",
            " [1.78335514e-02 9.81374562e-01 7.91905273e-04]\n",
            " [1.89726590e-04 9.99807179e-01 3.07570986e-06]\n",
            " [2.21504888e-04 9.99775827e-01 2.65659878e-06]\n",
            " [3.29698923e-06 9.99996662e-01 2.94328739e-08]\n",
            " [5.55200774e-10 1.00000000e+00 3.95504671e-15]\n",
            " [4.14277293e-12 1.00000000e+00 4.20269128e-17]\n",
            " [3.41682981e-13 1.00000000e+00 3.57842841e-18]\n",
            " [1.06014832e-11 1.00000000e+00 7.04452685e-16]\n",
            " [2.45819787e-09 1.00000000e+00 1.09344533e-13]\n",
            " [1.75430202e-07 9.99999881e-01 3.21403646e-12]\n",
            " [5.23561368e-07 9.99999523e-01 9.63324125e-12]\n",
            " [4.99248998e-08 1.00000000e+00 9.10800602e-12]\n",
            " [4.23607702e-07 9.99999523e-01 2.95937552e-10]\n",
            " [9.75326884e-07 9.99999046e-01 6.86188173e-09]\n",
            " [1.70735873e-07 9.99999881e-01 1.29649391e-09]\n",
            " [4.23438067e-08 1.00000000e+00 1.75887610e-10]\n",
            " [2.29560828e-06 9.99997735e-01 5.53881918e-09]\n",
            " [1.43417012e-07 9.99999881e-01 6.88627100e-10]\n",
            " [3.70816289e-09 1.00000000e+00 6.75103766e-12]\n",
            " [7.76341158e-10 1.00000000e+00 1.45573684e-13]\n",
            " [5.72476344e-10 1.00000000e+00 1.83534354e-14]\n",
            " [2.57869004e-10 1.00000000e+00 1.88658801e-14]\n",
            " [2.04433262e-10 1.00000000e+00 6.41666294e-15]\n",
            " [1.98313010e-09 1.00000000e+00 5.63093646e-14]\n",
            " [1.30182984e-08 1.00000000e+00 2.52259650e-12]\n",
            " [1.86393079e-09 1.00000000e+00 7.92797306e-13]\n",
            " [3.18960192e-09 1.00000000e+00 2.72967456e-12]\n",
            " [1.03534079e-08 1.00000000e+00 2.80200863e-11]\n",
            " [6.86400847e-09 1.00000000e+00 2.69221988e-11]\n",
            " [3.35693306e-10 1.00000000e+00 2.35877832e-13]\n",
            " [2.63083803e-06 9.99997377e-01 1.18333110e-09]\n",
            " [3.49198235e-04 9.99649644e-01 1.21711003e-06]\n",
            " [5.59341256e-03 9.94381607e-01 2.50431658e-05]\n",
            " [4.25297348e-03 9.95707214e-01 3.99177770e-05]\n",
            " [6.49729336e-04 9.99339640e-01 1.05568961e-05]\n",
            " [1.25616381e-04 9.99873161e-01 1.18287460e-06]\n",
            " [3.78775789e-04 9.99617338e-01 3.78419759e-06]\n",
            " [1.40020181e-03 9.98587132e-01 1.27785715e-05]\n",
            " [4.68445290e-03 9.95263577e-01 5.19240893e-05]\n",
            " [5.88317076e-03 9.94040430e-01 7.64338693e-05]\n",
            " [5.77814225e-03 9.94200587e-01 2.12920204e-05]\n",
            " [6.14166260e-04 9.99382854e-01 3.00341799e-06]\n",
            " [2.25084048e-04 9.99773800e-01 1.07743028e-06]\n",
            " [1.21334777e-03 9.98782098e-01 4.49808431e-06]\n",
            " [4.84645105e-04 9.99514461e-01 1.00136617e-06]\n",
            " [5.55418478e-03 9.94434059e-01 1.17100726e-05]\n",
            " [8.34248215e-02 9.16180372e-01 3.94820236e-04]\n",
            " [1.76949903e-01 8.18916798e-01 4.13322821e-03]\n",
            " [1.46591440e-01 8.51967275e-01 1.44123926e-03]\n",
            " [3.90638500e-01 6.07819080e-01 1.54238660e-03]\n",
            " [7.48889565e-01 2.45153099e-01 5.95727330e-03]\n",
            " [8.26760828e-01 1.68844700e-01 4.39447118e-03]\n",
            " [8.55891585e-01 1.41617745e-01 2.49065086e-03]\n",
            " [8.02000523e-01 1.97665319e-01 3.34150594e-04]\n",
            " [6.85402691e-01 3.14247817e-01 3.49443173e-04]\n",
            " [4.82837528e-01 5.16784370e-01 3.78144468e-04]\n",
            " [5.35118282e-01 4.64543223e-01 3.38485203e-04]\n",
            " [6.79598868e-01 3.20059806e-01 3.41387728e-04]\n",
            " [7.34293997e-01 2.65152395e-01 5.53574995e-04]\n",
            " [8.52599263e-01 1.41176283e-01 6.22446137e-03]\n",
            " [8.92900944e-01 8.18992630e-02 2.51997598e-02]\n",
            " [4.18114334e-01 5.53844690e-01 2.80409306e-02]\n",
            " [1.75763726e-01 8.23565722e-01 6.70578796e-04]\n",
            " [2.34753676e-02 9.76447165e-01 7.74459477e-05]\n",
            " [8.45945324e-04 9.99150395e-01 3.74550405e-06]\n",
            " [5.98594897e-06 9.99994040e-01 1.25459865e-08]\n",
            " [3.99797682e-06 9.99995947e-01 1.16895285e-08]\n",
            " [3.57010576e-05 9.99964237e-01 1.56812902e-07]\n",
            " [9.68461332e-04 9.99021292e-01 1.02053327e-05]\n",
            " [1.27417855e-02 9.87223268e-01 3.49821275e-05]\n",
            " [2.32477337e-02 9.76650476e-01 1.01810991e-04]\n",
            " [1.81198735e-02 9.81777430e-01 1.02634680e-04]\n",
            " [3.06263361e-02 9.69231308e-01 1.42306715e-04]\n",
            " [5.73610440e-02 9.42446291e-01 1.92730062e-04]\n",
            " [4.80946869e-01 5.18464625e-01 5.88427880e-04]\n",
            " [8.99381220e-01 9.95491445e-02 1.06956484e-03]\n",
            " [9.94778037e-01 5.02409274e-03 1.97926929e-04]\n",
            " [9.98327315e-01 1.65117043e-03 2.15017390e-05]\n",
            " [9.98403370e-01 1.59154739e-03 5.11831468e-06]\n",
            " [9.87076819e-01 1.29063549e-02 1.68186325e-05]\n",
            " [1.80876434e-01 8.19085300e-01 3.82437684e-05]\n",
            " [6.09247126e-02 9.39061999e-01 1.33326839e-05]\n",
            " [1.13158645e-02 9.88681555e-01 2.63571178e-06]\n",
            " [4.93791187e-03 9.95061457e-01 5.76191155e-07]\n",
            " [8.73760413e-03 9.91261482e-01 9.11074665e-07]\n",
            " [4.45695855e-02 9.55426812e-01 3.66978634e-06]\n",
            " [4.73196238e-01 5.26781797e-01 2.19546291e-05]\n",
            " [9.84937012e-01 1.50368316e-02 2.61274909e-05]\n",
            " [9.90657926e-01 9.30707995e-03 3.49315815e-05]\n",
            " [9.80483055e-01 1.95050333e-02 1.19541282e-05]\n",
            " [9.97543216e-01 2.44527939e-03 1.15451749e-05]\n",
            " [9.36767340e-01 6.30540028e-02 1.78711416e-04]\n",
            " [3.19265544e-01 6.80564821e-01 1.69672494e-04]\n",
            " [7.93067887e-02 9.20670867e-01 2.23945644e-05]\n",
            " [4.03727032e-02 9.59624231e-01 3.03328784e-06]\n",
            " [2.17329890e-01 7.82645345e-01 2.47266416e-05]\n",
            " [7.52530843e-02 9.24738288e-01 8.60064938e-06]\n",
            " [8.36732239e-03 9.91631091e-01 1.58136686e-06]\n",
            " [1.05510862e-03 9.98943985e-01 9.53847120e-07]\n",
            " [8.28508870e-04 9.99162316e-01 9.14602060e-06]\n",
            " [1.09994735e-05 9.99988914e-01 7.50133893e-08]\n",
            " [1.15494046e-07 9.99999881e-01 3.05443587e-10]\n",
            " [4.76969504e-08 1.00000000e+00 2.85888691e-11]\n",
            " [9.31409204e-07 9.99999046e-01 3.62410324e-10]\n",
            " [2.83879194e-06 9.99997139e-01 4.55312632e-09]\n",
            " [3.58018519e-06 9.99996424e-01 1.53373758e-08]\n",
            " [1.54375797e-04 9.99844074e-01 1.55589703e-06]\n",
            " [7.50252977e-04 9.99242783e-01 7.05490038e-06]\n",
            " [1.30027853e-04 9.99868989e-01 9.75389753e-07]\n",
            " [1.09340574e-04 9.99890447e-01 2.84170000e-07]\n",
            " [6.94040580e-07 9.99999285e-01 4.70023975e-09]\n",
            " [4.66098236e-08 1.00000000e+00 9.10502299e-11]\n",
            " [2.18415906e-07 9.99999762e-01 4.41509607e-10]\n",
            " [7.02381949e-05 9.99929786e-01 6.24504670e-09]\n",
            " [1.35658751e-03 9.98643219e-01 2.26244680e-07]\n",
            " [1.31688833e-01 8.68223965e-01 8.72927194e-05]\n",
            " [8.86556447e-01 1.13051705e-01 3.91760637e-04]\n",
            " [7.50369608e-01 2.49389112e-01 2.41282294e-04]\n",
            " [4.55541521e-01 5.44061840e-01 3.96639603e-04]\n",
            " [1.27828479e-01 8.72086048e-01 8.54942700e-05]\n",
            " [2.50441670e-01 7.49316633e-01 2.41716320e-04]\n",
            " [1.76928297e-01 8.22952569e-01 1.19165416e-04]\n",
            " [1.17287941e-01 8.82627666e-01 8.44006063e-05]\n",
            " [8.30975324e-02 9.16854203e-01 4.83382282e-05]\n",
            " [1.02605201e-01 8.97333205e-01 6.16123652e-05]\n",
            " [8.43725428e-02 9.15564001e-01 6.33850941e-05]\n",
            " [1.20161794e-01 8.79761815e-01 7.63131611e-05]\n",
            " [1.37333289e-01 8.62541437e-01 1.25259161e-04]\n",
            " [2.79481977e-01 7.20154703e-01 3.63306579e-04]\n",
            " [3.69031399e-01 6.30575776e-01 3.92810936e-04]\n",
            " [2.77454793e-01 7.22193599e-01 3.51609197e-04]\n",
            " [3.54370803e-01 6.45214200e-01 4.15065704e-04]\n",
            " [7.64158428e-01 2.35559240e-01 2.82270339e-04]\n",
            " [4.56024528e-01 5.43557227e-01 4.18200623e-04]\n",
            " [5.06572306e-01 4.92619425e-01 8.08304409e-04]\n",
            " [5.90817809e-01 4.07253921e-01 1.92827906e-03]\n",
            " [2.86260754e-01 7.12762356e-01 9.76892770e-04]\n",
            " [2.32436940e-01 7.67360926e-01 2.02078591e-04]\n",
            " [2.22093269e-01 7.77796447e-01 1.10213048e-04]\n",
            " [2.63376057e-01 7.36399174e-01 2.24688323e-04]\n",
            " [3.20501596e-01 6.79135323e-01 3.63071769e-04]\n",
            " [2.82690048e-01 7.16906369e-01 4.03655140e-04]\n",
            " [4.08722997e-01 5.90878367e-01 3.98715260e-04]\n",
            " [5.63099742e-01 4.36345935e-01 5.54242521e-04]\n",
            " [5.88754416e-01 4.10863191e-01 3.82380153e-04]\n",
            " [3.76430184e-01 6.23229206e-01 3.40675120e-04]\n",
            " [1.67103216e-01 8.32728088e-01 1.68681392e-04]\n",
            " [9.66265053e-02 9.03323233e-01 5.02387775e-05]\n",
            " [7.38551691e-02 9.26103473e-01 4.14209098e-05]\n",
            " [4.26285639e-02 9.57351506e-01 1.98755915e-05]\n",
            " [3.76767777e-02 9.62306201e-01 1.69682098e-05]\n",
            " [5.27971573e-02 9.47181106e-01 2.17515953e-05]\n",
            " [1.09646283e-01 8.90285730e-01 6.79035948e-05]\n",
            " [2.10375279e-01 7.89250553e-01 3.74224532e-04]\n",
            " [1.68462574e-01 8.31259131e-01 2.78339867e-04]\n",
            " [5.93756177e-02 9.40552890e-01 7.14194466e-05]\n",
            " [5.82686365e-02 9.41706955e-01 2.43982777e-05]\n",
            " [1.35212049e-01 8.64703834e-01 8.41222572e-05]\n",
            " [1.63480505e-01 8.36450875e-01 6.86075437e-05]\n",
            " [1.22713178e-01 8.77214849e-01 7.20083335e-05]\n",
            " [1.13950334e-01 8.85971546e-01 7.82080315e-05]\n",
            " [1.08166613e-01 8.91747415e-01 8.59906722e-05]\n",
            " [2.49121815e-01 7.50669122e-01 2.09004371e-04]\n",
            " [5.13887703e-01 4.85848963e-01 2.63347960e-04]\n",
            " [3.04381251e-01 6.95161641e-01 4.57147835e-04]\n",
            " [1.82439774e-01 8.17434609e-01 1.25584804e-04]\n",
            " [7.97597468e-02 9.20206726e-01 3.35753903e-05]\n",
            " [5.07140793e-02 9.49260473e-01 2.54975639e-05]\n",
            " [4.06693444e-02 9.59316194e-01 1.45187014e-05]\n",
            " [5.07812575e-02 9.49197948e-01 2.08545316e-05]\n",
            " [2.29986329e-02 9.76992249e-01 9.13755139e-06]\n",
            " [4.98790480e-02 9.50099051e-01 2.19003232e-05]\n",
            " [7.95928389e-02 9.20351565e-01 5.56694540e-05]\n",
            " [1.29840523e-01 8.70079041e-01 8.04069350e-05]\n",
            " [2.75807112e-01 7.23974824e-01 2.18109766e-04]\n",
            " [2.96634614e-01 7.03026414e-01 3.39024351e-04]\n",
            " [3.40209275e-01 6.59350514e-01 4.40183620e-04]\n",
            " [3.52696121e-01 6.46994054e-01 3.09809606e-04]\n",
            " [1.95825875e-01 8.03980529e-01 1.93623608e-04]\n",
            " [1.95825875e-01 8.03980529e-01 1.93623608e-04]\n",
            " [1.95825875e-01 8.03980529e-01 1.93623608e-04]\n",
            " [1.95825875e-01 8.03980529e-01 1.93623608e-04]]\n",
            "['music', 'music', 'music', 'music', 'music', 'music', 'music', 'music', 'music', 'music', 'music', 'music', 'music', 'music', 'music', 'music', 'music', 'music', 'music', 'music', 'music', 'music', 'music', 'music', 'music', 'music', 'music', 'music', 'music', 'music', 'music', 'music', 'music', 'music', 'music', 'music', 'music', 'music', 'music', 'music', 'music', 'music', 'music', 'music', 'music', 'music', 'music', 'music', 'music', 'music', 'music', 'music', 'music', 'music', 'music', 'music', 'music', 'music', 'music', 'music', 'music', 'music', 'music', 'music', 'speech', 'speech', 'music', 'music', 'music', 'music', 'music', 'music', 'music', 'music', 'music', 'music', 'speech', 'speech', 'speech', 'speech', 'speech', 'music', 'speech', 'speech', 'music', 'music', 'music', 'speech', 'music', 'music', 'speech', 'speech', 'speech', 'speech', 'speech', 'speech', 'silence', 'music', 'music', 'music', 'music', 'music', 'silence', 'silence', 'silence', 'silence', 'silence', 'silence', 'speech', 'music', 'music', 'music', 'speech', 'speech', 'speech', 'speech', 'speech', 'speech', 'speech', 'speech', 'speech', 'music', 'music', 'music', 'music', 'music', 'music', 'music', 'speech', 'speech', 'speech', 'music', 'music', 'music', 'music', 'music', 'music', 'music', 'music', 'music', 'music', 'music', 'music', 'music', 'music', 'music', 'music', 'music', 'music', 'music', 'music', 'music', 'music', 'music', 'music', 'music', 'music', 'music', 'music', 'music', 'music', 'music', 'music', 'music', 'music', 'music', 'music', 'music', 'music', 'music', 'music', 'music', 'music', 'music', 'music', 'music', 'music', 'music', 'music', 'music', 'music', 'speech', 'speech', 'speech', 'speech', 'speech', 'music', 'speech', 'speech', 'speech', 'speech', 'speech', 'music', 'music', 'music', 'music', 'music', 'music', 'music', 'music', 'music', 'music', 'music', 'music', 'music', 'music', 'speech', 'speech', 'speech', 'speech', 'speech', 'music', 'music', 'music', 'music', 'music', 'music', 'music', 'speech', 'speech', 'speech', 'speech', 'speech', 'music', 'music', 'music', 'music', 'music', 'music', 'music', 'music', 'music', 'music', 'music', 'music', 'music', 'music', 'music', 'music', 'music', 'music', 'music', 'music', 'music', 'music', 'music', 'music', 'speech', 'speech', 'music', 'music', 'music', 'music', 'music', 'music', 'music', 'music', 'music', 'music', 'music', 'music', 'music', 'music', 'speech', 'music', 'speech', 'speech', 'music', 'music', 'music', 'music', 'music', 'music', 'music', 'speech', 'speech', 'music', 'music', 'music', 'music', 'music', 'music', 'music', 'music', 'music', 'music', 'music', 'music', 'music', 'music', 'music', 'music', 'music', 'music', 'speech', 'music', 'music', 'music', 'music', 'music', 'music', 'music', 'music', 'music', 'music', 'music', 'music', 'music', 'music', 'music', 'music', 'music', 'music']\n"
          ]
        }
      ]
    },
    {
      "cell_type": "code",
      "metadata": {
        "id": "kuMae9xYps8W",
        "colab": {
          "base_uri": "https://localhost:8080/"
        },
        "outputId": "58d58205-3eb2-4a42-bb58-7462e6c86042"
      },
      "source": [
        "print(predictions)"
      ],
      "execution_count": 28,
      "outputs": [
        {
          "output_type": "stream",
          "name": "stdout",
          "text": [
            "[[3.88437696e-02 9.60800409e-01 3.55834141e-04]\n",
            " [3.88437696e-02 9.60800409e-01 3.55834141e-04]\n",
            " [3.88437696e-02 9.60800409e-01 3.55834141e-04]\n",
            " [3.88437696e-02 9.60800409e-01 3.55834141e-04]\n",
            " [9.84838419e-03 9.89877045e-01 2.74539489e-04]\n",
            " [1.24122687e-02 9.87408161e-01 1.79593029e-04]\n",
            " [1.63460504e-02 9.83519137e-01 1.34801099e-04]\n",
            " [7.08789685e-06 9.99992847e-01 1.38196455e-07]\n",
            " [2.46308723e-10 1.00000000e+00 1.51533002e-13]\n",
            " [4.21397611e-10 1.00000000e+00 6.36015221e-14]\n",
            " [5.16777836e-11 1.00000000e+00 2.36753819e-15]\n",
            " [5.22030119e-12 1.00000000e+00 1.70230925e-16]\n",
            " [3.11385778e-11 1.00000000e+00 4.78704641e-16]\n",
            " [3.86299241e-08 1.00000000e+00 4.17052157e-12]\n",
            " [5.25181036e-08 1.00000000e+00 3.52649888e-11]\n",
            " [1.06802887e-08 1.00000000e+00 3.90773941e-11]\n",
            " [2.50511984e-08 1.00000000e+00 6.65962355e-11]\n",
            " [1.48317882e-08 1.00000000e+00 7.83699286e-11]\n",
            " [3.32775960e-11 1.00000000e+00 1.29356947e-13]\n",
            " [3.52567650e-12 1.00000000e+00 1.45355380e-16]\n",
            " [1.39176553e-13 1.00000000e+00 2.69427382e-19]\n",
            " [2.81196253e-14 1.00000000e+00 1.94863832e-20]\n",
            " [1.67481351e-14 1.00000000e+00 4.89269174e-21]\n",
            " [1.30196486e-14 1.00000000e+00 1.00497214e-21]\n",
            " [1.83213972e-14 1.00000000e+00 3.81392033e-22]\n",
            " [3.92530314e-14 1.00000000e+00 2.28904221e-21]\n",
            " [1.57642440e-13 1.00000000e+00 4.81994653e-20]\n",
            " [7.17471194e-10 1.00000000e+00 6.63825684e-14]\n",
            " [4.09626644e-08 1.00000000e+00 4.15542115e-11]\n",
            " [2.15419202e-08 1.00000000e+00 2.60201374e-11]\n",
            " [1.40467415e-08 1.00000000e+00 3.23631955e-11]\n",
            " [5.05086251e-10 1.00000000e+00 1.87922768e-12]\n",
            " [1.67714957e-11 1.00000000e+00 6.70344924e-15]\n",
            " [2.53128803e-11 1.00000000e+00 4.69356150e-16]\n",
            " [1.55147878e-12 1.00000000e+00 7.17242519e-18]\n",
            " [7.87495850e-12 1.00000000e+00 1.36588854e-16]\n",
            " [2.12921170e-09 1.00000000e+00 4.10265192e-13]\n",
            " [3.61488418e-07 9.99999642e-01 1.43996731e-10]\n",
            " [9.84871294e-05 9.99901175e-01 4.01251526e-07]\n",
            " [3.05186177e-06 9.99996901e-01 1.51433817e-08]\n",
            " [2.34251431e-07 9.99999762e-01 3.73735976e-09]\n",
            " [2.81416028e-08 1.00000000e+00 1.94036259e-10]\n",
            " [3.86501525e-10 1.00000000e+00 2.70615995e-12]\n",
            " [2.34901009e-12 1.00000000e+00 3.98296359e-16]\n",
            " [6.04676221e-14 1.00000000e+00 4.42114441e-19]\n",
            " [9.27124148e-15 1.00000000e+00 6.41153250e-20]\n",
            " [1.83746518e-15 1.00000000e+00 5.22762799e-22]\n",
            " [2.53331275e-14 1.00000000e+00 3.40174917e-21]\n",
            " [1.22224330e-14 1.00000000e+00 8.58523407e-22]\n",
            " [1.13611394e-14 1.00000000e+00 9.15041088e-22]\n",
            " [6.36379309e-14 1.00000000e+00 1.27809930e-20]\n",
            " [9.46924627e-14 1.00000000e+00 2.02111404e-20]\n",
            " [2.51354195e-13 1.00000000e+00 2.90811966e-19]\n",
            " [6.66859092e-13 1.00000000e+00 1.00288660e-18]\n",
            " [6.78361284e-13 1.00000000e+00 6.45694663e-18]\n",
            " [1.22207203e-12 1.00000000e+00 6.83059942e-17]\n",
            " [4.19395768e-12 1.00000000e+00 2.38988652e-16]\n",
            " [4.89250914e-12 1.00000000e+00 9.22111102e-17]\n",
            " [5.84154426e-12 1.00000000e+00 2.88867418e-17]\n",
            " [1.66775041e-13 1.00000000e+00 3.59798648e-19]\n",
            " [4.34438421e-14 1.00000000e+00 4.17524843e-20]\n",
            " [8.63191796e-10 1.00000000e+00 7.58583186e-17]\n",
            " [3.49050861e-05 9.99965072e-01 4.34395936e-10]\n",
            " [9.94817354e-04 9.99003470e-01 1.80074403e-06]\n",
            " [8.25543523e-01 1.70025200e-01 4.43123374e-03]\n",
            " [6.45307302e-01 3.54085267e-01 6.07391179e-04]\n",
            " [4.04537767e-01 5.95036387e-01 4.25831386e-04]\n",
            " [3.04796726e-01 6.94813788e-01 3.89492663e-04]\n",
            " [2.83500314e-01 7.15945482e-01 5.54145314e-04]\n",
            " [1.27671540e-01 8.72219145e-01 1.09232729e-04]\n",
            " [3.79893482e-02 9.61996436e-01 1.42495192e-05]\n",
            " [6.63230047e-02 9.33656514e-01 2.05294564e-05]\n",
            " [3.30705754e-02 9.66911077e-01 1.82851873e-05]\n",
            " [3.22449580e-02 9.67748106e-01 6.93171023e-06]\n",
            " [4.32359688e-02 9.56758499e-01 5.48431990e-06]\n",
            " [1.98829547e-01 8.00970137e-01 2.00324546e-04]\n",
            " [5.99352896e-01 3.98599267e-01 2.04789056e-03]\n",
            " [8.05070400e-01 1.93987161e-01 9.42461193e-04]\n",
            " [7.67837167e-01 2.31724277e-01 4.38519783e-04]\n",
            " [7.04620481e-01 2.95178354e-01 2.01135816e-04]\n",
            " [6.19791269e-01 3.79885137e-01 3.23537621e-04]\n",
            " [4.90867078e-01 5.08517385e-01 6.15549390e-04]\n",
            " [8.51443529e-01 1.47868738e-01 6.87792315e-04]\n",
            " [7.62380660e-01 2.33074367e-01 4.54495847e-03]\n",
            " [9.44608301e-02 9.02262330e-01 3.27687105e-03]\n",
            " [5.09924702e-02 9.48121130e-01 8.86316062e-04]\n",
            " [3.64896059e-01 6.34775937e-01 3.28026304e-04]\n",
            " [7.18966961e-01 2.80566812e-01 4.66280122e-04]\n",
            " [4.41641033e-01 5.57004929e-01 1.35409948e-03]\n",
            " [4.56668377e-01 5.42653799e-01 6.77819306e-04]\n",
            " [6.64974332e-01 3.32196057e-01 2.82957358e-03]\n",
            " [8.14410031e-01 1.69691965e-01 1.58979651e-02]\n",
            " [8.90448689e-01 1.00348786e-01 9.20250360e-03]\n",
            " [8.91963661e-01 9.57549214e-02 1.22813247e-02]\n",
            " [8.88286412e-01 5.59358746e-02 5.57777993e-02]\n",
            " [6.28417015e-01 8.38492066e-02 2.87733734e-01]\n",
            " [2.76058525e-01 4.42561030e-01 2.81380415e-01]\n",
            " [3.97393070e-02 9.39897239e-01 2.03635674e-02]\n",
            " [5.22063393e-03 9.92656112e-01 2.12329905e-03]\n",
            " [3.30532715e-02 9.52228010e-01 1.47187682e-02]\n",
            " [2.24930211e-03 9.97739315e-01 1.13767037e-05]\n",
            " [7.06770970e-03 9.92901981e-01 3.03448778e-05]\n",
            " [4.89512533e-01 4.80501980e-01 2.99854614e-02]\n",
            " [2.18279436e-01 2.49642786e-02 7.56756246e-01]\n",
            " [1.72962621e-01 2.51004323e-02 8.01936924e-01]\n",
            " [9.80913639e-02 6.77101873e-03 8.95137668e-01]\n",
            " [1.17269121e-01 1.06925247e-02 8.72038364e-01]\n",
            " [1.60280615e-01 2.46343911e-02 8.15084934e-01]\n",
            " [5.24421096e-01 1.92043588e-01 2.83535302e-01]\n",
            " [4.14894730e-01 5.74039698e-01 1.10656293e-02]\n",
            " [3.20370317e-01 6.52560771e-01 2.70689540e-02]\n",
            " [3.62325281e-01 6.27954066e-01 9.72067472e-03]\n",
            " [5.88320732e-01 4.07595813e-01 4.08353889e-03]\n",
            " [8.88787091e-01 3.38614285e-02 7.73514733e-02]\n",
            " [9.56251800e-01 1.90466400e-02 2.47015897e-02]\n",
            " [9.85460699e-01 1.33701889e-02 1.16907049e-03]\n",
            " [9.94389117e-01 4.00619768e-03 1.60463911e-03]\n",
            " [9.97888267e-01 1.19487289e-03 9.16773628e-04]\n",
            " [9.95726347e-01 1.38786226e-03 2.88584502e-03]\n",
            " [9.65975463e-01 3.35378125e-02 4.86714300e-04]\n",
            " [5.76128244e-01 4.23646092e-01 2.25701981e-04]\n",
            " [2.10215990e-02 9.78972971e-01 5.40761039e-06]\n",
            " [1.25298845e-02 9.87466753e-01 3.39917051e-06]\n",
            " [3.07443775e-02 9.69244778e-01 1.08633667e-05]\n",
            " [6.84047565e-02 9.31573093e-01 2.20966012e-05]\n",
            " [9.13649797e-02 9.08601880e-01 3.31673073e-05]\n",
            " [1.21986449e-01 8.77930939e-01 8.25989628e-05]\n",
            " [3.69898915e-01 6.29713893e-01 3.87197128e-04]\n",
            " [6.95988178e-01 3.03603172e-01 4.08647873e-04]\n",
            " [8.17014039e-01 1.76277682e-01 6.70835283e-03]\n",
            " [7.32992291e-01 2.53593981e-01 1.34136723e-02]\n",
            " [1.78335514e-02 9.81374562e-01 7.91905273e-04]\n",
            " [1.89726590e-04 9.99807179e-01 3.07570986e-06]\n",
            " [2.21504888e-04 9.99775827e-01 2.65659878e-06]\n",
            " [3.29698923e-06 9.99996662e-01 2.94328739e-08]\n",
            " [5.55200774e-10 1.00000000e+00 3.95504671e-15]\n",
            " [4.14277293e-12 1.00000000e+00 4.20269128e-17]\n",
            " [3.41682981e-13 1.00000000e+00 3.57842841e-18]\n",
            " [1.06014832e-11 1.00000000e+00 7.04452685e-16]\n",
            " [2.45819787e-09 1.00000000e+00 1.09344533e-13]\n",
            " [1.75430202e-07 9.99999881e-01 3.21403646e-12]\n",
            " [5.23561368e-07 9.99999523e-01 9.63324125e-12]\n",
            " [4.99248998e-08 1.00000000e+00 9.10800602e-12]\n",
            " [4.23607702e-07 9.99999523e-01 2.95937552e-10]\n",
            " [9.75326884e-07 9.99999046e-01 6.86188173e-09]\n",
            " [1.70735873e-07 9.99999881e-01 1.29649391e-09]\n",
            " [4.23438067e-08 1.00000000e+00 1.75887610e-10]\n",
            " [2.29560828e-06 9.99997735e-01 5.53881918e-09]\n",
            " [1.43417012e-07 9.99999881e-01 6.88627100e-10]\n",
            " [3.70816289e-09 1.00000000e+00 6.75103766e-12]\n",
            " [7.76341158e-10 1.00000000e+00 1.45573684e-13]\n",
            " [5.72476344e-10 1.00000000e+00 1.83534354e-14]\n",
            " [2.57869004e-10 1.00000000e+00 1.88658801e-14]\n",
            " [2.04433262e-10 1.00000000e+00 6.41666294e-15]\n",
            " [1.98313010e-09 1.00000000e+00 5.63093646e-14]\n",
            " [1.30182984e-08 1.00000000e+00 2.52259650e-12]\n",
            " [1.86393079e-09 1.00000000e+00 7.92797306e-13]\n",
            " [3.18960192e-09 1.00000000e+00 2.72967456e-12]\n",
            " [1.03534079e-08 1.00000000e+00 2.80200863e-11]\n",
            " [6.86400847e-09 1.00000000e+00 2.69221988e-11]\n",
            " [3.35693306e-10 1.00000000e+00 2.35877832e-13]\n",
            " [2.63083803e-06 9.99997377e-01 1.18333110e-09]\n",
            " [3.49198235e-04 9.99649644e-01 1.21711003e-06]\n",
            " [5.59341256e-03 9.94381607e-01 2.50431658e-05]\n",
            " [4.25297348e-03 9.95707214e-01 3.99177770e-05]\n",
            " [6.49729336e-04 9.99339640e-01 1.05568961e-05]\n",
            " [1.25616381e-04 9.99873161e-01 1.18287460e-06]\n",
            " [3.78775789e-04 9.99617338e-01 3.78419759e-06]\n",
            " [1.40020181e-03 9.98587132e-01 1.27785715e-05]\n",
            " [4.68445290e-03 9.95263577e-01 5.19240893e-05]\n",
            " [5.88317076e-03 9.94040430e-01 7.64338693e-05]\n",
            " [5.77814225e-03 9.94200587e-01 2.12920204e-05]\n",
            " [6.14166260e-04 9.99382854e-01 3.00341799e-06]\n",
            " [2.25084048e-04 9.99773800e-01 1.07743028e-06]\n",
            " [1.21334777e-03 9.98782098e-01 4.49808431e-06]\n",
            " [4.84645105e-04 9.99514461e-01 1.00136617e-06]\n",
            " [5.55418478e-03 9.94434059e-01 1.17100726e-05]\n",
            " [8.34248215e-02 9.16180372e-01 3.94820236e-04]\n",
            " [1.76949903e-01 8.18916798e-01 4.13322821e-03]\n",
            " [1.46591440e-01 8.51967275e-01 1.44123926e-03]\n",
            " [3.90638500e-01 6.07819080e-01 1.54238660e-03]\n",
            " [7.48889565e-01 2.45153099e-01 5.95727330e-03]\n",
            " [8.26760828e-01 1.68844700e-01 4.39447118e-03]\n",
            " [8.55891585e-01 1.41617745e-01 2.49065086e-03]\n",
            " [8.02000523e-01 1.97665319e-01 3.34150594e-04]\n",
            " [6.85402691e-01 3.14247817e-01 3.49443173e-04]\n",
            " [4.82837528e-01 5.16784370e-01 3.78144468e-04]\n",
            " [5.35118282e-01 4.64543223e-01 3.38485203e-04]\n",
            " [6.79598868e-01 3.20059806e-01 3.41387728e-04]\n",
            " [7.34293997e-01 2.65152395e-01 5.53574995e-04]\n",
            " [8.52599263e-01 1.41176283e-01 6.22446137e-03]\n",
            " [8.92900944e-01 8.18992630e-02 2.51997598e-02]\n",
            " [4.18114334e-01 5.53844690e-01 2.80409306e-02]\n",
            " [1.75763726e-01 8.23565722e-01 6.70578796e-04]\n",
            " [2.34753676e-02 9.76447165e-01 7.74459477e-05]\n",
            " [8.45945324e-04 9.99150395e-01 3.74550405e-06]\n",
            " [5.98594897e-06 9.99994040e-01 1.25459865e-08]\n",
            " [3.99797682e-06 9.99995947e-01 1.16895285e-08]\n",
            " [3.57010576e-05 9.99964237e-01 1.56812902e-07]\n",
            " [9.68461332e-04 9.99021292e-01 1.02053327e-05]\n",
            " [1.27417855e-02 9.87223268e-01 3.49821275e-05]\n",
            " [2.32477337e-02 9.76650476e-01 1.01810991e-04]\n",
            " [1.81198735e-02 9.81777430e-01 1.02634680e-04]\n",
            " [3.06263361e-02 9.69231308e-01 1.42306715e-04]\n",
            " [5.73610440e-02 9.42446291e-01 1.92730062e-04]\n",
            " [4.80946869e-01 5.18464625e-01 5.88427880e-04]\n",
            " [8.99381220e-01 9.95491445e-02 1.06956484e-03]\n",
            " [9.94778037e-01 5.02409274e-03 1.97926929e-04]\n",
            " [9.98327315e-01 1.65117043e-03 2.15017390e-05]\n",
            " [9.98403370e-01 1.59154739e-03 5.11831468e-06]\n",
            " [9.87076819e-01 1.29063549e-02 1.68186325e-05]\n",
            " [1.80876434e-01 8.19085300e-01 3.82437684e-05]\n",
            " [6.09247126e-02 9.39061999e-01 1.33326839e-05]\n",
            " [1.13158645e-02 9.88681555e-01 2.63571178e-06]\n",
            " [4.93791187e-03 9.95061457e-01 5.76191155e-07]\n",
            " [8.73760413e-03 9.91261482e-01 9.11074665e-07]\n",
            " [4.45695855e-02 9.55426812e-01 3.66978634e-06]\n",
            " [4.73196238e-01 5.26781797e-01 2.19546291e-05]\n",
            " [9.84937012e-01 1.50368316e-02 2.61274909e-05]\n",
            " [9.90657926e-01 9.30707995e-03 3.49315815e-05]\n",
            " [9.80483055e-01 1.95050333e-02 1.19541282e-05]\n",
            " [9.97543216e-01 2.44527939e-03 1.15451749e-05]\n",
            " [9.36767340e-01 6.30540028e-02 1.78711416e-04]\n",
            " [3.19265544e-01 6.80564821e-01 1.69672494e-04]\n",
            " [7.93067887e-02 9.20670867e-01 2.23945644e-05]\n",
            " [4.03727032e-02 9.59624231e-01 3.03328784e-06]\n",
            " [2.17329890e-01 7.82645345e-01 2.47266416e-05]\n",
            " [7.52530843e-02 9.24738288e-01 8.60064938e-06]\n",
            " [8.36732239e-03 9.91631091e-01 1.58136686e-06]\n",
            " [1.05510862e-03 9.98943985e-01 9.53847120e-07]\n",
            " [8.28508870e-04 9.99162316e-01 9.14602060e-06]\n",
            " [1.09994735e-05 9.99988914e-01 7.50133893e-08]\n",
            " [1.15494046e-07 9.99999881e-01 3.05443587e-10]\n",
            " [4.76969504e-08 1.00000000e+00 2.85888691e-11]\n",
            " [9.31409204e-07 9.99999046e-01 3.62410324e-10]\n",
            " [2.83879194e-06 9.99997139e-01 4.55312632e-09]\n",
            " [3.58018519e-06 9.99996424e-01 1.53373758e-08]\n",
            " [1.54375797e-04 9.99844074e-01 1.55589703e-06]\n",
            " [7.50252977e-04 9.99242783e-01 7.05490038e-06]\n",
            " [1.30027853e-04 9.99868989e-01 9.75389753e-07]\n",
            " [1.09340574e-04 9.99890447e-01 2.84170000e-07]\n",
            " [6.94040580e-07 9.99999285e-01 4.70023975e-09]\n",
            " [4.66098236e-08 1.00000000e+00 9.10502299e-11]\n",
            " [2.18415906e-07 9.99999762e-01 4.41509607e-10]\n",
            " [7.02381949e-05 9.99929786e-01 6.24504670e-09]\n",
            " [1.35658751e-03 9.98643219e-01 2.26244680e-07]\n",
            " [1.31688833e-01 8.68223965e-01 8.72927194e-05]\n",
            " [8.86556447e-01 1.13051705e-01 3.91760637e-04]\n",
            " [7.50369608e-01 2.49389112e-01 2.41282294e-04]\n",
            " [4.55541521e-01 5.44061840e-01 3.96639603e-04]\n",
            " [1.27828479e-01 8.72086048e-01 8.54942700e-05]\n",
            " [2.50441670e-01 7.49316633e-01 2.41716320e-04]\n",
            " [1.76928297e-01 8.22952569e-01 1.19165416e-04]\n",
            " [1.17287941e-01 8.82627666e-01 8.44006063e-05]\n",
            " [8.30975324e-02 9.16854203e-01 4.83382282e-05]\n",
            " [1.02605201e-01 8.97333205e-01 6.16123652e-05]\n",
            " [8.43725428e-02 9.15564001e-01 6.33850941e-05]\n",
            " [1.20161794e-01 8.79761815e-01 7.63131611e-05]\n",
            " [1.37333289e-01 8.62541437e-01 1.25259161e-04]\n",
            " [2.79481977e-01 7.20154703e-01 3.63306579e-04]\n",
            " [3.69031399e-01 6.30575776e-01 3.92810936e-04]\n",
            " [2.77454793e-01 7.22193599e-01 3.51609197e-04]\n",
            " [3.54370803e-01 6.45214200e-01 4.15065704e-04]\n",
            " [7.64158428e-01 2.35559240e-01 2.82270339e-04]\n",
            " [4.56024528e-01 5.43557227e-01 4.18200623e-04]\n",
            " [5.06572306e-01 4.92619425e-01 8.08304409e-04]\n",
            " [5.90817809e-01 4.07253921e-01 1.92827906e-03]\n",
            " [2.86260754e-01 7.12762356e-01 9.76892770e-04]\n",
            " [2.32436940e-01 7.67360926e-01 2.02078591e-04]\n",
            " [2.22093269e-01 7.77796447e-01 1.10213048e-04]\n",
            " [2.63376057e-01 7.36399174e-01 2.24688323e-04]\n",
            " [3.20501596e-01 6.79135323e-01 3.63071769e-04]\n",
            " [2.82690048e-01 7.16906369e-01 4.03655140e-04]\n",
            " [4.08722997e-01 5.90878367e-01 3.98715260e-04]\n",
            " [5.63099742e-01 4.36345935e-01 5.54242521e-04]\n",
            " [5.88754416e-01 4.10863191e-01 3.82380153e-04]\n",
            " [3.76430184e-01 6.23229206e-01 3.40675120e-04]\n",
            " [1.67103216e-01 8.32728088e-01 1.68681392e-04]\n",
            " [9.66265053e-02 9.03323233e-01 5.02387775e-05]\n",
            " [7.38551691e-02 9.26103473e-01 4.14209098e-05]\n",
            " [4.26285639e-02 9.57351506e-01 1.98755915e-05]\n",
            " [3.76767777e-02 9.62306201e-01 1.69682098e-05]\n",
            " [5.27971573e-02 9.47181106e-01 2.17515953e-05]\n",
            " [1.09646283e-01 8.90285730e-01 6.79035948e-05]\n",
            " [2.10375279e-01 7.89250553e-01 3.74224532e-04]\n",
            " [1.68462574e-01 8.31259131e-01 2.78339867e-04]\n",
            " [5.93756177e-02 9.40552890e-01 7.14194466e-05]\n",
            " [5.82686365e-02 9.41706955e-01 2.43982777e-05]\n",
            " [1.35212049e-01 8.64703834e-01 8.41222572e-05]\n",
            " [1.63480505e-01 8.36450875e-01 6.86075437e-05]\n",
            " [1.22713178e-01 8.77214849e-01 7.20083335e-05]\n",
            " [1.13950334e-01 8.85971546e-01 7.82080315e-05]\n",
            " [1.08166613e-01 8.91747415e-01 8.59906722e-05]\n",
            " [2.49121815e-01 7.50669122e-01 2.09004371e-04]\n",
            " [5.13887703e-01 4.85848963e-01 2.63347960e-04]\n",
            " [3.04381251e-01 6.95161641e-01 4.57147835e-04]\n",
            " [1.82439774e-01 8.17434609e-01 1.25584804e-04]\n",
            " [7.97597468e-02 9.20206726e-01 3.35753903e-05]\n",
            " [5.07140793e-02 9.49260473e-01 2.54975639e-05]\n",
            " [4.06693444e-02 9.59316194e-01 1.45187014e-05]\n",
            " [5.07812575e-02 9.49197948e-01 2.08545316e-05]\n",
            " [2.29986329e-02 9.76992249e-01 9.13755139e-06]\n",
            " [4.98790480e-02 9.50099051e-01 2.19003232e-05]\n",
            " [7.95928389e-02 9.20351565e-01 5.56694540e-05]\n",
            " [1.29840523e-01 8.70079041e-01 8.04069350e-05]\n",
            " [2.75807112e-01 7.23974824e-01 2.18109766e-04]\n",
            " [2.96634614e-01 7.03026414e-01 3.39024351e-04]\n",
            " [3.40209275e-01 6.59350514e-01 4.40183620e-04]\n",
            " [3.52696121e-01 6.46994054e-01 3.09809606e-04]\n",
            " [1.95825875e-01 8.03980529e-01 1.93623608e-04]\n",
            " [1.95825875e-01 8.03980529e-01 1.93623608e-04]\n",
            " [1.95825875e-01 8.03980529e-01 1.93623608e-04]\n",
            " [1.95825875e-01 8.03980529e-01 1.93623608e-04]]\n"
          ]
        }
      ]
    },
    {
      "cell_type": "code",
      "metadata": {
        "id": "zDzAYe7WTfHb"
      },
      "source": [
        "new_predictions = []\n",
        "for i in range(len(predictions)):\n",
        "    if(predictions[i][0]>0.5):\n",
        "      new_predictions.append('speech')\n",
        "    elif(predictions[i][1]>0.5):\n",
        "      new_predictions.append('music')\n",
        "    else:\n",
        "      new_predictions.append('silence')"
      ],
      "execution_count": 29,
      "outputs": []
    },
    {
      "cell_type": "code",
      "metadata": {
        "colab": {
          "base_uri": "https://localhost:8080/"
        },
        "id": "zMBDlay4ULa3",
        "outputId": "23713a66-dbd1-4d32-88ad-652642696c51"
      },
      "source": [
        "print(new_predictions)"
      ],
      "execution_count": 30,
      "outputs": [
        {
          "output_type": "stream",
          "name": "stdout",
          "text": [
            "['music', 'music', 'music', 'music', 'music', 'music', 'music', 'music', 'music', 'music', 'music', 'music', 'music', 'music', 'music', 'music', 'music', 'music', 'music', 'music', 'music', 'music', 'music', 'music', 'music', 'music', 'music', 'music', 'music', 'music', 'music', 'music', 'music', 'music', 'music', 'music', 'music', 'music', 'music', 'music', 'music', 'music', 'music', 'music', 'music', 'music', 'music', 'music', 'music', 'music', 'music', 'music', 'music', 'music', 'music', 'music', 'music', 'music', 'music', 'music', 'music', 'music', 'music', 'music', 'speech', 'speech', 'music', 'music', 'music', 'music', 'music', 'music', 'music', 'music', 'music', 'music', 'speech', 'speech', 'speech', 'speech', 'speech', 'music', 'speech', 'speech', 'music', 'music', 'music', 'speech', 'music', 'music', 'speech', 'speech', 'speech', 'speech', 'speech', 'speech', 'silence', 'music', 'music', 'music', 'music', 'music', 'silence', 'silence', 'silence', 'silence', 'silence', 'silence', 'speech', 'music', 'music', 'music', 'speech', 'speech', 'speech', 'speech', 'speech', 'speech', 'speech', 'speech', 'speech', 'music', 'music', 'music', 'music', 'music', 'music', 'music', 'speech', 'speech', 'speech', 'music', 'music', 'music', 'music', 'music', 'music', 'music', 'music', 'music', 'music', 'music', 'music', 'music', 'music', 'music', 'music', 'music', 'music', 'music', 'music', 'music', 'music', 'music', 'music', 'music', 'music', 'music', 'music', 'music', 'music', 'music', 'music', 'music', 'music', 'music', 'music', 'music', 'music', 'music', 'music', 'music', 'music', 'music', 'music', 'music', 'music', 'music', 'music', 'music', 'music', 'speech', 'speech', 'speech', 'speech', 'speech', 'music', 'speech', 'speech', 'speech', 'speech', 'speech', 'music', 'music', 'music', 'music', 'music', 'music', 'music', 'music', 'music', 'music', 'music', 'music', 'music', 'music', 'speech', 'speech', 'speech', 'speech', 'speech', 'music', 'music', 'music', 'music', 'music', 'music', 'music', 'speech', 'speech', 'speech', 'speech', 'speech', 'music', 'music', 'music', 'music', 'music', 'music', 'music', 'music', 'music', 'music', 'music', 'music', 'music', 'music', 'music', 'music', 'music', 'music', 'music', 'music', 'music', 'music', 'music', 'music', 'speech', 'speech', 'music', 'music', 'music', 'music', 'music', 'music', 'music', 'music', 'music', 'music', 'music', 'music', 'music', 'music', 'speech', 'music', 'speech', 'speech', 'music', 'music', 'music', 'music', 'music', 'music', 'music', 'speech', 'speech', 'music', 'music', 'music', 'music', 'music', 'music', 'music', 'music', 'music', 'music', 'music', 'music', 'music', 'music', 'music', 'music', 'music', 'music', 'speech', 'music', 'music', 'music', 'music', 'music', 'music', 'music', 'music', 'music', 'music', 'music', 'music', 'music', 'music', 'music', 'music', 'music', 'music']\n"
          ]
        }
      ]
    },
    {
      "cell_type": "code",
      "metadata": {
        "id": "4s4Mf4Q5yVQF"
      },
      "source": [
        "# CONVERTING FRAME INDEX TO TIME\n",
        "def to_time(iteration, frame_size=WIN_LENGTH, rate=SAMPLING_RATE, hop_size=HOP_LENGTH, duration=DURATION):\n",
        "  total_iterations = int(np.ceil((DURATION*SAMPLING_RATE)/(hop_size)))\n",
        "  return (float(iteration)/float(total_iterations))*DURATION"
      ],
      "execution_count": 31,
      "outputs": []
    },
    {
      "cell_type": "code",
      "metadata": {
        "id": "Kk-sxA09yeuJ"
      },
      "source": [
        "# PERFORMING DILATION\n",
        "def dilate(X, span=5):\n",
        "  X_dilated = []\n",
        "  for i in range(len(X)):\n",
        "    count = {'silence':0, 'speech':0, 'music':0}\n",
        "    for j in range(max(0, i-span), min(len(X), i+span)):\n",
        "      count[X[j]] = count[X[j]] + 1\n",
        "    keymax = max(zip(count.values(), count.keys()))[1]\n",
        "    X_dilated.append(keymax)\n",
        "  return X_dilated"
      ],
      "execution_count": 35,
      "outputs": []
    },
    {
      "cell_type": "code",
      "metadata": {
        "id": "tZvO_u49yiF0"
      },
      "source": [
        "# PERFORMING DECODING\n",
        "def Decode(predicted, frame_size=WIN_LENGTH, sr=SAMPLING_RATE, min_event_duration=0.4):\n",
        "  ans = []\n",
        "  predicted = dilate(predicted)\n",
        "  prevclass = 'silence'\n",
        "  curclass = 'silence'\n",
        "  start = 0\n",
        "  end = 0\n",
        "\n",
        "  for i in range(len(predicted)):\n",
        "    curclass = predicted[i]\n",
        "    if(curclass != prevclass):\n",
        "        if(prevclass != 'silence'):\n",
        "          ans.append((start, to_time(i), prevclass))\n",
        "        # the prev class has ended\n",
        "        prevclass = curclass\n",
        "        # the start time of the current class is now\n",
        "        start = to_time(i)\n",
        "  if(curclass !='silence'):\n",
        "    ans.append((start, to_time(len(predicted)), curclass))\n",
        "  # Combining adjacent classes (Dilation)\n",
        "  compressed_ans = []\n",
        "  pc = ans[0]\n",
        "  for i in range(len(ans)-1):  \n",
        "    cc = ans[i]\n",
        "    nc = ans[i+1]\n",
        "\n",
        "    if(nc[2] != cc[2]):\n",
        "      compressed_ans.append(pc)\n",
        "      pc = nc\n",
        "    else:\n",
        "      if(nc[0] - pc[1] >= min_event_duration):\n",
        "        compressed_ans.append(pc)\n",
        "        pc=nc\n",
        "      else:\n",
        "        pc = (pc[0], nc[1], pc[2])\n",
        "  compressed_ans.append(pc)    \n",
        "  \n",
        "  final_ans = []\n",
        "  # Erosion\n",
        "  for i in range(len(compressed_ans)):\n",
        "    if(compressed_ans[i][1] - compressed_ans[i][0] > min_event_duration):\n",
        "      final_ans.append(compressed_ans[i])\n",
        "  return final_ans"
      ],
      "execution_count": 36,
      "outputs": []
    },
    {
      "cell_type": "code",
      "metadata": {
        "id": "m5Z6lt1LykkN",
        "colab": {
          "base_uri": "https://localhost:8080/"
        },
        "outputId": "e8dc0319-38de-4dc6-fb5f-ac22d721c55f"
      },
      "source": [
        "# PRINTING RESULTS\n",
        "ans = Decode(new_predictions)\n",
        "print(ans)"
      ],
      "execution_count": 37,
      "outputs": [
        {
          "output_type": "stream",
          "name": "stdout",
          "text": [
            "[(0.0, 2.428115015974441, 'music'), (3.8977635782747604, 5.782747603833865, 'music'), (6.166134185303514, 6.5814696485623, 'music'), (7.156549520766773, 10.0, 'music')]\n"
          ]
        }
      ]
    }
  ]
}