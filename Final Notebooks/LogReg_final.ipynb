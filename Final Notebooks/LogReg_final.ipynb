{
  "nbformat": 4,
  "nbformat_minor": 0,
  "metadata": {
    "colab": {
      "name": "LogReg_final.ipynb",
      "provenance": []
    },
    "kernelspec": {
      "name": "python3",
      "display_name": "Python 3"
    },
    "language_info": {
      "name": "python"
    }
  },
  "cells": [
    {
      "cell_type": "code",
      "metadata": {
        "id": "U10NaJ1Ng-RC"
      },
      "source": [
        "import numpy as np\n",
        "import matplotlib.pyplot as plt\n",
        "import librosa\n",
        "import soundfile as sf\n",
        "import librosa.display\n",
        "from glob import glob\n",
        "import os\n",
        "from tqdm import tqdm"
      ],
      "execution_count": null,
      "outputs": []
    },
    {
      "cell_type": "code",
      "metadata": {
        "id": "0MeoFOrZhNiY"
      },
      "source": [
        "def splitData(X, t, testFraction=0.2, randomize = False):\n",
        "    \"\"\"\n",
        "    Split the data randomly into training and test sets\n",
        "    Use numpy functions only\n",
        "    Inputs:\n",
        "        X: (np array of len Nsamples) input feature vectors\n",
        "        t: (np array of len Nsamples) targets; one hot vectors\n",
        "        testFraction: (float) Nsamples_test = testFraction * Nsamples\n",
        "    Outputs:\n",
        "        X_train: training set\n",
        "        X_test: test set\n",
        "        t_train: training labels\n",
        "        t_test: test labels\n",
        "    \"\"\"\n",
        "    if randomize is False:\n",
        "      tot_samples = np.random.RandomState(seed=42).permutation(len(X))\n",
        "    else:\n",
        "      tot_samples = np.random.permutation(len(X))\n",
        "\n",
        "    X_train = []\n",
        "    X_test = []\n",
        "    t_train = []\n",
        "    t_test = []\n",
        "    \n",
        "    test_samples = max(1,int(len(X)*testFraction))\n",
        "    # print(tot_samples[:test_samples])\n",
        "    # print(tot_samples[test_samples:])\n",
        "\n",
        "    for i in range(test_samples):\n",
        "      X_test.append(X[tot_samples[i]])\n",
        "      t_test.append(t[tot_samples[i]])\n",
        "\n",
        "    for i in range(test_samples,len(X)):\n",
        "      X_train.append(X[tot_samples[i]])\n",
        "      t_train.append(t[tot_samples[i]])\n",
        "    \n",
        "    return np.asarray(X_train), np.asarray(t_train), np.asarray(X_test), np.asarray(t_test)\n",
        "\n",
        "def calc_spec(x):\n",
        "    n_fft = 1024\n",
        "    hop_length = 512\n",
        "    win_length = 1024\n",
        "    X = np.abs(librosa.stft(x, n_fft = n_fft, hop_length = hop_length, win_length = win_length, window='hann'))\n",
        "    X = librosa.power_to_db(X**2,ref=np.max)\n",
        "    return X\n",
        "\n",
        "def audio2spec(x, norm=True):\n",
        "    \n",
        "    '''\n",
        "    Compute Mel-frequency cepstral coefficients (MFCCs)\n",
        "    Inputs:\n",
        "        x: np array of shape (Nsamples,)\n",
        "    Output:\n",
        "        X: (np array) spectrogram sequence\n",
        "    '''\n",
        "    X=[]\n",
        "    for sample in x:\n",
        "      X.append(calc_spec(sample))\n",
        "    if norm is True:\n",
        "      X = (X-np.mean(X))/np.std(X)\n",
        "    return np.asarray(X)"
      ],
      "execution_count": null,
      "outputs": []
    },
    {
      "cell_type": "code",
      "metadata": {
        "id": "6diVunBLNtM5"
      },
      "source": [
        "# PARAMETER FOR STFT\n",
        "SAMPLING_RATE=16000\n",
        "DURATION=10\n",
        "N_FFT = 1024\n",
        "WIN_LENGTH = 1024\n",
        "HOP_LENGTH = 512"
      ],
      "execution_count": null,
      "outputs": []
    },
    {
      "cell_type": "code",
      "metadata": {
        "colab": {
          "base_uri": "https://localhost:8080/"
        },
        "id": "vJaBVuLcNwNY",
        "outputId": "c89a6330-e3a1-4b63-fcc2-2fc60a36df1b"
      },
      "source": [
        "# LOADING THE TRAINING SPECTROGRAMS\n",
        "X = np.load('/content/drive/MyDrive/Sem 5/EE603/project/val_set/Final_Dataset/training_spectrogram.npy')\n",
        "print(X.shape)\n",
        "y = np.load('/content/drive/MyDrive/Sem 5/EE603/project/val_set/Final_Dataset/training_labels.npy')\n",
        "print(y.shape)\n",
        "# from sklearn.utils import shuffle\n",
        "# X, y = shuffle(X, y)"
      ],
      "execution_count": null,
      "outputs": [
        {
          "output_type": "stream",
          "name": "stdout",
          "text": [
            "(717, 513, 313)\n",
            "(717,)\n"
          ]
        }
      ]
    },
    {
      "cell_type": "code",
      "metadata": {
        "id": "Ca4hVHKpOTfS"
      },
      "source": [
        "# EXTRACTING THE MFCC FEATURES FROM THE SPECTROGRAM\n",
        "def get_mfcc(X):\n",
        "  X_new = []\n",
        "  for i in range(len(X)):\n",
        "    mel_spectrogram = librosa.feature.melspectrogram(S=X[i], n_fft=N_FFT, hop_length=HOP_LENGTH)\n",
        "    mfcc = librosa.feature.mfcc(S=mel_spectrogram, sr=16000,n_mfcc=20)\n",
        "    mean = np.average(mfcc)\n",
        "    std = np.std(mfcc)\n",
        "    if(std == 0):\n",
        "      std = std + 1e-25\n",
        "    mfcc = (mfcc - mean)/std\n",
        "    X_new.append(mfcc)\n",
        "  return np.array(X_new)\n",
        "X = get_mfcc(X)"
      ],
      "execution_count": null,
      "outputs": []
    },
    {
      "cell_type": "code",
      "metadata": {
        "id": "sE69Eib6OagX"
      },
      "source": [
        "# FUNCTIONS TO CONVERT STRING TO ONE-HOT-VECTORS\n",
        "def one_hot_enc(cl_name):\n",
        "  if(cl_name == 'music'):\n",
        "    return np.array([0,1,0])\n",
        "  elif(cl_name == 'speech'):\n",
        "    return np.array([1,0,0])\n",
        "  else:\n",
        "    return np.array([0,0,1])\n",
        "\n",
        "def string2ohv(y):\n",
        "  y_ohv = []\n",
        "  for i in y:\n",
        "    y_ohv.append(one_hot_enc(i))\n",
        "  return np.array(y_ohv)"
      ],
      "execution_count": null,
      "outputs": []
    },
    {
      "cell_type": "code",
      "metadata": {
        "colab": {
          "base_uri": "https://localhost:8080/"
        },
        "id": "K7s5GLdNOUeV",
        "outputId": "fcc9ec51-c4b5-48db-fa87-ec8f1c2e69cb"
      },
      "source": [
        "X_train, y_train, X_test, y_test = splitData(X=X, t=y, testFraction=0.2, randomize=True)\n",
        "print(X_train.shape)\n",
        "print(X_test.shape)"
      ],
      "execution_count": null,
      "outputs": [
        {
          "output_type": "stream",
          "name": "stdout",
          "text": [
            "(574, 20, 313)\n",
            "(143, 20, 313)\n"
          ]
        }
      ]
    },
    {
      "cell_type": "code",
      "metadata": {
        "colab": {
          "base_uri": "https://localhost:8080/"
        },
        "id": "aXj1edmKO2Sm",
        "outputId": "9a936040-fe3a-4db3-d1c3-b105f9fc3b2e"
      },
      "source": [
        "# RESHAPING THE DATA\n",
        "def reshape(X, y):\n",
        "  # Reshape the data to make each entry in the spectrogram a training sample\n",
        "  X_new = []\n",
        "  y_new = []\n",
        "  for i in range(len(X)):\n",
        "    X_new.append(np.transpose(X[i]))\n",
        "    # print(X[i].shape[1])\n",
        "    y_new.append([y[i]]*X[i].shape[1])\n",
        "    # print(np.shape(y_new))\n",
        "  X_new = np.array(X_new)\n",
        "  y_new = np.array(y_new)\n",
        "  X_new = X_new.reshape((-1, X[0].shape[0]))\n",
        "  y_new = y_new.reshape((-1, 1))\n",
        "  print(X_new.shape)\n",
        "  print(y_new.shape)\n",
        "  return X_new, y_new\n",
        "X_train, y_train = reshape(X_train, y_train)\n",
        "X_test, y_test = reshape(X_test, y_test)\n",
        "y_test = string2ohv(y_test)\n",
        "y_train = string2ohv(y_train)\n",
        "print(y_train.shape)\n",
        "print(y_test.shape)"
      ],
      "execution_count": null,
      "outputs": [
        {
          "output_type": "stream",
          "name": "stdout",
          "text": [
            "(179662, 20)\n",
            "(179662, 1)\n",
            "(44759, 20)\n",
            "(44759, 1)\n",
            "(179662, 3)\n",
            "(44759, 3)\n"
          ]
        }
      ]
    },
    {
      "cell_type": "code",
      "metadata": {
        "colab": {
          "base_uri": "https://localhost:8080/"
        },
        "id": "IwbkGZCAO7-U",
        "outputId": "4f8e1b63-2404-4c8a-fb2a-80c60fce21b0"
      },
      "source": [
        "# PREPARING THE BAG OF FRAMES TO ESTABLISH TEMPORAL DEPENDENCE\n",
        "def make_bags(X_prev):\n",
        "  X_new = []\n",
        "  X_new.append(X_prev[:7])\n",
        "  X_new.append(X_prev[:7])\n",
        "  X_new.append(X_prev[:7])\n",
        "\n",
        "  for i in tqdm(range(len(X_prev)-6)):\n",
        "    A = X_prev[i:i+7]\n",
        "    X_new.append(A)\n",
        "\n",
        "  X_new.append(X_prev[-7:])\n",
        "  X_new.append(X_prev[-7:])\n",
        "  X_new.append(X_prev[-7:])\n",
        "  \n",
        "  X_new = np.array(X_new)\n",
        "  return X_new\n",
        "X_test_reshaped = make_bags(X_test)\n",
        "print(X_test_reshaped.shape)\n",
        "X_train_reshaped = make_bags(X_train)\n",
        "print(X_train_reshaped.shape)"
      ],
      "execution_count": null,
      "outputs": [
        {
          "output_type": "stream",
          "name": "stderr",
          "text": [
            "100%|██████████| 44753/44753 [00:00<00:00, 1135358.51it/s]\n"
          ]
        },
        {
          "output_type": "stream",
          "name": "stdout",
          "text": [
            "(44759, 7, 20, 1)\n"
          ]
        },
        {
          "output_type": "stream",
          "name": "stderr",
          "text": [
            "100%|██████████| 179656/179656 [00:00<00:00, 1150312.68it/s]\n"
          ]
        },
        {
          "output_type": "stream",
          "name": "stdout",
          "text": [
            "(179662, 7, 20, 1)\n"
          ]
        }
      ]
    },
    {
      "cell_type": "code",
      "metadata": {
        "id": "EveK9UNHhXXH"
      },
      "source": [
        "class Classifier: \n",
        "    '''\n",
        "    Create a linear classifier to classify each frame\n",
        "    '''\n",
        "    def __init__(self,lr=10**-2,epoch=10**4):\n",
        "        self.W = -1\n",
        "        self.b = 0\n",
        "        self.lr = lr\n",
        "        self.epoch = epoch\n",
        "\n",
        "    def softMax(self,z):\n",
        "      z = np.exp(z - np.max(z))\n",
        "      return z/np.sum(z)\n",
        "\n",
        "    def train(self,x_train, y_train, x_test=None, y_test=None):\n",
        "        '''\n",
        "        Train the linear classifier\n",
        "        Inputs:\n",
        "            x_train: training set\n",
        "            y_train: training labels\n",
        "        Output:\n",
        "            None\n",
        "        '''\n",
        "        print(\"Received input data and labels of shapes:\",np.shape(x_train), np.shape(y_train))\n",
        "        n_files = np.shape(x_train)[0]\n",
        "        n_features = np.shape(x_train)[1]\n",
        "        n_frames = np.shape(x_train)[2]\n",
        "        n_classes = np.shape(y_train)[1]\n",
        "        m = n_files\n",
        "        m_test = np.shape(x_test)[0]\n",
        "\n",
        "        print(n_files, \"n_files\")\n",
        "        print(n_frames, \"n_frames\")\n",
        "        print(n_features, \"n_features\")\n",
        "        print(n_classes, \"n_classes\")\n",
        "\n",
        "        self.W = np.random.RandomState(seed=42).random((n_features, n_classes))\n",
        "        self.b = np.random.RandomState(seed=42).random(n_classes)\n",
        "        print(\"Initialised weights and bias with shapes:\", np.shape(self.W), np.shape(self.b))\n",
        "\n",
        "        X = []\n",
        "        Y = []\n",
        "        X_t = []\n",
        "        Y_t = []\n",
        "        losses = []\n",
        "\n",
        "        for i in range(n_files):\n",
        "          for j in range(n_frames):\n",
        "            X.append(x_train[i][:,j])\n",
        "            Y.append(y_train[i])\n",
        "\n",
        "        for i in range(m_test):\n",
        "          for j in range(n_frames):\n",
        "            X_t.append(x_test[i][:,j])\n",
        "            Y_t.append(y_test[i])\n",
        "\n",
        "        X = np.asarray(X)\n",
        "        Y = np.asarray(Y)\n",
        "        X_t = np.asarray(X_t)\n",
        "        Y_t = np.asarray(Y_t)\n",
        "        print(\"final shapes of data fed to training:\",np.shape(X),np.shape(Y))\n",
        "        print(\"final shapes of data fed to validation:\",np.shape(X_t),np.shape(Y_t))\n",
        "\n",
        "        for i in tqdm(range(self.epoch)):\n",
        "            Z = X@self.W + self.b\n",
        "            Y_hat = self.softMax(Z)\n",
        "\n",
        "            Y_hat_t = self.softMax(X_t@self.W + self.b)\n",
        "\n",
        "            w_grad = (1/m)*np.dot(X.T, (Y_hat - Y)) \n",
        "            b_grad = (1/m)*np.sum(Y_hat - Y)\n",
        "            \n",
        "            self.W -= self.lr*w_grad\n",
        "            self.b -= self.lr*b_grad\n",
        "            \n",
        "            # loss = (-1/m)*np.sum(np.log(Y_hat+1e-9)*Y )\n",
        "            loss_train = -np.mean(np.log(1e-10+Y_hat[np.arange(len(Y)), np.argmax(Y, axis=1)]))\n",
        "            loss_val = -np.mean(np.log(1e-10+Y_hat_t[np.arange(len(Y_t)), np.argmax(Y_t, axis=1)]))\n",
        "            losses.append((loss_train,loss_val))\n",
        "        return losses       \n",
        "\n",
        "    def save_model(self, save_path):\n",
        "        '''\n",
        "        Save the trained model on local disk\n",
        "        Input:\n",
        "            save_path: location at which model is to be saved\n",
        "        Output:\n",
        "            None\n",
        "        '''\n",
        "        \n",
        "        with open(os.path.join(save_path,'W.npy'), 'wb') as f:\n",
        "          np.save(f,self.W)\n",
        "        with open(os.path.join(save_path,'b.npy'), 'wb') as f:\n",
        "          np.save(f,self.b)\n",
        "    \n",
        "    def load_model(self, load_path):\n",
        "        '''\n",
        "        Save the trained model on local disk\n",
        "        Input:\n",
        "            load_path: location from which model is to be loaded\n",
        "        Output:\n",
        "            None\n",
        "        '''\n",
        "\n",
        "        with open(os.path.join(load_path,'W.npy'), 'rb') as f:\n",
        "          self.W = np.load(f)\n",
        "        with open(os.path.join(load_path,'b.npy'), 'rb') as f:\n",
        "          self.b = np.load(f)\n",
        "    \n",
        "    def predict_framewise(self,x_test):\n",
        "        '''\n",
        "        Framewise classification (speech or music)\n",
        "        Input:\n",
        "            x_test: single frame (n_features,1)\n",
        "        Output:\n",
        "            y_pred_framewise = class prediction\n",
        "        '''\n",
        "        z = x_test@self.W + self.b\n",
        "        y_hat = np.argmax(self.softMax(z))\n",
        "        y_hot = np.zeros(np.shape(z)[0])\n",
        "        y_hot[y_hat] = 1\n",
        "        return y_hot\n",
        "\n",
        "    def predict_aggregate(self,y_pred_framewise):\n",
        "        '''\n",
        "        Aggregate frames to give a single class label (music or speech) to the entire audio file\n",
        "        Input:\n",
        "            y_pred_framewise: framewise prediction\n",
        "        Output:\n",
        "            y_hat: frame aggregate (one-hot vectors)\n",
        "        '''\n",
        "        y_pred_framewise = np.asarray(y_pred_framewise)\n",
        "        if y_pred_framewise.ndim > 1:\n",
        "          counts = np.sum(y_pred_framewise, axis=0)\n",
        "        y_hat = np.argmax(counts)\n",
        "        y_hot = np.zeros(np.shape(counts)[0])\n",
        "        y_hot[y_hat] = 1\n",
        "        return y_hot\n",
        "\n",
        "    def predict(self,x_test):\n",
        "      '''\n",
        "      Return one hot encoded classification results for the test set\n",
        "      Input: \n",
        "        x_test: testing set (normalised spectrograms)\n",
        "      Output:\n",
        "        y_hat: list of one hot vectors for classification on x_test\n",
        "      '''\n",
        "      y_hat = []\n",
        "      for f in x_test:\n",
        "        y_pred_framewise = []\n",
        "        for window in range(np.shape(f)[1]):\n",
        "          y_pred_framewise.append(self.predict_framewise(f[:,window]))\n",
        "        y_hat.append(self.predict_aggregate(y_pred_framewise))\n",
        "      return y_hat"
      ],
      "execution_count": null,
      "outputs": []
    },
    {
      "cell_type": "code",
      "metadata": {
        "colab": {
          "base_uri": "https://localhost:8080/"
        },
        "id": "mCkANt9FPYzq",
        "outputId": "1fe67d1e-593f-43f2-94b4-f9e7f09d9a9b"
      },
      "source": [
        "EPOCHS = 5*10**2\n",
        "LR = 10**-2\n",
        "X_train = np.reshape(X_train_reshaped, (np.shape(X_train_reshaped)[0],-1,1))\n",
        "X_test = np.reshape(X_test_reshaped, (np.shape(X_test_reshaped)[0],-1,1))\n",
        "\n",
        "print(np.shape(X_train), np.shape(X_test))"
      ],
      "execution_count": null,
      "outputs": [
        {
          "output_type": "stream",
          "name": "stdout",
          "text": [
            "(179662, 140, 1) (44759, 140, 1)\n"
          ]
        }
      ]
    },
    {
      "cell_type": "code",
      "metadata": {
        "colab": {
          "base_uri": "https://localhost:8080/"
        },
        "id": "II68DSU-RJp1",
        "outputId": "54d5f3ee-13c8-4d55-ca2b-c996438740c2"
      },
      "source": [
        "model = Classifier(lr=LR,epoch=EPOCHS) \n",
        "hist=model.train(x_train=X_train, y_train=y_train, x_test=X_test, y_test=y_test) "
      ],
      "execution_count": null,
      "outputs": [
        {
          "output_type": "stream",
          "name": "stdout",
          "text": [
            "Received input data and labels of shapes: (179662, 140, 1) (179662, 3)\n",
            "179662 n_files\n",
            "1 n_frames\n",
            "140 n_features\n",
            "3 n_classes\n",
            "Initialised weights and bias with shapes: (140, 3) (3,)\n",
            "final shapes of data fed to training: (179662, 140) (179662, 3)\n",
            "final shapes of data fed to validation: (44759, 140) (44759, 3)\n"
          ]
        },
        {
          "output_type": "stream",
          "name": "stderr",
          "text": [
            "100%|██████████| 500/500 [14:27<00:00,  1.73s/it]\n"
          ]
        }
      ]
    },
    {
      "cell_type": "code",
      "metadata": {
        "colab": {
          "base_uri": "https://localhost:8080/",
          "height": 295
        },
        "id": "iFI0zU8XPluo",
        "outputId": "de663db0-d77f-4dac-9c5e-63eb5dfd7e82"
      },
      "source": [
        "plt.title(\"Training and Validation Loss for Logistic Regression\")\n",
        "# plt.plot(np.arange(EPOCHS),[x[0]*500/X_test.shape[0] for x in hist], label='train')\n",
        "# plt.plot(np.arange(EPOCHS),[x[1]*500/X_test.shape[0] for x in hist], label='val')\n",
        "plt.plot(np.arange(EPOCHS),[x[0]/100 for x in hist], label='train')\n",
        "plt.plot(np.arange(EPOCHS),[x[1]/100 for x in hist], label='val')\n",
        "plt.xlabel(\"Epochs\")\n",
        "plt.ylabel(\"Cross Entropy Loss\")\n",
        "plt.legend()\n",
        "plt.show()"
      ],
      "execution_count": null,
      "outputs": [
        {
          "output_type": "display_data",
          "data": {
            "image/png": "[encoded data removed]",
            "text/plain": [
              "<Figure size 432x288 with 1 Axes>"
            ]
          },
          "metadata": {
            "needs_background": "light"
          }
        }
      ]
    },
    {
      "cell_type": "code",
      "metadata": {
        "id": "WqfCdTo4PoNi"
      },
      "source": [
        "y_hat = model.predict(x_test=X_test)"
      ],
      "execution_count": null,
      "outputs": []
    },
    {
      "cell_type": "code",
      "metadata": {
        "colab": {
          "base_uri": "https://localhost:8080/"
        },
        "id": "xpx5weCHnPTw",
        "outputId": "df150572-5c21-458b-aba6-206fbf8de371"
      },
      "source": [
        "test_accuracy = np.mean(np.asarray(y_hat).ravel() == np.asarray(y_test).ravel()) * 100\n",
        "# test_accuracy = classifier.score(X_test, y_test)\n",
        "print('Test accuracy:', test_accuracy)"
      ],
      "execution_count": null,
      "outputs": [
        {
          "output_type": "stream",
          "name": "stdout",
          "text": [
            "Test accuracy: 54.312354312354316\n"
          ]
        }
      ]
    },
    {
      "cell_type": "code",
      "metadata": {
        "colab": {
          "base_uri": "https://localhost:8080/"
        },
        "id": "-LLcgsT9XQFi",
        "outputId": "819b72e5-904c-4c06-c54b-2b4ab7cd3fd7"
      },
      "source": [
        "import sklearn\n",
        "print(sklearn.metrics.f1_score(y_hat, y_test, average='micro'))"
      ],
      "execution_count": null,
      "outputs": [
        {
          "output_type": "stream",
          "name": "stdout",
          "text": [
            "0.3146853146853147\n"
          ]
        }
      ]
    },
    {
      "cell_type": "code",
      "metadata": {
        "colab": {
          "base_uri": "https://localhost:8080/"
        },
        "id": "X8DA0Yn3bFXB",
        "outputId": "e81e491f-09ef-4c49-f55b-d64a546b1ca4"
      },
      "source": [
        "%cd /content/drive/MyDrive/Sem 5/EE603/project"
      ],
      "execution_count": null,
      "outputs": [
        {
          "output_type": "stream",
          "name": "stdout",
          "text": [
            "/content/drive/MyDrive/Sem 5/EE603/project\n"
          ]
        }
      ]
    },
    {
      "cell_type": "code",
      "metadata": {
        "id": "J5JNJlhEhd1m",
        "colab": {
          "base_uri": "https://localhost:8080/"
        },
        "outputId": "33b47670-3616-4cfa-e9f2-bec86ea1c322"
      },
      "source": [
        "model.save_model('')\n",
        "!ls\n",
        "\n",
        "model.load_model('')\n",
        "print(model.W)\n",
        "print(model.b)\n",
        "print(np.shape(model.W))\n",
        "print(np.shape(model.b))"
      ],
      "execution_count": null,
      "outputs": [
        {
          "output_type": "stream",
          "name": "stdout",
          "text": [
            " b.npy\t\t\t\t  dcase.ipynb\t      mocktest_set      W.npy\n",
            " ClassifierOldMFCCVariant.ipynb   GMM.ipynb\t      OldLogReg.ipynb\n",
            "'Copy of GMM.ipynb'\t\t  LogReg.ipynb\t      val_set\n",
            "'Copy of LogReg.ipynb'\t\t 'MLSP AED.gslides'   val_set_old\n",
            "[[-6.68810451 -6.00342399 -6.44242718]\n",
            " [ 2.34775433  2.13447564  0.54360827]\n",
            " [ 0.33382305  1.04198339  0.97845316]\n",
            " [ 1.20529702  0.65267836  1.34873621]\n",
            " [ 1.03494185  0.38919057  0.55863671]\n",
            " [ 0.3900736   0.63841936  0.90220398]\n",
            " [ 0.63352111  0.47332005  0.98877598]\n",
            " [ 0.38734372  0.57905984  0.74372678]\n",
            " [ 0.66033439  1.00736073  0.57680382]\n",
            " [ 0.7987278   0.91042441  0.42380548]\n",
            " [ 0.88118636  0.41512454  0.44213435]\n",
            " [ 1.25739207  1.30199454  1.18551586]\n",
            " [ 0.58794193  0.34027323  1.06102431]\n",
            " [ 0.80365     0.41929217  0.87266849]\n",
            " [ 0.30525755  1.13234676  0.63613373]\n",
            " [ 1.02780747  0.59919522  0.89705994]\n",
            " [ 0.85875482  0.4215938   1.34579509]\n",
            " [ 1.10366951  1.19563462  1.2715532 ]\n",
            " [ 0.93546982  1.17563328  0.46601001]\n",
            " [ 0.54457585  0.31421843  0.70169502]\n",
            " [-6.67389474 -6.6822974  -6.34623274]\n",
            " [ 2.1070139   2.26137503  0.92714529]\n",
            " [ 0.41673695  0.97765559  0.45217401]\n",
            " [ 1.48399931  1.40470892  0.57729096]\n",
            " [ 0.20784104  0.99207454  1.08407273]\n",
            " [ 0.93540999  1.1055042   0.45168851]\n",
            " [ 0.55986915  0.29777224  1.24039714]\n",
            " [ 0.87104127  0.61772988  0.44112399]\n",
            " [ 0.51509367  0.5471763   1.10708726]\n",
            " [ 0.92188385  1.20516682  0.84978096]\n",
            " [ 0.39312108  0.9577201   1.13810567]\n",
            " [ 0.86969905  1.10733706  0.87099716]\n",
            " [ 0.80599581  0.66995859  0.40245605]\n",
            " [ 0.47141413  0.32854617  1.014016  ]\n",
            " [ 0.58519411  0.73137631  1.28517619]\n",
            " [ 0.61466121  0.69772147  1.13260714]\n",
            " [ 0.54084084  0.31352618  0.66615167]\n",
            " [ 0.48976137  1.18566622  1.18501428]\n",
            " [ 0.97104323  1.12496972  1.18138057]\n",
            " [ 0.53519973  1.16137373  0.91585248]\n",
            " [-6.25496307 -6.05716977 -6.85756107]\n",
            " [ 1.86134431  2.21042793  0.80843645]\n",
            " [ 1.0939105   1.0358551   0.38485574]\n",
            " [ 1.00774689  1.05030583  0.60038985]\n",
            " [ 0.32196615  0.51400994  1.32057188]\n",
            " [ 0.52936212  0.85309247  1.08083091]\n",
            " [ 0.56481937  1.15352029  1.34011272]\n",
            " [ 0.49935938  0.78398172  0.67868217]\n",
            " [ 0.48882383  0.25865026  0.98740589]\n",
            " [ 0.78686547  0.36939554  0.65640194]\n",
            " [ 1.18170546  0.48389671  0.52245917]\n",
            " [ 0.79777247  1.32201268  0.61936679]\n",
            " [ 0.9553476   1.0038714   0.6149011 ]\n",
            " [ 1.09178995  0.66473988  1.01002398]\n",
            " [ 0.90434315  0.75832352  0.46818117]\n",
            " [ 1.20079274  0.60792547  0.5636498 ]\n",
            " [ 0.35283024  0.8272414   1.05414546]\n",
            " [ 0.34516771  0.76783652  0.60358692]\n",
            " [ 0.98284196  0.42765821  1.06883243]\n",
            " [ 0.7354278   1.20533962  0.51417731]\n",
            " [-6.72117005 -6.83933095 -6.25154216]\n",
            " [ 2.62965446  2.24267301  1.03804652]\n",
            " [ 1.09334573  0.72993088  0.90773771]\n",
            " [ 0.73892998  0.72629053  1.27512961]\n",
            " [ 1.10249089  0.80917948  0.71704845]\n",
            " [ 0.55524881  1.0602826   1.27501558]\n",
            " [ 1.08818503  0.96138878  1.02001353]\n",
            " [ 0.3317145   0.44824496  1.2764627 ]\n",
            " [ 0.81030019  0.23081118  0.47956517]\n",
            " [ 0.94756165  0.32297995  0.53867323]\n",
            " [ 0.82210272  0.93610615  1.02970855]\n",
            " [ 0.53252846  1.04856259  0.61459709]\n",
            " [ 0.60857358  0.98858532  1.02709374]\n",
            " [ 1.21286161  0.95442179  0.94611328]\n",
            " [ 0.3644791   0.5900656   0.64330363]\n",
            " [ 0.60959621  1.25999546  0.77027466]\n",
            " [ 1.20414525  0.86730125  1.17153941]\n",
            " [ 0.83124916  0.83244011  0.86977717]\n",
            " [ 0.53298078  0.97555397  0.6587977 ]\n",
            " [ 0.37307474  0.91392809  0.55385791]\n",
            " [-6.12170643 -5.9992962  -6.26104538]\n",
            " [ 2.12110938  1.99821838  1.30967807]\n",
            " [ 0.70396043  1.14179624  1.34164035]\n",
            " [ 1.35002731  0.92743884  0.76327527]\n",
            " [ 1.05328063  0.49332883  0.54711934]\n",
            " [ 0.76292959  1.27044114  1.07389817]\n",
            " [ 0.7711976   0.27886477  0.99279481]\n",
            " [ 1.23779327  0.42668902  0.89609392]\n",
            " [ 1.08134309  0.96252962  1.07486829]\n",
            " [ 0.98665822  0.67739346  0.67136849]\n",
            " [ 1.08274692  1.0544125   1.24472124]\n",
            " [ 1.22152525  0.84770686  0.87885623]\n",
            " [ 1.08145232  0.89222035  1.07928877]\n",
            " [ 1.1593613   1.18692991  0.71575139]\n",
            " [ 0.64640178  0.31654157  0.95616498]\n",
            " [ 0.4014808   0.75276298  0.91971862]\n",
            " [ 0.5986474   0.82715253  0.40706962]\n",
            " [ 0.36592587  1.07831603  0.73729775]\n",
            " [ 0.46471089  0.77554413  1.14790619]\n",
            " [ 0.56454632  0.89154001  0.46194055]\n",
            " [-7.01077157 -6.42183774 -6.63500135]\n",
            " [ 2.38717284  2.70699353  1.36021745]\n",
            " [ 0.79203802  0.49843331  1.17291202]\n",
            " [ 0.76799084  1.07153179  0.45693539]\n",
            " [ 0.2277344   1.13925265  1.21315493]\n",
            " [ 0.90239267  0.74311103  0.55100101]\n",
            " [ 0.35773471  0.43213872  0.92663205]\n",
            " [ 0.9625662   0.94684359  0.657425  ]\n",
            " [ 1.15900377  0.95982012  0.9318753 ]\n",
            " [ 0.89608141  0.7374636   0.62535408]\n",
            " [ 0.62947018  1.00223876  0.3918456 ]\n",
            " [ 0.42446508  0.38235027  0.41797247]\n",
            " [ 1.13869723  0.94606917  0.85126571]\n",
            " [ 0.46138759  0.78868453  0.85109688]\n",
            " [ 0.44414005  0.65661171  0.77607087]\n",
            " [ 0.98129887  0.92243917  0.42229027]\n",
            " [ 0.68672645  0.86237457  0.8794946 ]\n",
            " [ 1.18507411  0.91459021  0.53986101]\n",
            " [ 0.40816398  0.89595369  0.40424107]\n",
            " [ 0.93448977  1.20904685  0.95190337]\n",
            " [-6.67490259 -6.30977305 -6.71695058]\n",
            " [ 2.29414017  2.92053496  0.77348914]\n",
            " [ 1.23708104  1.0810779   0.57315051]\n",
            " [ 0.56663428  0.73292735  0.39699266]\n",
            " [ 0.29709194  0.85980271  0.44791735]\n",
            " [ 0.5257381   1.17888152  0.40079943]\n",
            " [ 1.01593025  0.46396225  0.49521053]\n",
            " [ 0.94490232  0.91566774  1.25469909]\n",
            " [ 0.93937622  1.02557141  0.65922639]\n",
            " [ 0.46197991  1.06846648  1.18429988]\n",
            " [ 1.26408292  0.65715821  0.74924284]\n",
            " [ 1.08495506  0.67710634  1.30789212]\n",
            " [ 1.14178458  0.67150398  1.1277366 ]\n",
            " [ 1.11809241  0.40031756  1.28006054]\n",
            " [ 0.77630501  1.04939582  0.69732711]\n",
            " [ 1.26089274  0.67671527  0.38773767]\n",
            " [ 1.21752628  0.32801661  0.69542865]\n",
            " [ 1.2786333   1.20676129  0.95012805]\n",
            " [ 0.96936531  0.70224746  0.67073776]\n",
            " [ 0.67739325  0.94149544  1.12862818]]\n",
            "[5.37451229 5.95068648 5.73196611]\n",
            "(140, 3)\n",
            "(3,)\n"
          ]
        }
      ]
    },
    {
      "cell_type": "code",
      "metadata": {
        "colab": {
          "base_uri": "https://localhost:8080/"
        },
        "id": "Xl-Lz21mbC7v",
        "outputId": "05138d85-f57b-4cbf-9571-1712fc66f60f"
      },
      "source": [
        "!ls"
      ],
      "execution_count": null,
      "outputs": [
        {
          "output_type": "stream",
          "name": "stdout",
          "text": [
            " b.npy\t\t\t\t  dcase.ipynb\t      mocktest_set      W.npy\n",
            " ClassifierOldMFCCVariant.ipynb   GMM.ipynb\t      OldLogReg.ipynb\n",
            "'Copy of GMM.ipynb'\t\t  LogReg.ipynb\t      val_set\n",
            "'Copy of LogReg.ipynb'\t\t 'MLSP AED.gslides'   val_set_old\n"
          ]
        }
      ]
    },
    {
      "cell_type": "code",
      "metadata": {
        "id": "DNTnjG4vbDLW"
      },
      "source": [
        ""
      ],
      "execution_count": null,
      "outputs": []
    }
  ]
}