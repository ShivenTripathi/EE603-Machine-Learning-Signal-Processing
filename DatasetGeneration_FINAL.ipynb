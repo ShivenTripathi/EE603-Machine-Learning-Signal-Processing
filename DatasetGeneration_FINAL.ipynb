{
  "nbformat": 4,
  "nbformat_minor": 0,
  "metadata": {
    "colab": {
      "name": "DatasetGeneration_FINAL.ipynb",
      "provenance": [],
      "collapsed_sections": []
    },
    "kernelspec": {
      "name": "python3",
      "display_name": "Python 3"
    },
    "language_info": {
      "name": "python"
    }
  },
  "cells": [
    {
      "cell_type": "code",
      "metadata": {
        "id": "nJd36GQcES-S"
      },
      "source": [
        "import librosa"
      ],
      "execution_count": null,
      "outputs": []
    },
    {
      "cell_type": "code",
      "metadata": {
        "id": "6CX6V3eGEV9D"
      },
      "source": [
        "A, _ = librosa.load('/content/drive/MyDrive/val_set/speech_and_music/music_long.wav', duration=600, sr=16000)\n",
        "B, _ = librosa.load('/content/drive/MyDrive/val_set/speech_and_music/speech_indian.wav', duration=600, sr=16000)\n",
        "C, _ = librosa.load('/content/drive/MyDrive/val_set/speech_and_music/speech_indian.wav', offset=960, duration=600, sr=16000)\n"
      ],
      "execution_count": null,
      "outputs": []
    },
    {
      "cell_type": "code",
      "metadata": {
        "id": "VARwKMihG5OF"
      },
      "source": [
        "D, _ = librosa.load('/content/drive/MyDrive/val_set/speech_and_music/speech_indian.wav', offset=34*60, duration=600, sr=16000)"
      ],
      "execution_count": null,
      "outputs": []
    },
    {
      "cell_type": "code",
      "metadata": {
        "id": "ftKt8GDjHhgL"
      },
      "source": [
        "E, _ = librosa.load('/content/drive/MyDrive/val_set/speech_and_music/Spiritual.wav', duration=1200, sr=16000)"
      ],
      "execution_count": null,
      "outputs": []
    },
    {
      "cell_type": "code",
      "metadata": {
        "id": "vMMb3Oe3JChT"
      },
      "source": [
        "F, _ = librosa.load('/content/drive/MyDrive/val_set/speech_and_music/AnneHathway.wav', duration=600, sr=16000)"
      ],
      "execution_count": null,
      "outputs": []
    },
    {
      "cell_type": "code",
      "metadata": {
        "id": "xtzBtZTlR2iB"
      },
      "source": [
        "G, _ = librosa.load('/content/drive/MyDrive/val_set/speech_and_music/RockMusic.wav', duration=600, sr=16000)"
      ],
      "execution_count": null,
      "outputs": []
    },
    {
      "cell_type": "code",
      "metadata": {
        "id": "bhFC7QPXRx2l"
      },
      "source": [
        "Atif_Aslam = A\n",
        "S_Trivedi = B\n",
        "AudioBook = C\n",
        "R_Madhavan = D\n",
        "Hanuman_Chalisa = E\n",
        "Anne_Hathway = F\n",
        "Rock_Music = G"
      ],
      "execution_count": null,
      "outputs": []
    },
    {
      "cell_type": "code",
      "metadata": {
        "id": "4QFeLfBoTn7P"
      },
      "source": [
        "import numpy as np"
      ],
      "execution_count": null,
      "outputs": []
    },
    {
      "cell_type": "code",
      "metadata": {
        "id": "cZuRybs5UKqh"
      },
      "source": [
        "Atif_Aslam = Atif_Aslam.reshape(-1, 160000)\n",
        "S_Trivedi = S_Trivedi.reshape(-1, 160000)\n",
        "AudioBook = AudioBook.reshape(-1, 160000)\n",
        "R_Madhavan = R_Madhavan.reshape(-1, 160000)\n",
        "Hanuman_Chalisa = Hanuman_Chalisa.reshape(-1, 160000)\n",
        "Anne_Hathway = Anne_Hathway.reshape(-1, 160000)\n",
        "Rock_Music = Rock_Music.reshape(-1, 160000)\n"
      ],
      "execution_count": null,
      "outputs": []
    },
    {
      "cell_type": "code",
      "metadata": {
        "id": "fnL5w_0vSkvO"
      },
      "source": [
        "Audios = []\n",
        "Labels = []\n",
        "for i in Atif_Aslam:\n",
        "  Audios.append(i)\n",
        "  Labels.append('music')\n",
        "\n",
        "for i in S_Trivedi:\n",
        "  Audios.append(i)\n",
        "  Labels.append('speech')\n",
        "\n",
        "for i in AudioBook:\n",
        "  Audios.append(i)\n",
        "  Labels.append('speech')\n",
        "\n",
        "for i in R_Madhavan:\n",
        "  Audios.append(i)\n",
        "  Labels.append('speech')\n",
        "\n",
        "for i in Hanuman_Chalisa:\n",
        "  Audios.append(i)\n",
        "  Labels.append('music')\n",
        "\n",
        "for i in Anne_Hathway:\n",
        "  Audios.append(i)\n",
        "  Labels.append('speech')\n",
        "\n",
        "for i in Rock_Music:\n",
        "  Audios.append(i)\n",
        "  Labels.append('music')\n",
        "\n",
        "\n",
        "Audios = np.array(Audios)\n",
        "Labels = np.array(Labels)"
      ],
      "execution_count": null,
      "outputs": []
    },
    {
      "cell_type": "code",
      "metadata": {
        "id": "OZntJejaTVbn"
      },
      "source": [
        "np.save('/content/drive/MyDrive/val_set/speech_and_music/Audios', Audios)\n",
        "np.save('/content/drive/MyDrive/val_set/speech_and_music/Labels', Labels)\n"
      ],
      "execution_count": null,
      "outputs": []
    }
  ]
}